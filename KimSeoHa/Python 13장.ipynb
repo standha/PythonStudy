{
 "cells": [
  {
   "cell_type": "code",
   "execution_count": 1,
   "id": "9cb72794",
   "metadata": {},
   "outputs": [
    {
     "name": "stdout",
     "output_type": "stream",
     "text": [
      "hi!\n",
      "My name is Python!\n"
     ]
    }
   ],
   "source": [
    "#함수 정의\n",
    "def hi():\n",
    "    print('hi!')\n",
    "    print('My name is Python!')\n",
    "hi()   #함수 호출"
   ]
  },
  {
   "cell_type": "code",
   "execution_count": 2,
   "id": "3436395b",
   "metadata": {},
   "outputs": [
    {
     "name": "stdout",
     "output_type": "stream",
     "text": [
      "hi!\n",
      "My name is dragon !\n"
     ]
    }
   ],
   "source": [
    "#매개변수\n",
    "def hi(name):\n",
    "    print('hi!')\n",
    "    print('My name is',name,'!')\n",
    "hi(name='dragon')   #함수 호출"
   ]
  },
  {
   "cell_type": "code",
   "execution_count": 3,
   "id": "826f2658",
   "metadata": {},
   "outputs": [
    {
     "name": "stdout",
     "output_type": "stream",
     "text": [
      "hi!\n",
      "My name is dragon and my job is programmer !\n"
     ]
    }
   ],
   "source": [
    "#매개변수 2개\n",
    "def hi(name,job):\n",
    "    print('hi!')\n",
    "    print('My name is',name,'and my job is',job,'!')\n",
    "hi('dragon','programmer')   #함수 호출"
   ]
  },
  {
   "cell_type": "code",
   "execution_count": 4,
   "id": "e73ca1a9",
   "metadata": {},
   "outputs": [
    {
     "name": "stdout",
     "output_type": "stream",
     "text": [
      "hi!\n",
      "My name is A !\n",
      "hi!\n",
      "My name is B !\n",
      "hi!\n",
      "My name is C !\n"
     ]
    }
   ],
   "source": [
    "def hi(name='A'):\n",
    "    print('hi!')\n",
    "    print('My name is',name,'!')\n",
    "hi()        \n",
    "hi('B')    #위치 인자\n",
    "hi(name='C')  #키워드 인자"
   ]
  },
  {
   "cell_type": "code",
   "execution_count": 6,
   "id": "2181be1f",
   "metadata": {},
   "outputs": [
    {
     "name": "stdout",
     "output_type": "stream",
     "text": [
      "1335\n"
     ]
    }
   ],
   "source": [
    "#return\n",
    "def plus(num1,num2):\n",
    "    result=num1+num2\n",
    "    return result  #함수 외부로 값 전달\n",
    "print(plus(486,849))"
   ]
  },
  {
   "cell_type": "code",
   "execution_count": 7,
   "id": "1e3ed2cc",
   "metadata": {},
   "outputs": [
    {
     "name": "stdout",
     "output_type": "stream",
     "text": [
      "첫 번째 숫자: 5\n",
      "두 번째 숫자: 3\n",
      "두 수의 합:  8\n"
     ]
    }
   ],
   "source": [
    "def plus(num1,num2):\n",
    "    result=num1+num2\n",
    "    return result  #함수 외부로 값 전달\n",
    "\n",
    "a,b=int(input('첫 번째 숫자: ')),int(input('두 번째 숫자: '))\n",
    "sum_ab=plus(a,b)\n",
    "print('두 수의 합: ',sum_ab)"
   ]
  },
  {
   "cell_type": "code",
   "execution_count": 8,
   "id": "3df80c9f",
   "metadata": {},
   "outputs": [
    {
     "name": "stdout",
     "output_type": "stream",
     "text": [
      "합격입니다! 점수는 82.5\n"
     ]
    }
   ],
   "source": [
    "def calculate_score(kor,eng,mat):\n",
    "    score=kor*0.3+eng*0.3+mat*0.4\n",
    "    return score\n",
    "\n",
    "student1=calculate_score(99,80,72) \n",
    "if student1>80:\n",
    "    print('합격입니다! 점수는',student1)\n",
    "else:\n",
    "    print('불합격입니다. 점수는',student1)"
   ]
  },
  {
   "cell_type": "code",
   "execution_count": 9,
   "id": "2ee5d8a4",
   "metadata": {},
   "outputs": [
    {
     "name": "stdout",
     "output_type": "stream",
     "text": [
      "환산점수: 82.5 합격 여부: yes\n"
     ]
    }
   ],
   "source": [
    "def calculate_score_pass(kor,eng,mat):\n",
    "    score=kor*0.3+eng*0.3+mat*0.4\n",
    "    if student1>80:\n",
    "        pass_y='yes'\n",
    "    else:\n",
    "        pass_y='no'\n",
    "    return score,pass_y\n",
    "\n",
    "a,b=calculate_score_pass(99,80,72)\n",
    "print('환산점수:',a,'합격 여부:',b)"
   ]
  },
  {
   "cell_type": "code",
   "execution_count": 10,
   "id": "96c04b05",
   "metadata": {},
   "outputs": [
    {
     "name": "stdout",
     "output_type": "stream",
     "text": [
      "자기소개를 시작합니다.\n",
      "이름은: 서하\n",
      "hi\n",
      "My name is 서하 !\n",
      "서하 님 환영합니다.\n"
     ]
    }
   ],
   "source": [
    "def hi():\n",
    "    name=input('이름은: ')\n",
    "    print('hi')\n",
    "    print('My name is',name,'!')\n",
    "    return name\n",
    "\n",
    "print('자기소개를 시작합니다.')\n",
    "person=hi()\n",
    "print(person,'님 환영합니다.')"
   ]
  },
  {
   "cell_type": "code",
   "execution_count": 11,
   "id": "da5ea46f",
   "metadata": {},
   "outputs": [
    {
     "name": "stdout",
     "output_type": "stream",
     "text": [
      "7 20\n",
      "9 40\n",
      "11 80\n",
      "13 160\n",
      "15 320\n"
     ]
    }
   ],
   "source": [
    "def func1():\n",
    "    global a,b\n",
    "    a+=2\n",
    "    b*=2\n",
    "    print(a,b)\n",
    "a,b=5,10\n",
    "for i in range(5):\n",
    "    func1()"
   ]
  },
  {
   "cell_type": "code",
   "execution_count": 12,
   "id": "1f87ab5e",
   "metadata": {},
   "outputs": [
    {
     "name": "stdout",
     "output_type": "stream",
     "text": [
      "현재 점수 :  5\n",
      "상점 입력 후 점수:  10\n",
      "최종 점수:  10\n"
     ]
    }
   ],
   "source": [
    "#상벌점\n",
    "def reward_penalty(kind,points):\n",
    "    global current_point    #전역변수를 함수 내부에서도 사용할 수 있게 만들어줌(global)\n",
    "    print('현재 점수 : ',current_point)\n",
    "    if kind=='상점':\n",
    "        current_point+=points\n",
    "        print('상점 입력 후 점수: ',current_point)\n",
    "    elif kind=='벌점':\n",
    "        current_point-=points\n",
    "        print('벌점 입력 후 점수: ',current_point)\n",
    "    return current_point\n",
    "\n",
    "current_point=5\n",
    "reward_penalty('상점',5)\n",
    "print('최종 점수: ',current_point)"
   ]
  },
  {
   "cell_type": "code",
   "execution_count": 14,
   "id": "cba46641",
   "metadata": {},
   "outputs": [
    {
     "name": "stdout",
     "output_type": "stream",
     "text": [
      "구구단을 외자 구구단을 외자\n",
      "5x9?45\n",
      "4x8?6\n",
      "땡! 정답은 32\n"
     ]
    }
   ],
   "source": [
    "#구구단\n",
    "import random\n",
    "\n",
    "def gugudan(num1,num2):\n",
    "    answer=int(input(str(num1)+'x'+str(num2)+'?'))\n",
    "    \n",
    "    if answer==num1*num2:\n",
    "        return 0\n",
    "    else:\n",
    "        print('땡! 정답은',num1*num2)\n",
    "        return -1\n",
    "        \n",
    "print('구구단을 외자 구구단을 외자')\n",
    "for i in range(20):\n",
    "    a,b=random.randint(2,9),random.randint(1,9)\n",
    "    if gugudan(a,b)!=0:\n",
    "        break"
   ]
  },
  {
   "cell_type": "code",
   "execution_count": 4,
   "id": "2261da4e",
   "metadata": {},
   "outputs": [
    {
     "name": "stdout",
     "output_type": "stream",
     "text": [
      "팅 팅팅팅 탱 탱탱탱 팅팅 탱탱 프라이팬 놀이\n",
      "이름? 토끼\n",
      "횟수? 4\n",
      "토끼토끼토끼토끼\n",
      "이름? 강아지\n",
      "횟수? 5\n",
      "1-4의 숫자만 가능합니다. 입력한 숫자 5\n"
     ]
    }
   ],
   "source": [
    "players=['토끼','강아지','까지','고양이','참새']\n",
    "\n",
    "def game_play(name,cnt):\n",
    "    print(name*cnt)\n",
    "\n",
    "def wrong_play(name,cnt):\n",
    "    if name not in players:\n",
    "        print(name,'은/는 없는 이름입니다.')\n",
    "        return -1\n",
    "    if cnt<1 or cnt>4:\n",
    "        print('1-4의 숫자만 가능합니다. 입력한 숫자',cnt)\n",
    "        return -1\n",
    "    \n",
    "print('팅 팅팅팅 탱 탱탱탱 팅팅 탱탱 프라이팬 놀이')\n",
    "for i in range(20):\n",
    "    next_player,count=input('이름? '),int(input('횟수? '))\n",
    "    check=wrong_play(next_player,count)\n",
    "    if check==-1:\n",
    "        break;\n",
    "    else:\n",
    "        game_play(next_player,count)"
   ]
  },
  {
   "cell_type": "code",
   "execution_count": 5,
   "id": "09ce7edf",
   "metadata": {},
   "outputs": [
    {
     "name": "stdout",
     "output_type": "stream",
     "text": [
      "핫플레이스가 위치한 행정동을 입력하세요.--> 압구정동\n",
      "압구정동 - 11680545 을(를) 분석합니다.\n"
     ]
    },
    {
     "data": {
      "image/png": "[encoded data removed]",
      "text/plain": [
       "<Figure size 432x288 with 1 Axes>"
      ]
     },
     "metadata": {
      "needs_background": "light"
     },
     "output_type": "display_data"
    }
   ],
   "source": [
    "import matplotlib.pyplot as plt\n",
    "import csv\n",
    "#데이터 읽는 힘수\n",
    "def file_open():\n",
    "    #파일 읽기\n",
    "    f=open('LOCAL_PEOPLE_DONG_201912.csv',encoding='utf8')\n",
    "    data=csv.reader(f)\n",
    "    next(data)\n",
    "    data=list(data)\n",
    "\n",
    "    f2=open('dong_code.csv')\n",
    "    code_data=csv.reader(f2)\n",
    "    next(code_data)\n",
    "    next(code_data) #헤더가 두줄임\n",
    "    code_data=list(code_data)\n",
    "\n",
    "    #데이터 타입 변환\n",
    "    for row in data:\n",
    "        for i in range(1,32):\n",
    "            if i<=2:\n",
    "                row[i]=int(row[i])\n",
    "            else:\n",
    "                row[i]=float(row[i])\n",
    "    #행정동코드 변환하기        \n",
    "    for row in code_data:\n",
    "        row[1]=int(row[1])\n",
    "    return data,code_data\n",
    "\n",
    "#행정동명을 입력받으면 행정동 코드 알려주는 함수\n",
    "def dong_search(dong_name):\n",
    "    for row in code_data:\n",
    "        if row[-1]==dong_name:\n",
    "            code=row[1]\n",
    "    print(dong_name,'-',code,'을(를) 분석합니다.')\n",
    "    return code\n",
    "\n",
    "#그래프 그리기\n",
    "def graph_plot(popu_list,label_list,graph_title):\n",
    "    plt.rc('font',family='Malgun Gothic')\n",
    "    plt.title(graph_title)\n",
    "    for i in range(len(popu_list)):\n",
    "        plt.plot(range(24),popu_list[i],label=label_list[i])\n",
    "    plt.legend()\n",
    "    plt.xlabel('시간대')\n",
    "    plt.ylabel('평균인구수')\n",
    "    plt.xticks(range(24),range(24))\n",
    "    plt.show()\n",
    "    \n",
    "#입력된 행정동의 시간대별 평균인구 구하기\n",
    "def analysis1(dong_name,dong_code):\n",
    "    population=[0 for i in range(24)]\n",
    "    for row in data:\n",
    "        if row[2]==dong_code:\n",
    "            time,p=row[1],row[3]\n",
    "            population[time]+=p\n",
    "    population=[p/31 for p in population]\n",
    "    \n",
    "    population=[population]\n",
    "    labels=['평균인구']\n",
    "    title=dong_name+' 시간대별 평균인구'\n",
    "    graph_plot(popu_list=population,label_list=labels,graph_title=title)\n",
    "    \n",
    "#메인\n",
    "data,code_data=file_open()\n",
    "\n",
    "input_name=input('핫플레이스가 위치한 행정동을 입력하세요.--> ')\n",
    "input_code=dong_search(input_name)\n",
    "\n",
    "analysis1(input_name,input_code)"
   ]
  },
  {
   "cell_type": "code",
   "execution_count": 8,
   "id": "da301d25",
   "metadata": {},
   "outputs": [
    {
     "name": "stdout",
     "output_type": "stream",
     "text": [
      "핫플레이스가 위치한 행정동을 입력하세요.--> 압구정동\n",
      "압구정동 - 11680545 을(를) 분석합니다.\n"
     ]
    },
    {
     "data": {
      "image/png": "[encoded data removed]",
      "text/plain": [
       "<Figure size 432x288 with 1 Axes>"
      ]
     },
     "metadata": {
      "needs_background": "light"
     },
     "output_type": "display_data"
    }
   ],
   "source": [
    "import matplotlib.pyplot as plt\n",
    "import csv\n",
    "import datetime\n",
    "#데이터 읽는 힘수\n",
    "def file_open():\n",
    "    #파일 읽기\n",
    "    f=open('LOCAL_PEOPLE_DONG_201912.csv',encoding='utf8')\n",
    "    data=csv.reader(f)\n",
    "    next(data)\n",
    "    data=list(data)\n",
    "\n",
    "    f2=open('dong_code.csv')\n",
    "    code_data=csv.reader(f2)\n",
    "    next(code_data)\n",
    "    next(code_data) #헤더가 두줄임\n",
    "    code_data=list(code_data)\n",
    "\n",
    "    #데이터 타입 변환\n",
    "    for row in data:\n",
    "        for i in range(1,32):\n",
    "            if i<=2:\n",
    "                row[i]=int(row[i])\n",
    "            else:\n",
    "                row[i]=float(row[i])\n",
    "    #행정동코드 변환하기        \n",
    "    for row in code_data:\n",
    "        row[1]=int(row[1])\n",
    "    return data,code_data\n",
    "\n",
    "#행정동명을 입력받으면 행정동 코드 알려주는 함수\n",
    "def dong_search(dong_name):\n",
    "    for row in code_data:\n",
    "        if row[-1]==dong_name:\n",
    "            code=row[1]\n",
    "    print(dong_name,'-',code,'을(를) 분석합니다.')\n",
    "    return code\n",
    "\n",
    "#그래프 그리기\n",
    "def graph_plot(popu_list,label_list,graph_title):\n",
    "    plt.rc('font',family='Malgun Gothic')\n",
    "    plt.title(graph_title)\n",
    "    for i in range(len(popu_list)):\n",
    "        plt.plot(range(24),popu_list[i],label=label_list[i])\n",
    "    plt.legend()\n",
    "    plt.xlabel('시간대')\n",
    "    plt.ylabel('평균인구수')\n",
    "    plt.xticks(range(24),range(24))\n",
    "    plt.show()\n",
    "    \n",
    "def analysis2(dong_name,dong_code):\n",
    "    weekday=[0 for i in range(24)]\n",
    "    weekend=[0 for i in range(24)]\n",
    "    for row in data:\n",
    "        if row[2]==dong_code:\n",
    "            time,p=row[1],row[3]\n",
    "            year,mon,day=int(row[0][:4]),int(row[0][4:6]),int(row[0][6:])\n",
    "            num=datetime.date(year,mon,day).weekday()\n",
    "            if num<5:\n",
    "                weekday[time]+=p\n",
    "            else:\n",
    "                weekend[time]+=p\n",
    "    weekday_cnt,weekend_cnt=0,0\n",
    "    \n",
    "    for i in range(1,32):\n",
    "        if datetime.date(2019,12,i).weekday()<5:\n",
    "            weekday_cnt+=1\n",
    "        else:\n",
    "            weekend_cnt+=1\n",
    "    \n",
    "    weekend=[w/weekend_cnt for w in weekend]\n",
    "    weekday=[w/weekday_cnt for w in weekday]\n",
    "    \n",
    "    data_set=[weekday,weekend]\n",
    "    labels=['주중','주말']\n",
    "    title=dong_name+' 주중/주말 시간대별 평균인구'\n",
    "    graph_plot(popu_list=data_set,label_list=labels,graph_title=title)\n",
    "    \n",
    "#메인\n",
    "data,code_data=file_open()\n",
    "\n",
    "input_name=input('핫플레이스가 위치한 행정동을 입력하세요.--> ')\n",
    "input_code=dong_search(input_name)\n",
    "\n",
    "analysis2(input_name,input_code)"
   ]
  },
  {
   "cell_type": "code",
   "execution_count": 9,
   "id": "6e5f2b03",
   "metadata": {},
   "outputs": [
    {
     "name": "stdout",
     "output_type": "stream",
     "text": [
      "핫플레이스가 위치한 행정동을 입력하세요.--> 압구정동\n",
      "압구정동 - 11680545 을(를) 분석합니다.\n"
     ]
    },
    {
     "data": {
      "image/png": "[encoded data removed]",
      "text/plain": [
       "<Figure size 432x288 with 1 Axes>"
      ]
     },
     "metadata": {
      "needs_background": "light"
     },
     "output_type": "display_data"
    }
   ],
   "source": [
    "import matplotlib.pyplot as plt\n",
    "import csv\n",
    "import datetime\n",
    "#데이터 읽는 힘수\n",
    "def file_open():\n",
    "    #파일 읽기\n",
    "    f=open('LOCAL_PEOPLE_DONG_201912.csv',encoding='utf8')\n",
    "    data=csv.reader(f)\n",
    "    next(data)\n",
    "    data=list(data)\n",
    "\n",
    "    f2=open('dong_code.csv')\n",
    "    code_data=csv.reader(f2)\n",
    "    next(code_data)\n",
    "    next(code_data) #헤더가 두줄임\n",
    "    code_data=list(code_data)\n",
    "\n",
    "    #데이터 타입 변환\n",
    "    for row in data:\n",
    "        for i in range(1,32):\n",
    "            if i<=2:\n",
    "                row[i]=int(row[i])\n",
    "            else:\n",
    "                row[i]=float(row[i])\n",
    "    #행정동코드 변환하기        \n",
    "    for row in code_data:\n",
    "        row[1]=int(row[1])\n",
    "    return data,code_data\n",
    "\n",
    "#행정동명을 입력받으면 행정동 코드 알려주는 함수\n",
    "def dong_search(dong_name):\n",
    "    for row in code_data:\n",
    "        if row[-1]==dong_name:\n",
    "            code=row[1]\n",
    "    print(dong_name,'-',code,'을(를) 분석합니다.')\n",
    "    return code\n",
    "\n",
    "#그래프 그리기\n",
    "def graph_plot(popu_list,label_list,graph_title):\n",
    "    plt.rc('font',family='Malgun Gothic')\n",
    "    plt.title(graph_title)\n",
    "    for i in range(len(popu_list)):\n",
    "        plt.plot(range(24),popu_list[i],label=label_list[i])\n",
    "    plt.legend()\n",
    "    plt.xlabel('시간대')\n",
    "    plt.ylabel('평균인구수')\n",
    "    plt.xticks(range(24),range(24))\n",
    "    plt.show()\n",
    "    \n",
    "def analysis3(dong_name,dong_code):\n",
    "    male=[0 for i in range(24)]\n",
    "    female=[0 for i in range(24)]\n",
    "    for row in data:\n",
    "        if row[2]==dong_code:\n",
    "            time=int(row[1])\n",
    "            male[time]+=sum(row[4:18])\n",
    "            female[time]+=sum(row[18:32])\n",
    "    male=[m/31 for m in male]\n",
    "    female=[f/31 for f in female]\n",
    "    \n",
    "    data_set=[male,female]\n",
    "    labels=['여성','남성']\n",
    "    title=dong_name+' 남녀 시간대별 평균인구'\n",
    "    graph_plot(popu_list=data_set,label_list=labels,graph_title=title)\n",
    "    \n",
    "#메인\n",
    "data,code_data=file_open()\n",
    "\n",
    "input_name=input('핫플레이스가 위치한 행정동을 입력하세요.--> ')\n",
    "input_code=dong_search(input_name)\n",
    "\n",
    "analysis3(input_name,input_code)"
   ]
  },
  {
   "cell_type": "code",
   "execution_count": 17,
   "id": "553cca77",
   "metadata": {},
   "outputs": [
    {
     "name": "stdout",
     "output_type": "stream",
     "text": [
      "핫플레이스가 위치한 행정동을 입력하세요.--> 압구정동\n",
      "압구정동 - 11680545 을(를) 분석합니다.\n",
      "비교할 행정동을 입력하세요.==> 역삼2동\n",
      "역삼2동 - 11680650 을(를) 분석합니다.\n"
     ]
    },
    {
     "data": {
      "image/png": "[encoded data removed]",
      "text/plain": [
       "<Figure size 432x288 with 1 Axes>"
      ]
     },
     "metadata": {
      "needs_background": "light"
     },
     "output_type": "display_data"
    }
   ],
   "source": [
    "import matplotlib.pyplot as plt\n",
    "import csv\n",
    "#데이터 읽는 힘수\n",
    "def file_open():\n",
    "    #파일 읽기\n",
    "    f=open('LOCAL_PEOPLE_DONG_201912.csv',encoding='utf8')\n",
    "    data=csv.reader(f)\n",
    "    next(data)\n",
    "    data=list(data)\n",
    "\n",
    "    f2=open('dong_code.csv')\n",
    "    code_data=csv.reader(f2)\n",
    "    next(code_data)\n",
    "    next(code_data) #헤더가 두줄임\n",
    "    code_data=list(code_data)\n",
    "\n",
    "    #데이터 타입 변환\n",
    "    for row in data:\n",
    "        for i in range(1,32):\n",
    "            if i<=2:\n",
    "                row[i]=int(row[i])\n",
    "            else:\n",
    "                row[i]=float(row[i])\n",
    "    #행정동코드 변환하기        \n",
    "    for row in code_data:\n",
    "        row[1]=int(row[1])\n",
    "    return data,code_data\n",
    "\n",
    "#행정동명을 입력받으면 행정동 코드 알려주는 함수\n",
    "def dong_search(dong_name):\n",
    "    for row in code_data:\n",
    "        if row[-1]==dong_name:\n",
    "            code=row[1]\n",
    "    print(dong_name,'-',code,'을(를) 분석합니다.')\n",
    "    return code\n",
    "\n",
    "#그래프 그리기\n",
    "def graph_plot(popu_list,label_list,graph_title):\n",
    "    plt.rc('font',family='Malgun Gothic')\n",
    "    plt.title(graph_title)\n",
    "    for i in range(len(popu_list)):\n",
    "        plt.plot(range(24),popu_list[i],label=label_list[i])\n",
    "    plt.legend()\n",
    "    plt.xlabel('시간대')\n",
    "    plt.ylabel('평균인구수')\n",
    "    plt.xticks(range(24),range(24))\n",
    "    plt.show()\n",
    "    \n",
    "#입력된 행정동의 시간대별 평균인구 구하기\n",
    "#graph_yn 매개변수 추가: 그래프 그리기가 필여하면 y 아니면 n\n",
    "def analysis1(dong_name,dong_code,graph_yn='y'):\n",
    "    population=[0 for i in range(24)]\n",
    "    for row in data:\n",
    "        if row[2]==dong_code:\n",
    "            time,p=row[1],row[3]\n",
    "            population[time]+=p\n",
    "    population=[p/31 for p in population]\n",
    "    \n",
    "    #그래프를 그리지 않는 경우 인구 리스트만 반환하고 종료\n",
    "    if graph_yn=='n':\n",
    "        return population\n",
    "    \n",
    "    population=[population]\n",
    "    labels=['평균인구']\n",
    "    title=dong_name+' 시간대별 평균인구'\n",
    "    graph_plot(popu_list=population,label_list=labels,graph_title=title)\n",
    "    \n",
    "def analysis4(dong_name1,dong_code1):\n",
    "    dong_name2=input('비교할 행정동을 입력하세요.==> ')\n",
    "    dong_code2=dong_search(dong_name2)\n",
    "    #두 지역의 시간대별 평균인구 구하기\n",
    "    population1=analysis1(dong_name=dong_name1,dong_code=dong_code1,graph_yn='n')\n",
    "    population2=analysis1(dong_name=dong_name2,dong_code=dong_code2,graph_yn='n')\n",
    "    \n",
    "    data_set=[population1,population2]\n",
    "    labels=[dong_name1,dong_name2]\n",
    "    title=dong_name1+'과 '+dong_name2+' 시간대별 평균인구'\n",
    "    graph_plot(popu_list=data_set,label_list=labels,graph_title=title)\n",
    "    \n",
    "#메인\n",
    "data,code_data=file_open()\n",
    "\n",
    "input_name=input('핫플레이스가 위치한 행정동을 입력하세요.--> ')\n",
    "input_code=dong_search(input_name)\n",
    "\n",
    "analysis4(dong_name1=input_name,dong_code1=input_code)"
   ]
  },
  {
   "cell_type": "code",
   "execution_count": 19,
   "id": "1bd4912c",
   "metadata": {},
   "outputs": [
    {
     "name": "stdout",
     "output_type": "stream",
     "text": [
      "핫플레이스는 언제 가야 가장 덜 붐빌까?\n",
      "핫플레이스가 위치한 행정동을 입력하세요.--> 여의동\n",
      "여의동 - 11560540 을(를) 분석합니다.\n",
      "1. 시간대별 평균인구는 어떻게 될까?\n",
      "2. 주중에 가야 할까, 주말에 가야 할까?\n",
      "3. 남성이 많을까, 여성이 많을까?\n",
      "4. 나에게 익숙한 지역과 비교해 얼마나 붐빌까?\n",
      "분석하고 싶은 내용의 번호를 입력해주세요.--> 3\n"
     ]
    },
    {
     "data": {
      "image/png": "[encoded data removed]",
      "text/plain": [
       "<Figure size 432x288 with 1 Axes>"
      ]
     },
     "metadata": {
      "needs_background": "light"
     },
     "output_type": "display_data"
    }
   ],
   "source": [
    "import matplotlib.pyplot as plt\n",
    "import csv\n",
    "#데이터 읽는 힘수\n",
    "def file_open():\n",
    "    #파일 읽기\n",
    "    f=open('LOCAL_PEOPLE_DONG_201912.csv',encoding='utf8')\n",
    "    data=csv.reader(f)\n",
    "    next(data)\n",
    "    data=list(data)\n",
    "\n",
    "    f2=open('dong_code.csv')\n",
    "    code_data=csv.reader(f2)\n",
    "    next(code_data)\n",
    "    next(code_data) #헤더가 두줄임\n",
    "    code_data=list(code_data)\n",
    "\n",
    "    #데이터 타입 변환\n",
    "    for row in data:\n",
    "        for i in range(1,32):\n",
    "            if i<=2:\n",
    "                row[i]=int(row[i])\n",
    "            else:\n",
    "                row[i]=float(row[i])\n",
    "    #행정동코드 변환하기        \n",
    "    for row in code_data:\n",
    "        row[1]=int(row[1])\n",
    "    return data,code_data\n",
    "\n",
    "#행정동명을 입력받으면 행정동 코드 알려주는 함수\n",
    "def dong_search(dong_name):\n",
    "    for row in code_data:\n",
    "        if row[-1]==dong_name:\n",
    "            code=row[1]\n",
    "    print(dong_name,'-',code,'을(를) 분석합니다.')\n",
    "    return code\n",
    "\n",
    "#그래프 그리기\n",
    "def graph_plot(popu_list,label_list,graph_title):\n",
    "    plt.rc('font',family='Malgun Gothic')\n",
    "    plt.title(graph_title)\n",
    "    for i in range(len(popu_list)):\n",
    "        plt.plot(range(24),popu_list[i],label=label_list[i])\n",
    "    plt.legend()\n",
    "    plt.xlabel('시간대')\n",
    "    plt.ylabel('평균인구수')\n",
    "    plt.xticks(range(24),range(24))\n",
    "    plt.show()\n",
    "    \n",
    "#입력된 행정동의 시간대별 평균인구 구하기\n",
    "#graph_yn 매개변수 추가: 그래프 그리기가 필여하면 y 아니면 n\n",
    "def analysis1(dong_name,dong_code,graph_yn='y'):\n",
    "    population=[0 for i in range(24)]\n",
    "    for row in data:\n",
    "        if row[2]==dong_code:\n",
    "            time,p=row[1],row[3]\n",
    "            population[time]+=p\n",
    "    population=[p/31 for p in population]\n",
    "    \n",
    "    #그래프를 그리지 않는 경우 인구 리스트만 반환하고 종료\n",
    "    if graph_yn=='n':\n",
    "        return population\n",
    "    \n",
    "    population=[population]\n",
    "    labels=['평균인구']\n",
    "    title=dong_name+' 시간대별 평균인구'\n",
    "    graph_plot(popu_list=population,label_list=labels,graph_title=title)\n",
    "\n",
    "def analysis2(dong_name,dong_code):\n",
    "    weekday=[0 for i in range(24)]\n",
    "    weekend=[0 for i in range(24)]\n",
    "    for row in data:\n",
    "        if row[2]==dong_code:\n",
    "            time,p=row[1],row[3]\n",
    "            year,mon,day=int(row[0][:4]),int(row[0][4:6]),int(row[0][6:])\n",
    "            num=datetime.date(year,mon,day).weekday()\n",
    "            if num<5:\n",
    "                weekday[time]+=p\n",
    "            else:\n",
    "                weekend[time]+=p\n",
    "    weekday_cnt,weekend_cnt=0,0\n",
    "    \n",
    "    for i in range(1,32):\n",
    "        if datetime.date(2019,12,i).weekday()<5:\n",
    "            weekday_cnt+=1\n",
    "        else:\n",
    "            weekend_cnt+=1\n",
    "    \n",
    "    weekend=[w/weekend_cnt for w in weekend]\n",
    "    weekday=[w/weekday_cnt for w in weekday]\n",
    "    \n",
    "    data_set=[weekday,weekend]\n",
    "    labels=['주중','주말']\n",
    "    title=dong_name+' 주중/주말 시간대별 평균인구'\n",
    "    graph_plot(popu_list=data_set,label_list=labels,graph_title=title)    \n",
    "    \n",
    "def analysis3(dong_name,dong_code):\n",
    "    male=[0 for i in range(24)]\n",
    "    female=[0 for i in range(24)]\n",
    "    for row in data:\n",
    "        if row[2]==dong_code:\n",
    "            time=int(row[1])\n",
    "            male[time]+=sum(row[4:18])\n",
    "            female[time]+=sum(row[18:32])\n",
    "    male=[m/31 for m in male]\n",
    "    female=[f/31 for f in female]\n",
    "    \n",
    "    data_set=[male,female]\n",
    "    labels=['여성','남성']\n",
    "    title=dong_name+' 남녀 시간대별 평균인구'\n",
    "    graph_plot(popu_list=data_set,label_list=labels,graph_title=title)     \n",
    "    \n",
    "def analysis4(dong_name1,dong_code1):\n",
    "    dong_name2=input('비교할 행정동을 입력하세요.==> ')\n",
    "    dong_code2=dong_search(dong_name2)\n",
    "    #두 지역의 시간대별 평균인구 구하기\n",
    "    population1=analysis1(dong_name=dong_name1,dong_code=dong_code1,graph_yn='n')\n",
    "    population2=analysis1(dong_name=dong_name2,dong_code=dong_code2,graph_yn='n')\n",
    "    \n",
    "    data_set=[population1,population2]\n",
    "    labels=[dong_name1,dong_name2]\n",
    "    title=dong_name1+'과 '+dong_name2+' 시간대별 평균인구'\n",
    "    graph_plot(popu_list=data_set,label_list=labels,graph_title=title)\n",
    "    \n",
    "#메인\n",
    "data,code_data=file_open()\n",
    "\n",
    "print('핫플레이스는 언제 가야 가장 덜 붐빌까?')\n",
    "\n",
    "input_name=input('핫플레이스가 위치한 행정동을 입력하세요.--> ')\n",
    "input_code=dong_search(input_name)\n",
    "\n",
    "print('1. 시간대별 평균인구는 어떻게 될까?')\n",
    "print('2. 주중에 가야 할까, 주말에 가야 할까?')\n",
    "print('3. 남성이 많을까, 여성이 많을까?')\n",
    "print('4. 나에게 익숙한 지역과 비교해 얼마나 붐빌까?')\n",
    "\n",
    "selection=int(input('분석하고 싶은 내용의 번호를 입력해주세요.--> '))\n",
    "\n",
    "if selection==1:\n",
    "    analysis1(dong_name=input_name,dong_code=input_code)\n",
    "elif selection==2:\n",
    "    analysis2(dong_name=input_name,dong_code=input_code)\n",
    "elif selection==3:\n",
    "    analysis3(dong_name=input_name,dong_code=input_code)\n",
    "elif selection==4:\n",
    "    analysis4(dong_name1=input_name,dong_code1=input_code)\n",
    "else:\n",
    "    print('잘못된 입력입니다.')"
   ]
  },
  {
   "cell_type": "code",
   "execution_count": 22,
   "id": "fbdb26d3",
   "metadata": {},
   "outputs": [
    {
     "name": "stdout",
     "output_type": "stream",
     "text": [
      "몇 단을 외울까요?--> 9\n",
      "9 x 1 = 9\n",
      "9 x 2 = 18\n",
      "9 x 3 = 27\n",
      "9 x 4 = 36\n",
      "9 x 5 = 45\n",
      "9 x 6 = 54\n",
      "9 x 7 = 63\n",
      "9 x 8 = 72\n",
      "9 x 9 = 81\n"
     ]
    }
   ],
   "source": [
    "#1\n",
    "def gugudan(num):\n",
    "    for i in range(1,10):\n",
    "        print(num,'x',i,'=',num*i)\n",
    "\n",
    "dan=int(input('몇 단을 외울까요?--> '))\n",
    "gugudan(dan)"
   ]
  },
  {
   "cell_type": "code",
   "execution_count": 23,
   "id": "8548a534",
   "metadata": {},
   "outputs": [
    {
     "name": "stdout",
     "output_type": "stream",
     "text": [
      "2 단-------\n",
      "2 x 1 = 2\n",
      "2 x 2 = 4\n",
      "2 x 3 = 6\n",
      "2 x 4 = 8\n",
      "2 x 5 = 10\n",
      "2 x 6 = 12\n",
      "2 x 7 = 14\n",
      "2 x 8 = 16\n",
      "2 x 9 = 18\n",
      "3 단-------\n",
      "3 x 1 = 3\n",
      "3 x 2 = 6\n",
      "3 x 3 = 9\n",
      "3 x 4 = 12\n",
      "3 x 5 = 15\n",
      "3 x 6 = 18\n",
      "3 x 7 = 21\n",
      "3 x 8 = 24\n",
      "3 x 9 = 27\n",
      "4 단-------\n",
      "4 x 1 = 4\n",
      "4 x 2 = 8\n",
      "4 x 3 = 12\n",
      "4 x 4 = 16\n",
      "4 x 5 = 20\n",
      "4 x 6 = 24\n",
      "4 x 7 = 28\n",
      "4 x 8 = 32\n",
      "4 x 9 = 36\n",
      "5 단-------\n",
      "5 x 1 = 5\n",
      "5 x 2 = 10\n",
      "5 x 3 = 15\n",
      "5 x 4 = 20\n",
      "5 x 5 = 25\n",
      "5 x 6 = 30\n",
      "5 x 7 = 35\n",
      "5 x 8 = 40\n",
      "5 x 9 = 45\n",
      "6 단-------\n",
      "6 x 1 = 6\n",
      "6 x 2 = 12\n",
      "6 x 3 = 18\n",
      "6 x 4 = 24\n",
      "6 x 5 = 30\n",
      "6 x 6 = 36\n",
      "6 x 7 = 42\n",
      "6 x 8 = 48\n",
      "6 x 9 = 54\n",
      "7 단-------\n",
      "7 x 1 = 7\n",
      "7 x 2 = 14\n",
      "7 x 3 = 21\n",
      "7 x 4 = 28\n",
      "7 x 5 = 35\n",
      "7 x 6 = 42\n",
      "7 x 7 = 49\n",
      "7 x 8 = 56\n",
      "7 x 9 = 63\n",
      "8 단-------\n",
      "8 x 1 = 8\n",
      "8 x 2 = 16\n",
      "8 x 3 = 24\n",
      "8 x 4 = 32\n",
      "8 x 5 = 40\n",
      "8 x 6 = 48\n",
      "8 x 7 = 56\n",
      "8 x 8 = 64\n",
      "8 x 9 = 72\n",
      "9 단-------\n",
      "9 x 1 = 9\n",
      "9 x 2 = 18\n",
      "9 x 3 = 27\n",
      "9 x 4 = 36\n",
      "9 x 5 = 45\n",
      "9 x 6 = 54\n",
      "9 x 7 = 63\n",
      "9 x 8 = 72\n",
      "9 x 9 = 81\n"
     ]
    }
   ],
   "source": [
    "#2\n",
    "def gugudan(num):\n",
    "    for i in range(1,10):\n",
    "        print(num,'x',i,'=',num*i)\n",
    "\n",
    "for i in range(2,10):\n",
    "    print(i,'단-------')\n",
    "    gugudan(i)"
   ]
  },
  {
   "cell_type": "code",
   "execution_count": 24,
   "id": "041b30a9",
   "metadata": {},
   "outputs": [
    {
     "name": "stdout",
     "output_type": "stream",
     "text": [
      "점수: 85\n",
      "등급은:  A\n"
     ]
    }
   ],
   "source": [
    "#3\n",
    "def cal_grade(score):\n",
    "    if score>=80:\n",
    "        grade='A'\n",
    "    elif score>=40:\n",
    "        grade='B'\n",
    "    else:\n",
    "        grade='C'\n",
    "        \n",
    "    return grade\n",
    "\n",
    "s=int(input('점수: '))\n",
    "print('등급은: ',cal_grade(s))"
   ]
  }
 ],
 "metadata": {
  "kernelspec": {
   "display_name": "Python 3 (ipykernel)",
   "language": "python",
   "name": "python3"
  },
  "language_info": {
   "codemirror_mode": {
    "name": "ipython",
    "version": 3
   },
   "file_extension": ".py",
   "mimetype": "text/x-python",
   "name": "python",
   "nbconvert_exporter": "python",
   "pygments_lexer": "ipython3",
   "version": "3.9.12"
  }
 },
 "nbformat": 4,
 "nbformat_minor": 5
}
