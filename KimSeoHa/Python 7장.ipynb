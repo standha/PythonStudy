{
 "cells": [
  {
   "cell_type": "code",
   "execution_count": 2,
   "id": "ffbdd46f",
   "metadata": {},
   "outputs": [
    {
     "name": "stdout",
     "output_type": "stream",
     "text": [
      "['깨어지다', '부서지다']\n"
     ]
    }
   ],
   "source": [
    "#딕셔너리\n",
    "eng={'break':['깨어지다','부서지다'],'bring':'가져오다','brush':'붓','brave':'용감한'} #키 값은 중복 가능 []안에 적기\n",
    "print(eng['break'])"
   ]
  },
  {
   "cell_type": "code",
   "execution_count": 4,
   "id": "ebb2ff99",
   "metadata": {},
   "outputs": [
    {
     "name": "stdout",
     "output_type": "stream",
     "text": [
      "{'김밥': 3000, '참치김밥': 3500, '라면': 3000}\n"
     ]
    }
   ],
   "source": [
    "#값 변경\n",
    "menu={'김밥':3500,'참치김밥':4000,'라면':3000}\n",
    "menu['참치김밥']=3500\n",
    "menu['김밥']-=500\n",
    "print(menu)"
   ]
  },
  {
   "cell_type": "code",
   "execution_count": 10,
   "id": "a7089b32",
   "metadata": {},
   "outputs": [
    {
     "name": "stdout",
     "output_type": "stream",
     "text": [
      "{'김밥': 3000, '참치김밥': 4000, '라면': 3000, ('돈까스', '라면'): 3500}\n",
      "추가할 메뉴는? 쫄면\n",
      "메뉴의 가격은? 4000\n",
      "{'김밥': 3000, '참치김밥': 4000, '라면': 3000, ('돈까스', '라면'): 3500, '쫄면': 4000}\n"
     ]
    }
   ],
   "source": [
    "#값 변경과 추가\n",
    "menu={'김밥':3500,'참치김밥':4000,'라면':3000}\n",
    "menu['돈까스','라면']=3500   #추가\n",
    "menu['김밥']-=500   #변경\n",
    "print(menu)\n",
    "\n",
    "name=input('추가할 메뉴는? ')\n",
    "price=int(input('메뉴의 가격은? '))\n",
    "menu[name]=price\n",
    "print(menu)"
   ]
  },
  {
   "cell_type": "code",
   "execution_count": 12,
   "id": "70a58f3f",
   "metadata": {},
   "outputs": [
    {
     "name": "stdout",
     "output_type": "stream",
     "text": [
      "{'김밥': 3500, '라면': 3000}\n"
     ]
    }
   ],
   "source": [
    "#삭제\n",
    "menu={'김밥':3500,'참치김밥':4000,'라면':3000}\n",
    "del menu['참치김밥']\n",
    "print(menu)"
   ]
  },
  {
   "cell_type": "code",
   "execution_count": 13,
   "id": "e603047d",
   "metadata": {},
   "outputs": [
    {
     "name": "stdout",
     "output_type": "stream",
     "text": [
      "dict_keys(['김밥', '참치김밥', '라면'])\n"
     ]
    }
   ],
   "source": [
    "#키만 꺼내기\n",
    "menu={'김밥':3500,'참치김밥':4000,'라면':3000}\n",
    "print(menu.keys())"
   ]
  },
  {
   "cell_type": "code",
   "execution_count": 14,
   "id": "2a9e5fc3",
   "metadata": {},
   "outputs": [
    {
     "name": "stdout",
     "output_type": "stream",
     "text": [
      "dict_values([3500, 4000, 3000])\n",
      "[3500, 4000, 3000]\n"
     ]
    }
   ],
   "source": [
    "#값만 꺼내기\n",
    "menu={'김밥':3500,'참치김밥':4000,'라면':3000}\n",
    "print(menu.values())\n",
    "print(list(menu.values()))   #데이터 타입을 list로 바꾸기"
   ]
  },
  {
   "cell_type": "code",
   "execution_count": 15,
   "id": "90a863af",
   "metadata": {},
   "outputs": [
    {
     "name": "stdout",
     "output_type": "stream",
     "text": [
      "[('김밥', 3500), ('참치김밥', 4000), ('라면', 3000)]\n"
     ]
    }
   ],
   "source": [
    "#키-값 꺼내기\n",
    "menu={'김밥':3500,'참치김밥':4000,'라면':3000}\n",
    "print(list(menu.items()))"
   ]
  },
  {
   "cell_type": "code",
   "execution_count": 23,
   "id": "c73325fa",
   "metadata": {},
   "outputs": [
    {
     "name": "stdout",
     "output_type": "stream",
     "text": [
      "['김밥', '라면', '참치김밥']\n",
      "[3000, 3500, 4000]\n",
      "[('김밥', 3500), ('라면', 3000), ('참치김밥', 4000)]\n",
      "[('참치김밥', 4000), ('라면', 3000), ('김밥', 3500)]\n",
      "[('참치김밥', 4000), ('라면', 3000)]\n"
     ]
    }
   ],
   "source": [
    "#딕셔너리 정렬\n",
    "menu={'김밥':3500,'참치김밥':4000,'라면':3000}\n",
    "print(sorted(menu.keys()))   #키만 정렬\n",
    "print(sorted(menu.values()))   #값만 정렬\n",
    "print(sorted(menu.items()))   #키-값 정렬\n",
    "\n",
    "print(sorted(menu.items(),reverse=True))\n",
    "print(sorted(menu.items(),reverse=True)[:2])  #높은 금액 2개"
   ]
  },
  {
   "cell_type": "code",
   "execution_count": 35,
   "id": "76e6de25",
   "metadata": {},
   "outputs": [
    {
     "name": "stdout",
     "output_type": "stream",
     "text": [
      "[('김밥', 3500), ('라면', 3000), ('참치김밥', 4000)]\n",
      "[('라면', 3000), ('김밥', 3500), ('참치김밥', 4000)]\n"
     ]
    }
   ],
   "source": [
    "#값으로 정렬\n",
    "import operator\n",
    "menu={'김밥':3500,'참치김밥':4000,'라면':3000}\n",
    "print(sorted(menu.items(),key=operator.itemgetter(0))) #키를 기준으로 정렬\n",
    "print(sorted(menu.items(),key=operator.itemgetter(1))) #값을 기준으로 정렬"
   ]
  },
  {
   "cell_type": "code",
   "execution_count": 37,
   "id": "d8485ff1",
   "metadata": {},
   "outputs": [
    {
     "name": "stdout",
     "output_type": "stream",
     "text": [
      "어떤 학생의 점수가 궁금한가요? 하윤\n",
      "86 점 입니다.\n"
     ]
    }
   ],
   "source": [
    "#조건문으로 딕셔너리 다루기\n",
    "midterm={'도윤':43,'하윤':86,'시우':76,'주원':94}\n",
    "student=input('어떤 학생의 점수가 궁금한가요? ')\n",
    "if student in midterm.keys():\n",
    "    print(midterm[student],'점 입니다.')"
   ]
  },
  {
   "cell_type": "code",
   "execution_count": 43,
   "id": "f4bc55c7",
   "metadata": {},
   "outputs": [
    {
     "name": "stdout",
     "output_type": "stream",
     "text": [
      "도윤 하윤 시우 주원 \n",
      "\n",
      "43 86 76 94 \n",
      "\n",
      "도윤 43 하윤 86 시우 76 주원 94 "
     ]
    }
   ],
   "source": [
    "#반복문으로 딕셔너리 다루기\n",
    "midterm={'도윤':43,'하윤':86,'시우':76,'주원':94}\n",
    "for k in midterm.keys():\n",
    "    print(k,end=' ')\n",
    "print('\\n')\n",
    "\n",
    "for v in midterm.values():\n",
    "    print(v,end=' ')\n",
    "print('\\n')\n",
    "\n",
    "for k in midterm.keys():\n",
    "    print(k,midterm[k],end=' ')"
   ]
  },
  {
   "cell_type": "code",
   "execution_count": 45,
   "id": "7d85ad60",
   "metadata": {},
   "outputs": [
    {
     "name": "stdout",
     "output_type": "stream",
     "text": [
      "['accosting', 'admission', 'adopt', 'again', 'alibaba', 'all', 'allowed', 'am', 'among', 'any', 'appeared', 'approaching', 'armed', 'arose', 'assemble', 'assembled', 'asses', 'away', 'back', 'bade', 'bags', 'bed', 'before', 'best', 'blindfolded', 'body', 'boiled', 'boiling', 'bottom', 'branches', 'brother', 'brothers', 'brought', 'buried', 'buying', 'by', 'came', 'captain', 'carried', 'carry', 'cassim', 'caused', 'cave', 'chalk', 'chests', 'city', 'civilities', 'climbed', 'closed', 'coat', 'cobbler', 'cogia', 'coin', 'come', 'coming', 'company', 'concluded', 'considerable', 'cottage', 'could', 'counted', 'courtyard', 'cut', 'cutting', 'dagger', 'danced', 'dancing', 'dancing-girl', 'day', 'death', 'deceased', 'delivered', 'destruction', 'detained', 'determined', 'dinner', 'direct', 'disguising', 'dish', 'door', 'down', 'dressed', 'drew', 'drinking', 'drove', 'due', 'dwelt', 'each', 'early', 'ease', 'elder', 'empty', 'entering', 'entertain', 'entrance', 'escape', 'every', 'exactly', 'expected', 'faggots', 'faithfulness', 'family', 'feet', 'felt', 'female', 'filled', 'find', 'fire', 'first', 'flew', 'fond', 'forced', 'forest', 'forget', 'fortune', 'forty', 'found', 'full', 'gained', 'garden', 'gave', 'girdle', 'go', 'gold', 'great', 'guest', 'habit', 'hand', 'hassan', 'hastily', 'have', 'having', 'heard', 'heart', 'herself', 'hid', 'himself', 'horse', 'horsemen', 'horses', 'house', 'however', 'immediately', 'immense', 'instantly', 'invited', 'is', 'itself', 'jar', 'jars', 'job', 'kettle', 'kill', 'kitchen', 'knew', 'lamp', 'large', 'later', 'led', 'length', 'let', 'letting', 'limbs', 'lived', 'load', 'loaded', 'lock', 'lodge', 'looked', 'lying', 'made', 'maintained', 'make', 'man', 'mangled', 'many', 'marked', 'marriage', 'married', 'master', 'may', 'mean', 'men', 'merchandise', 'merchant', 'moment', 'more', 'morgiana', 'morning', 'mules', 'mustapha', 'my', 'named', 'necessary', 'new', 'next', 'night', 'nineteen', 'no', 'not', 'obeyed', 'offered', 'often', 'oil', 'on', 'one', 'open', 'opened', 'opposite', 'ordered', 'other', 'out', 'over', 'own', 'parlor', 'passed', 'perceived', 'persia', 'pieces', 'plunged', 'poor', 'portmanteau', 'possessed', 'possession', 'pot', 'poured', 'preparing', 'presently', 'presents', 'pretended', 'proceeded', 'properly', 'put', 'quarters', 'quite', 'rage', 'ran', 'received', 'removed', 'replied', 'resolved', 'rest', 'return', 'reward', 'robber', 'robbers', 'rock', 'room', 'rose', 'said', 'same', 'saw', 'scheme', 'secret', 'sell', 'sent', 'sesame', 'set', 'several', 'sew', 'shop', 'short', 'shut', 'sir', 'sitting', 'six', 'slave', 'slaves', 'so', 'solemnity', 'some', 'son', 'sons', 'soon', 'sound', 'steam', 'stranger', 'street', 'suburbs', 'sufficient', 'supper', 'table', 'taking', 'ten', 'than', 'these', 'thick', 'thieves', 'thirty-nine', 'thought', 'time', 'times', 'to-night', 'together', 'told', 'took', 'town', 'traced', 'treasures', 'tree', 'troop', 'turning', 'two', 'under', 'until', 'up', 'upon', 'usual', 'valuable', 'ventured', 'very', 'waited', 'walls', 'way', 'wealth', 'welcomed', 'went', 'when', 'where', 'which', 'while', 'who', 'wife', 'will', 'within', 'without', 'wood', 'word', 'yet', 'your']\n"
     ]
    }
   ],
   "source": [
    "import operator\n",
    "\n",
    "alibaba = \"in a town of persia lived two brothers , sons of a poor man , one named cassim , the other alibaba . cassim , the elder , married a wife with a considerable fortune , and lived at his ease , but the wife of alibaba was as poor as himself . they dwelt in a mean cottage in the suburbs , and he maintained his family by cutting wood . alibaba was in the forest preparing to load his asses with the faggots he had cut , when he saw a troop of horsemen approaching . he hastily climbed a large thick tree , and hid himself among the branches . alibaba counted forty of them , each took a loaded portmanteau from his horse , and turning to the rock , said , open , sesame immediately a door opened , the robbers passed in , when the door shut of itself . in a short time the door opened again , and the robbers came out , who said , shut , sesame . the door instantly closed . alibaba ventured down , and approaching the rock , said , open , sesame . immediately the door flew open . he brought his asses , and took as many bags of gold coin as they could carry . alibaba told his brother the secret of the cave . cassim rose early next morning , and set out with ten mules loaded with great chests . he found the rock , and having said , open sesame , gained admission , where he found more treasures than he expected , which made him forget the word that caused the door to open . presently he heard the sound of horses feet , which he concluded to be the robbers , who instantly put him to death . alibaba drove to the forest , and on entering the cave , he found the body of his brother cut into quarters . he took the quarters , and put them upon one of his asses , and delivered the body to cassim wife . morgiana , a female slave in his brother house , was sent early next morning to a poor cobbler , and gave him two pieces of gold to go with her blindfolded , taking him into the room where the body was lying , bade him sew the mangled limbs together . mustapha obeyed , having received two pieces of gold , and was led blindfolded the same way back . cassim was buried with all due solemnity , and alibaba removed to the house of his deceased brother , of which he took possession . the captain of the troop resolved to find out who possessed the secret of entrance into his cave , and disguising himself , went to the city early one morning , when , accosting the cobbler , he was told of the job he had , who for six pieces of gold , allowed himself to be blindfolded , and traced out the house of cassim , which the robber marked with chalk . buying nineteen mules and thirty-nine large jars , one full of oil , and the rest empty , the captain put a man into each jar , properly armed , and then proceeded to the street where alibaba dwelt . sir , said he , i have brought this oil a great way to sell , as i am quite a stranger , will you let me put my mules into your courtyard , and direct me where i may lodge to-night ? alibaba welcomed the pretended oil merchant , offered him a bed in his own house , and invited his guest in to supper . morgiana , sitting up later that night than usual , her lamp went out . she took her oil pot in her hand , and approaching the first jar , the robber within said is it time , captain ? she replied , no , not yet . so she ran back to the kitchen , and brought out a large kettle , which she filled with oil , set it on a great wood fire , and as soon as it boiled , she went and poured into the jars sufficient of the boiling oil to kill every man within . the captain of the robbers arose to assemble his men . coming to the first jar , he felt the steam of the boiled oil ! he ran hastily to the rest , and found every one of his troop put to death . full of rage , he forced the lock of the door , and made his escape over the walls . without letting any one into the secret , alibaba and morgiana the next night buried the thirty-nine thieves at the bottom of the garden . the captain at length , however , determined to adopt a new scheme for the destruction of alibaba . he removed all the valuable merchandise from the cave to the city , and took a shop exactly opposite to alibaba house . alibaba son went every day to his shop . the pretended cogia hassan soon appeared to be very fond of alibaba son , offered him many presents , and often detained him to dinner . alibaba thought it was necessary to make some return to these civilities , and he invited cogia hassan to supper , morgiana carried in the first dish herself . the moment she looked at cogia hassan , she knew it was the pretended oil merchant . she sent the other slaves into the kitchen , and waited at table herself , and while cogia hassan was drinking , she perceived he had a dagger hid under his coat . she went away , and dressed herself in the habit of a dancing-girl . as soon as she appeared at the parlor door , her master ordered her to come in to entertain his guest with some of her best dancing . morgiana danced several times before the assembled company , until , coming opposite cogia hassan , she drew a dagger from her girdle and plunged it into the robber heart . as a reward for her faithfulness , alibaba gave her in marriage to his son , and at his death put them in possession of his immense wealth .\"\n",
    "\n",
    "vocab = {}\n",
    "word_list = alibaba.split()\n",
    "\n",
    "meaningless = ['.', ',', '!', '?', 'the', 'he', 'and', 'to', 'a', 'of', \n",
    "               'was', 'in', 'had', 'for', 'it', 'that', 'but', 'as', 'with', \n",
    "               'at', 'i', 'into', 'be', 'this', 'me', 'from', 'then', 'him', \n",
    "               'his', 'her', 'she','they', 'them', 'you']\n",
    "\n",
    "for w in word_list:\n",
    "    if w not in vocab:\n",
    "        vocab[w] = 1\n",
    "    else:\n",
    "        vocab[w] += 1\n",
    "for word in meaningless:\n",
    "    del vocab[word]\n",
    "print(sorted(vocab.keys()))"
   ]
  },
  {
   "cell_type": "code",
   "execution_count": 2,
   "id": "65b274a1",
   "metadata": {},
   "outputs": [
    {
     "name": "stdout",
     "output_type": "stream",
     "text": [
      "{'월요일': 'Mon', '화요일': 'Tue', '수요일': 'Wed', '목요일': 'Thu', '금요일': 'Fri', '토요일': 'Sat', '일요일': 'Sun'}\n"
     ]
    }
   ],
   "source": [
    "#1-1\n",
    "day = {'월요일':'Mon', '화요일':'Tue', '수요일':'Wed', '목요일':'Thu', '금요일':'Fri'}\n",
    "day['토요일']='Sat'\n",
    "day['일요일']='Sun'\n",
    "print(day)"
   ]
  },
  {
   "cell_type": "code",
   "execution_count": 1,
   "id": "f18ee713",
   "metadata": {},
   "outputs": [
    {
     "name": "stdout",
     "output_type": "stream",
     "text": [
      "{'월요일': 'Mon', '화요일': 'Tue', '수요일': 'Wed', '목요일': 'Thu', '금요일': 'Fri', '토요일': 'Sat', '일요일': 'SUN'}\n"
     ]
    }
   ],
   "source": [
    "#1-2\n",
    "day = {'월요일':'Mon', '화요일':'Tue', '수요일':'Wed', '목요일':'Thu', '금요일':'Fri'}\n",
    "day['토요일']='Sat'\n",
    "day['일요일']='SUN'\n",
    "print(day)"
   ]
  },
  {
   "cell_type": "code",
   "execution_count": 2,
   "id": "ba42ee82",
   "metadata": {},
   "outputs": [
    {
     "name": "stdout",
     "output_type": "stream",
     "text": [
      "{'월요일': 'Mon', '화요일': 'Tue', '목요일': 'Thu', '금요일': 'Fri', '토요일': 'Sat', '일요일': 'SUN'}\n"
     ]
    }
   ],
   "source": [
    "#1-3\n",
    "day = {'월요일':'Mon', '화요일':'Tue', '수요일':'Wed', '목요일':'Thu', '금요일':'Fri'}\n",
    "day['토요일']='Sat'\n",
    "day['일요일']='SUN'\n",
    "del day['수요일']\n",
    "print(day)"
   ]
  },
  {
   "cell_type": "code",
   "execution_count": 4,
   "id": "a7029ae2",
   "metadata": {},
   "outputs": [
    {
     "name": "stdout",
     "output_type": "stream",
     "text": [
      "{'역사대모험': 21000.0, '영단어': 9900.0, '파이썬': 17850.0, '여행에세이': 23100.0, '삼국지': 34650.0}\n"
     ]
    }
   ],
   "source": [
    "#2\n",
    "book={'역사대모험':20000,\n",
    "     '영단어':9000,\n",
    "     '파이썬':17000,\n",
    "     '여행에세이':22000,\n",
    "     '삼국지':33000}\n",
    "for k,v in book.items():\n",
    "    if v<=15000:\n",
    "        book[k]*=1.1\n",
    "    else:\n",
    "        book[k]*=1.05\n",
    "print(book)"
   ]
  },
  {
   "cell_type": "code",
   "execution_count": 6,
   "id": "d474733a",
   "metadata": {},
   "outputs": [
    {
     "name": "stdout",
     "output_type": "stream",
     "text": [
      "[('라이언', 956412), ('니니즈', 861832), ('어피치', 796354), ('프로도', 534840), ('네오', 387896)]\n"
     ]
    }
   ],
   "source": [
    "#3\n",
    "import operator\n",
    "ranking={'라이언':956412,\n",
    "        '어피치':796354,\n",
    "        '니니즈':861832,\n",
    "        '네오':387896,\n",
    "        '프로도':534840}\n",
    "print(sorted(ranking.items(),key=operator.itemgetter(1),reverse=True))"
   ]
  }
 ],
 "metadata": {
  "kernelspec": {
   "display_name": "Python 3 (ipykernel)",
   "language": "python",
   "name": "python3"
  },
  "language_info": {
   "codemirror_mode": {
    "name": "ipython",
    "version": 3
   },
   "file_extension": ".py",
   "mimetype": "text/x-python",
   "name": "python",
   "nbconvert_exporter": "python",
   "pygments_lexer": "ipython3",
   "version": "3.9.12"
  }
 },
 "nbformat": 4,
 "nbformat_minor": 5
}
