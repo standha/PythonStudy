{
 "cells": [
  {
   "cell_type": "code",
   "execution_count": 3,
   "id": "6ca5db22",
   "metadata": {},
   "outputs": [
    {
     "name": "stdout",
     "output_type": "stream",
     "text": [
      "12\n",
      "[1, 2, 3, 4, 5, 6, 7, 8, 9, 10, 11, 12]\n"
     ]
    }
   ],
   "source": [
    "#리스트\n",
    "spending_year=[1,2,3,4,5,6,7,8,9,10,11,12]\n",
    "print(len(spending_year))\n",
    "print(spending_year)"
   ]
  },
  {
   "cell_type": "code",
   "execution_count": 5,
   "id": "6b1c545c",
   "metadata": {},
   "outputs": [
    {
     "name": "stdout",
     "output_type": "stream",
     "text": [
      "3월 지출 변경 전:  [1, 2, 3, 4, 5]\n",
      "3월 지출 변경 후:  [1, 2, 13, 4, 5]\n"
     ]
    }
   ],
   "source": [
    "spending=[1,2,3,4,5]\n",
    "print('3월 지출 변경 전: ',spending)\n",
    "spending[2]+=10     #인덱스 2번 값 +10\n",
    "print('3월 지출 변경 후: ',spending)"
   ]
  },
  {
   "cell_type": "code",
   "execution_count": 6,
   "id": "40e1fb8e",
   "metadata": {},
   "outputs": [
    {
     "name": "stdout",
     "output_type": "stream",
     "text": [
      "1 월 지출은 1, 2 월 지출은 2, 3 월 지출은 3, 4 월 지출은 4, 5 월 지출은 5, "
     ]
    }
   ],
   "source": [
    "spending=[1,2,3,4,5]\n",
    "for i in range(len(spending)):     #for i in range(5)\n",
    "    print(i+1,'월 지출은',spending[i],end=', ')"
   ]
  },
  {
   "cell_type": "code",
   "execution_count": 13,
   "id": "fb86147d",
   "metadata": {},
   "outputs": [
    {
     "name": "stdout",
     "output_type": "stream",
     "text": [
      "피자\n",
      "떡볶이\n",
      "파스타\n",
      "파스타\n"
     ]
    }
   ],
   "source": [
    "#좋아하는 음식\n",
    "food=['피자','치킨','떡볶이','파스타']\n",
    "print(food[0])\n",
    "print(food[2])\n",
    "print(food[len(food)-1])\n",
    "print(food[-1])"
   ]
  },
  {
   "cell_type": "code",
   "execution_count": 14,
   "id": "e814aeae",
   "metadata": {},
   "outputs": [
    {
     "name": "stdout",
     "output_type": "stream",
     "text": [
      "['피자', '치킨', '떡볶이', '파스타', '감자칩']\n"
     ]
    }
   ],
   "source": [
    "#리스트 추가\n",
    "food=['피자','치킨','떡볶이','파스타']\n",
    "food.append('감자칩')\n",
    "print(food)"
   ]
  },
  {
   "cell_type": "code",
   "execution_count": 12,
   "id": "a43c3935",
   "metadata": {},
   "outputs": [
    {
     "name": "stdout",
     "output_type": "stream",
     "text": [
      "해야 할 일을 차례대로 입력해 주세요. \n",
      "선물 사기\n",
      "인강 듣기\n",
      "파이썬 공부하기\n",
      "책 읽기\n",
      "단어 외우기\n",
      "['선물 사기', '인강 듣기', '파이썬 공부하기', '책 읽기', '단어 외우기']\n"
     ]
    }
   ],
   "source": [
    "to_do=[]\n",
    "print('해야 할 일을 차례대로 입력해 주세요. ')\n",
    "for i in range(5):\n",
    "    to_do.append(input())\n",
    "print(to_do)"
   ]
  },
  {
   "cell_type": "code",
   "execution_count": 15,
   "id": "62b35ae9",
   "metadata": {},
   "outputs": [
    {
     "name": "stdout",
     "output_type": "stream",
     "text": [
      "['치킨', '떡볶이', '파스타']\n"
     ]
    }
   ],
   "source": [
    "#리스트 삭제하기\n",
    "food=['피자','치킨','떡볶이','파스타']\n",
    "food.remove('피자')      #=del food[0]\n",
    "print(food)"
   ]
  },
  {
   "cell_type": "code",
   "execution_count": 18,
   "id": "441e8787",
   "metadata": {},
   "outputs": [
    {
     "name": "stdout",
     "output_type": "stream",
     "text": [
      "3월부터 5월까지: [3, 4, 5]\n",
      "3월부터 5월까지: [3, 4, 5]\n",
      "1월부터 3월까지: [1, 2, 3]\n"
     ]
    }
   ],
   "source": [
    "#필요한 요소만 꺼내기\n",
    "spending=[1,2,3,4,5]\n",
    "print('3월부터 5월까지:',spending[2:5])\n",
    "print('3월부터 5월까지:',spending[2:])\n",
    "print('1월부터 3월까지:',spending[:3])"
   ]
  },
  {
   "cell_type": "code",
   "execution_count": 20,
   "id": "48e72349",
   "metadata": {},
   "outputs": [
    {
     "name": "stdout",
     "output_type": "stream",
     "text": [
      "나는야\n",
      "우주최강\n"
     ]
    }
   ],
   "source": [
    "#문자열 슬라이싱\n",
    "a='나는야 우주최강'\n",
    "print(a[:3])\n",
    "print(a[-4:])"
   ]
  },
  {
   "cell_type": "code",
   "execution_count": 21,
   "id": "56c8032b",
   "metadata": {},
   "outputs": [
    {
     "name": "stdout",
     "output_type": "stream",
     "text": [
      "['나는야', '우주최고']\n",
      "나는야\n",
      "우주최고\n"
     ]
    }
   ],
   "source": [
    "#문자열 나누기\n",
    "a='나는야 우주최고'\n",
    "print(a.split())\n",
    "print(a.split()[0])\n",
    "print(a.split()[1])"
   ]
  },
  {
   "cell_type": "code",
   "execution_count": 23,
   "id": "f25f3e16",
   "metadata": {},
   "outputs": [
    {
     "name": "stdout",
     "output_type": "stream",
     "text": [
      "오름차순 정렬: [2, 3, 5, 8, 9]\n",
      "내림차순 정렬: [9, 8, 5, 3, 2]\n",
      "큰 수 2개: [9, 8]\n"
     ]
    }
   ],
   "source": [
    "#정렬\n",
    "a=[2,5,8,3,9]\n",
    "a.sort()\n",
    "print('오름차순 정렬:',a)\n",
    "a.sort(reverse=True)\n",
    "print('내림차순 정렬:',a)\n",
    "print('큰 수 2개:',a[:2])"
   ]
  },
  {
   "cell_type": "code",
   "execution_count": 24,
   "id": "d9840236",
   "metadata": {},
   "outputs": [
    {
     "name": "stdout",
     "output_type": "stream",
     "text": [
      "최댓값: 9\n",
      "최솟값: 2\n",
      "합: 27\n",
      "8 인덱스는: 2\n"
     ]
    }
   ],
   "source": [
    "#최댓값, 최솟값, 합, 인덱스 찾기\n",
    "a=[2,5,8,3,9]\n",
    "print('최댓값:',max(a))\n",
    "print('최솟값:',min(a))\n",
    "print('합:',sum(a))\n",
    "print('8 인덱스는:',a.index(8))"
   ]
  },
  {
   "cell_type": "code",
   "execution_count": 4,
   "id": "ad0652c0",
   "metadata": {},
   "outputs": [
    {
     "name": "stdout",
     "output_type": "stream",
     "text": [
      "찾는 음식: 치킨\n",
      "2 위 입니다.\n"
     ]
    }
   ],
   "source": [
    "#리스트 다루기\n",
    "food=['피자','치킨','스파게티','고기']\n",
    "search=input('찾는 음식: ')\n",
    "if search in food:\n",
    "    print(food.index(search)+1,'위 입니다.')\n",
    "else:\n",
    "    print(search,'는 순위에 없습니다.')"
   ]
  },
  {
   "cell_type": "code",
   "execution_count": 5,
   "id": "22a76883",
   "metadata": {},
   "outputs": [
    {
     "name": "stdout",
     "output_type": "stream",
     "text": [
      "시청한 영상은: 영화보기\n",
      "시청한 영상은: 뉴스\n",
      "시청한 영상은: 다이어트\n",
      "시청한 영상은: 노래듣기\n",
      "시청한 영상은: 맛집\n",
      "지금까지 시청한 영상은  ['영화보기', '뉴스', '다이어트', '노래듣기', '맛집']\n",
      "다이어트 영상을 좋아하시면 홈트레이닝 영상도 좋아하시 것 같아요!\n",
      "뉴스 영상을 좋아하시면 소보 영상도 추천합니다.\n"
     ]
    }
   ],
   "source": [
    "#영상시청\n",
    "history=[]\n",
    "for i in range(5):\n",
    "    history.append(input('시청한 영상은: '))\n",
    "print('지금까지 시청한 영상은 ',history)\n",
    "if '다이어트' in history:\n",
    "    print('다이어트 영상을 좋아하시면 홈트레이닝 영상도 좋아하시 것 같아요!')\n",
    "if '뉴스' in history:\n",
    "    print('뉴스 영상을 좋아하시면 소보 영상도 추천합니다.')"
   ]
  },
  {
   "cell_type": "code",
   "execution_count": 6,
   "id": "0e260b63",
   "metadata": {},
   "outputs": [
    {
     "name": "stdout",
     "output_type": "stream",
     "text": [
      "지하철~ 지하철~ 지하철~ 지하철~ \n",
      "성수\n",
      "신촌\n",
      "독립문\n",
      "땡!\n"
     ]
    }
   ],
   "source": [
    "#지하철 역 맞추기\n",
    "print('지하철~ '*4)\n",
    "line2=['성수','뚝섬','한양대','왕십리','신촌','홍대입구']\n",
    "for i in range(3):\n",
    "    station = input()\n",
    "    if station not in line2:\n",
    "        print('땡!')\n",
    "        break;"
   ]
  },
  {
   "cell_type": "code",
   "execution_count": 7,
   "id": "21dc7ad9",
   "metadata": {},
   "outputs": [
    {
     "name": "stdout",
     "output_type": "stream",
     "text": [
      "[1, 2, 3]\n",
      "2\n",
      "8\n"
     ]
    }
   ],
   "source": [
    "#2차원 리스트\n",
    "list=[[1,2,3],\n",
    "      [4,5,6],\n",
    "      [7,8,9]]\n",
    "print(list[0])\n",
    "print(list[0][1])\n",
    "print(list[2][1])"
   ]
  },
  {
   "cell_type": "code",
   "execution_count": 8,
   "id": "3494ee61",
   "metadata": {},
   "outputs": [
    {
     "name": "stdout",
     "output_type": "stream",
     "text": [
      "1\n",
      "4\n",
      "7\n"
     ]
    }
   ],
   "source": [
    "#반복문 사용\n",
    "list=[[1,2,3],\n",
    "      [4,5,6],\n",
    "      [7,8,9]]\n",
    "for row in list:     #row변수에 이차원 리스트가 순서대로 저장(like 일차원 리스트처럼)->반복문 사용 시\n",
    "    print(row[0])"
   ]
  },
  {
   "cell_type": "code",
   "execution_count": 12,
   "id": "8a5b2149",
   "metadata": {},
   "outputs": [
    {
     "name": "stdout",
     "output_type": "stream",
     "text": [
      "금매달보다 동메달이 더 많은 나라\n",
      "일본\n",
      "프랑스\n",
      "미국 금은동 메달 개수:  [46, 37, 38]\n",
      "[2, '일본', 12, 8, 21, 41]\n"
     ]
    }
   ],
   "source": [
    "#금매달보다 동메달이 더 많은 나라\n",
    "print('금매달보다 동메달이 더 많은 나라')\n",
    "olympic=[[1,'미국',46,37,38,121],\n",
    "        [2,'일본',12,8,21,41],\n",
    "        [3,'프랑스',10,18,14,42],\n",
    "        [4,'대한민국',9,3,9,21]]\n",
    "for row in olympic:\n",
    "    if row[2]<row[4]:\n",
    "        print(row[1])\n",
    "print(olympic[0][1],'금은동 메달 개수: ',olympic[0][2:5])\n",
    "print(olympic[:4][1])  #행 인덱스[1]에 있는 일차원 리스트 출력"
   ]
  },
  {
   "cell_type": "code",
   "execution_count": 3,
   "id": "ff9e3f24",
   "metadata": {},
   "outputs": [
    {
     "name": "stdout",
     "output_type": "stream",
     "text": [
      "['역사탐험대', '파이썬', '학습법', '영단어', '여행에세이', '삼국지']\n",
      "[1935, 2498, 1917, 1680, 1610, 2017]\n"
     ]
    }
   ],
   "source": [
    "#1-1\n",
    "import random\n",
    "book_name=['역사탐험대','파이썬','학습법','영단어','여행에세이','삼국지']\n",
    "book_price=[]\n",
    "for i in range(len(book_name)):\n",
    "    book_price.append(random.randint(1500,2500))    #book_name 리스트만큼 1500~2500사이의 가격 삽입하기\n",
    "print(book_name)\n",
    "print(book_price)"
   ]
  },
  {
   "cell_type": "code",
   "execution_count": 4,
   "id": "4557bddf",
   "metadata": {},
   "outputs": [
    {
     "name": "stdout",
     "output_type": "stream",
     "text": [
      "가장 비싼 책은 학습법\n"
     ]
    }
   ],
   "source": [
    "#1-2\n",
    "import random\n",
    "book_name=['역사탐험대','파이썬','학습법','영단어','여행에세이','삼국지']\n",
    "book_price=[]\n",
    "for i in range(len(book_name)):\n",
    "    book_price.append(random.randint(1500,2500))    #book_name 리스트만큼 1500~2500사이의 가격 삽입하기\n",
    "expensive=max(book_price)\n",
    "index=book_price.index(expensive)  #가장 비싼 금액이 book_price의 몇번째 인덱스에 있는지 구하기\n",
    "print('가장 비싼 책은',book_name[index])"
   ]
  },
  {
   "cell_type": "code",
   "execution_count": 5,
   "id": "0bfac398",
   "metadata": {},
   "outputs": [
    {
     "name": "stdout",
     "output_type": "stream",
     "text": [
      "[1, '라이언']\n",
      "[2, '니니즈']\n",
      "[3, '어피치']\n",
      "[4, '프로도']\n",
      "[5, '네오']\n"
     ]
    }
   ],
   "source": [
    "#2-1\n",
    "ranking=[[1,'라이언',956412,564553],\n",
    "        [2,'니니즈',861832,927175],\n",
    "        [3,'어피치',796354,593175],\n",
    "        [4,'프로도',534840,864326],\n",
    "        [5,'네오',387896,648367]]\n",
    "for row in ranking:\n",
    "    print(row[:2])"
   ]
  },
  {
   "cell_type": "code",
   "execution_count": 6,
   "id": "60e1366d",
   "metadata": {},
   "outputs": [
    {
     "name": "stdout",
     "output_type": "stream",
     "text": [
      "['라이언', 956412]\n",
      "['니니즈', 861832]\n",
      "['어피치', 796354]\n",
      "['프로도', 534840]\n"
     ]
    }
   ],
   "source": [
    "#2-2\n",
    "ranking=[[1,'라이언',956412,564553],\n",
    "        [2,'니니즈',861832,927175],\n",
    "        [3,'어피치',796354,593175],\n",
    "        [4,'프로도',534840,864326],\n",
    "        [5,'네오',387896,648367]]\n",
    "for row in ranking:\n",
    "    if row[2]>500000:\n",
    "        print(row[1:3])"
   ]
  },
  {
   "cell_type": "code",
   "execution_count": 8,
   "id": "b45b4c47",
   "metadata": {},
   "outputs": [
    {
     "name": "stdout",
     "output_type": "stream",
     "text": [
      "니니즈 참가자 65343 표 하락\n",
      "프로도 참가자 329486 표 하락\n",
      "네오 참가자 260471 표 하락\n"
     ]
    }
   ],
   "source": [
    "#2-3\n",
    "ranking=[[1,'라이언',956412,564553],\n",
    "        [2,'니니즈',861832,927175],\n",
    "        [3,'어피치',796354,593175],\n",
    "        [4,'프로도',534840,864326],\n",
    "        [5,'네오',387896,648367]]\n",
    "for row in ranking:\n",
    "    if row[2]<row[3]:\n",
    "        print(row[1],'참가자',row[3]-row[2],'표 하락')"
   ]
  },
  {
   "cell_type": "code",
   "execution_count": 9,
   "id": "1958e9f8",
   "metadata": {},
   "outputs": [
    {
     "name": "stdout",
     "output_type": "stream",
     "text": [
      "라이언 80만 표 넘음\n",
      "니니즈 80만 표 넘음\n",
      "프로도 80만 표 넘음\n"
     ]
    }
   ],
   "source": [
    "#2-4\n",
    "ranking=[[1,'라이언',956412,564553],\n",
    "        [2,'니니즈',861832,927175],\n",
    "        [3,'어피치',796354,593175],\n",
    "        [4,'프로도',534840,864326],\n",
    "        [5,'네오',387896,648367]]\n",
    "for row in ranking:\n",
    "    if 800000<row[-1] or 800000<row[-2]:\n",
    "        print(row[1],'80만 표 넘음')"
   ]
  }
 ],
 "metadata": {
  "kernelspec": {
   "display_name": "Python 3 (ipykernel)",
   "language": "python",
   "name": "python3"
  },
  "language_info": {
   "codemirror_mode": {
    "name": "ipython",
    "version": 3
   },
   "file_extension": ".py",
   "mimetype": "text/x-python",
   "name": "python",
   "nbconvert_exporter": "python",
   "pygments_lexer": "ipython3",
   "version": "3.9.12"
  }
 },
 "nbformat": 4,
 "nbformat_minor": 5
}
