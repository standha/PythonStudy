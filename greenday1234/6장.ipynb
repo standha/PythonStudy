{
 "cells": [
  {
   "cell_type": "code",
   "execution_count": 4,
   "id": "d47929c9",
   "metadata": {},
   "outputs": [
    {
     "name": "stdout",
     "output_type": "stream",
     "text": [
      "[25, 36, 8, 53, 24, 56]\n",
      "<class 'list'> [25, 36, 8, 53, 24, 56]\n"
     ]
    }
   ],
   "source": [
    "list = [25,36,8,53,24,56]\n",
    "print(list)\n",
    "print(type(list), list)"
   ]
  },
  {
   "cell_type": "code",
   "execution_count": 6,
   "id": "e8df4612",
   "metadata": {},
   "outputs": [
    {
     "name": "stdout",
     "output_type": "stream",
     "text": [
      "12\n",
      "6\n"
     ]
    }
   ],
   "source": [
    "#리스트 길이 len\n",
    "spending_year = [25,36,8,53,24,56,38,79,94,20,40,25]\n",
    "print(len(spending_year))\n",
    "\n",
    "spending_6mon = [25,36,8,53,24,56]\n",
    "print(len(spending_6mon))"
   ]
  },
  {
   "cell_type": "code",
   "execution_count": 8,
   "id": "0b67bcb8",
   "metadata": {},
   "outputs": [
    {
     "name": "stdout",
     "output_type": "stream",
     "text": [
      "좋아하는 음식 개수: 6\n",
      "좋아하는 음식 순서: ['피자', '치킨', '떡볶이', '스테이크', '딸기', '파스타']\n"
     ]
    }
   ],
   "source": [
    "food = ['피자','치킨','떡볶이','스테이크','딸기','파스타']\n",
    "print('좋아하는 음식 개수:',len(food))\n",
    "print('좋아하는 음식 순서:',food)"
   ]
  },
  {
   "cell_type": "code",
   "execution_count": 9,
   "id": "e7febd91",
   "metadata": {},
   "outputs": [
    {
     "name": "stdout",
     "output_type": "stream",
     "text": [
      "25\n"
     ]
    }
   ],
   "source": [
    "print(list[0])"
   ]
  },
  {
   "cell_type": "code",
   "execution_count": 10,
   "id": "279e1a2f",
   "metadata": {},
   "outputs": [
    {
     "name": "stdout",
     "output_type": "stream",
     "text": [
      "3월 지출 변경 전: [25, 36, 8, 53, 24, 56]\n",
      "3월 지출 변경 후: [25, 36, 18, 53, 24, 56]\n"
     ]
    }
   ],
   "source": [
    "#리스트 값 변경\n",
    "print('3월 지출 변경 전:', list)\n",
    "list[2] += 10\n",
    "print('3월 지출 변경 후:', list)"
   ]
  },
  {
   "cell_type": "code",
   "execution_count": 11,
   "id": "4934d685",
   "metadata": {},
   "outputs": [
    {
     "name": "stdout",
     "output_type": "stream",
     "text": [
      "5월 지출 변경 후: [25, 36, 18, 53, 22, 56]\n"
     ]
    }
   ],
   "source": [
    "list[4] -= 2\n",
    "print('5월 지출 변경 후:', list)"
   ]
  },
  {
   "cell_type": "code",
   "execution_count": 13,
   "id": "f23b6c12",
   "metadata": {},
   "outputs": [
    {
     "name": "stdout",
     "output_type": "stream",
     "text": [
      "25\n",
      "36\n",
      "8\n",
      "53\n",
      "24\n",
      "56\n"
     ]
    }
   ],
   "source": [
    "for i in [25,36,8,53,24,56]:\n",
    "    print(i)"
   ]
  },
  {
   "cell_type": "code",
   "execution_count": 14,
   "id": "7dee4f91",
   "metadata": {},
   "outputs": [
    {
     "name": "stdout",
     "output_type": "stream",
     "text": [
      "25\n",
      "36\n",
      "8\n",
      "53\n",
      "24\n",
      "56\n"
     ]
    }
   ],
   "source": [
    "#반복문을 사용한 리스트\n",
    "spending = [25,36,8,53,24,56]\n",
    "for s in spending:\n",
    "    print(s)"
   ]
  },
  {
   "cell_type": "code",
   "execution_count": 15,
   "id": "427d18ed",
   "metadata": {},
   "outputs": [
    {
     "name": "stdout",
     "output_type": "stream",
     "text": [
      "25\n",
      "36\n",
      "8\n",
      "53\n",
      "24\n",
      "56\n"
     ]
    }
   ],
   "source": [
    "spending = [25,36,8,53,24,56]\n",
    "for i in range(6):\n",
    "    print(spending[i])"
   ]
  },
  {
   "cell_type": "code",
   "execution_count": 19,
   "id": "892f0749",
   "metadata": {},
   "outputs": [
    {
     "name": "stdout",
     "output_type": "stream",
     "text": [
      "1 월 지출은 25, 2 월 지출은 36, 3 월 지출은 8, 4 월 지출은 53, 5 월 지출은 24, 6 월 지출은 56, "
     ]
    }
   ],
   "source": [
    "for i in range(6):\n",
    "    print('{} 월 지출은 {}'.format(i+1,spending[i]),end=', ')"
   ]
  },
  {
   "cell_type": "code",
   "execution_count": 23,
   "id": "0411fb18",
   "metadata": {},
   "outputs": [
    {
     "name": "stdout",
     "output_type": "stream",
     "text": [
      "파스타\n"
     ]
    }
   ],
   "source": [
    "#가장 덜 좋아하는 음식은?\n",
    "#맨 마지막 인덱스부터 -1, -2 ... 로 감소한다\n",
    "print(food[-1])"
   ]
  },
  {
   "cell_type": "code",
   "execution_count": 25,
   "id": "876c4120",
   "metadata": {},
   "outputs": [
    {
     "name": "stdout",
     "output_type": "stream",
     "text": [
      "딸기\n",
      "스테이크\n"
     ]
    }
   ],
   "source": [
    "#두 번째로 덜 좋아하는 음식?\n",
    "print(food[-2])\n",
    "#세 번째로 덜 좋아하는 음식?\n",
    "print(food[-3])"
   ]
  },
  {
   "cell_type": "code",
   "execution_count": 27,
   "id": "801a0513",
   "metadata": {},
   "outputs": [
    {
     "name": "stdout",
     "output_type": "stream",
     "text": [
      "['피자', '치킨', '떡복이', '스테이크', '파스타', '감자칩', '카레']\n"
     ]
    }
   ],
   "source": [
    "#리스트 마지막 인덱스에 값 삽입 append\n",
    "food = ['피자','치킨','떡복이','스테이크','파스타']\n",
    "food.append('감자칩')\n",
    "food.append('카레')\n",
    "print(food)"
   ]
  },
  {
   "cell_type": "code",
   "execution_count": 28,
   "id": "dc317344",
   "metadata": {},
   "outputs": [
    {
     "name": "stdout",
     "output_type": "stream",
     "text": [
      "[24, 38, 19, 40]\n"
     ]
    }
   ],
   "source": [
    "abc = [] #빈 리스트 만들기\n",
    "abc.append(24)\n",
    "abc.append(38)\n",
    "abc.append(19)\n",
    "abc.append(40)\n",
    "print(abc)"
   ]
  },
  {
   "cell_type": "code",
   "execution_count": 29,
   "id": "0f512125",
   "metadata": {},
   "outputs": [
    {
     "name": "stdout",
     "output_type": "stream",
     "text": [
      "해야 할 일을 입력해 주세요. -->파이썬 공부하기\n",
      "['파이썬 공부하기']\n"
     ]
    }
   ],
   "source": [
    "to_do = []\n",
    "task = input('해야 할 일을 입력해 주세요. -->')\n",
    "to_do.append(task)\n",
    "print(to_do)"
   ]
  },
  {
   "cell_type": "code",
   "execution_count": 30,
   "id": "f08ecfb0",
   "metadata": {},
   "outputs": [
    {
     "name": "stdout",
     "output_type": "stream",
     "text": [
      "해야 할 일을 차례대로 입력해 주세요.\n",
      "생일선물 사기\n",
      "인강 듣기\n",
      "파이썬 6장 공부하기\n",
      "책 읽기\n",
      "영단어 외우기\n",
      "['생일선물 사기', '인강 듣기', '파이썬 6장 공부하기', '책 읽기', '영단어 외우기']\n"
     ]
    }
   ],
   "source": [
    "to_do = []\n",
    "print('해야 할 일을 차례대로 입력해 주세요.')\n",
    "for i in range(5):\n",
    "    to_do.append(input())\n",
    "print(to_do)"
   ]
  },
  {
   "cell_type": "code",
   "execution_count": 31,
   "id": "803e4990",
   "metadata": {},
   "outputs": [
    {
     "name": "stdout",
     "output_type": "stream",
     "text": [
      "['피자', '치킨', '스테이크', '파스타']\n"
     ]
    }
   ],
   "source": [
    "#데이터 값을 지정해 삭제하는 방법 remove\n",
    "food = ['피자','치킨','떡볶이','스테이크','파스타']\n",
    "food.remove('떡볶이')\n",
    "print(food)"
   ]
  },
  {
   "cell_type": "code",
   "execution_count": 32,
   "id": "cb388688",
   "metadata": {},
   "outputs": [
    {
     "name": "stdout",
     "output_type": "stream",
     "text": [
      "['피자', '치킨', '떡볶이', '스테이크']\n"
     ]
    }
   ],
   "source": [
    "#해당 인덱스를 지정해서 삭제하는 방법 del\n",
    "food = ['피자','치킨','떡볶이','스테이크','파스타']\n",
    "del food[-1]\n",
    "print(food)"
   ]
  },
  {
   "cell_type": "code",
   "execution_count": 35,
   "id": "9afb878c",
   "metadata": {},
   "outputs": [
    {
     "name": "stdout",
     "output_type": "stream",
     "text": [
      "['피자', '치킨', '떡볶이']\n",
      "['떡볶이', '스테이크']\n",
      "['피자', '치킨', '떡볶이']\n",
      "['스테이크', '파스타']\n"
     ]
    }
   ],
   "source": [
    "#일정 부분 데이터 추출 방법\n",
    "food = ['피자','치킨','떡볶이','스테이크','파스타']\n",
    "print(food[0:3])\n",
    "print(food[2:4])\n",
    "print(food[:3])\n",
    "print(food[-2:])"
   ]
  },
  {
   "cell_type": "code",
   "execution_count": 36,
   "id": "e2279561",
   "metadata": {},
   "outputs": [
    {
     "name": "stdout",
     "output_type": "stream",
     "text": [
      "1월부터 3월 지출: [25, 36, 8]\n",
      "3월부터 5월 지출: [8, 53, 24]\n",
      "5월부터 6월 지출: [24, 56]\n"
     ]
    }
   ],
   "source": [
    "spending_6mon = [25,36,8,53,24,56]\n",
    "print('1월부터 3월 지출:',spending_6mon[:3])\n",
    "print('3월부터 5월 지출:',spending_6mon[2:5])\n",
    "print('5월부터 6월 지출:',spending_6mon[-2:])"
   ]
  },
  {
   "cell_type": "code",
   "execution_count": 37,
   "id": "6694dfcc",
   "metadata": {},
   "outputs": [
    {
     "name": "stdout",
     "output_type": "stream",
     "text": [
      "연도: 2021\n",
      "월: 04\n",
      "일: 15\n"
     ]
    }
   ],
   "source": [
    "date = '2021-04-15'\n",
    "print('연도:',date[:4])\n",
    "print('월:',date[5:7])\n",
    "print('일:',date[-2:])"
   ]
  },
  {
   "cell_type": "code",
   "execution_count": 41,
   "id": "e8d18835",
   "metadata": {},
   "outputs": [
    {
     "name": "stdout",
     "output_type": "stream",
     "text": [
      "['나는야', '우주최강']\n",
      "나는야\n",
      "우주최강\n"
     ]
    }
   ],
   "source": [
    "#문자열 나누는 방법 split\n",
    "#소괄호 안에 아무것도 없다면 공백으로 나눈다\n",
    "a = '나는야 우주최강'\n",
    "print(a.split())\n",
    "print(a.split()[0])\n",
    "print(a.split()[1])"
   ]
  },
  {
   "cell_type": "code",
   "execution_count": 42,
   "id": "dab85ba0",
   "metadata": {},
   "outputs": [
    {
     "name": "stdout",
     "output_type": "stream",
     "text": [
      "2021\n",
      "04\n",
      "15\n"
     ]
    }
   ],
   "source": [
    "date = '2021-04-15'\n",
    "print(date.split('-')[0])\n",
    "print(date.split('-')[1])\n",
    "print(date.split('-')[2])"
   ]
  },
  {
   "cell_type": "code",
   "execution_count": 45,
   "id": "1335b8f8",
   "metadata": {},
   "outputs": [
    {
     "name": "stdout",
     "output_type": "stream",
     "text": [
      "정렬 후: ['감자칩', '된장찌개', '바나나', '스테이크', '치킨', '파스타', '피자']\n"
     ]
    }
   ],
   "source": [
    "#리스트 오름차순 정렬 방법 sort\n",
    "food = ['피자','치킨','스테이크','된장찌개','바나나','파스타','감자칩']\n",
    "food.sort()\n",
    "print('정렬 후:',food)"
   ]
  },
  {
   "cell_type": "code",
   "execution_count": 46,
   "id": "8c1a5859",
   "metadata": {},
   "outputs": [
    {
     "name": "stdout",
     "output_type": "stream",
     "text": [
      "정렬 후: ['피자', '파스타', '치킨', '스테이크', '바나나', '된장찌개', '감자칩']\n"
     ]
    }
   ],
   "source": [
    "#리스트 내림차순 정렬 방법 reverse=True\n",
    "food = ['피자','치킨','스테이크','된장찌개','바나나','파스타','감자칩']\n",
    "food.sort(reverse=True)\n",
    "print('정렬 후:',food)"
   ]
  },
  {
   "cell_type": "code",
   "execution_count": 53,
   "id": "38c2c57c",
   "metadata": {},
   "outputs": [
    {
     "name": "stdout",
     "output_type": "stream",
     "text": [
      "[56, 53]\n",
      "[24, 8]\n",
      "56 8\n",
      "202\n",
      "4\n"
     ]
    }
   ],
   "source": [
    "#최대 최소 구하는 방법 max min\n",
    "#합 구하는 방법 sum\n",
    "#해당 값을 가진 인덱스 찾는 방법 index\n",
    "spending_6mon = [25,36,8,53,24,56]\n",
    "spending_6mon.sort(reverse=True)\n",
    "print(spending_6mon[0:2])\n",
    "print(spending_6mon[-2:])\n",
    "print(max(spending_6mon), min(spending_6mon))\n",
    "print(sum(spending_6mon))\n",
    "print(spending_6mon.index(24))"
   ]
  },
  {
   "cell_type": "code",
   "execution_count": 57,
   "id": "8ced859d",
   "metadata": {},
   "outputs": [
    {
     "name": "stdout",
     "output_type": "stream",
     "text": [
      "찾는 음식은? 치킨\n",
      "2 위 입니다\n"
     ]
    }
   ],
   "source": [
    "food = ['피자','치킨','스테이크','파스타']\n",
    "search = input('찾는 음식은? ')\n",
    "if search in food:\n",
    "    print(food.index(search)+1,'위 입니다')\n",
    "else:\n",
    "    print(search,'은/는 순위에 없습니다.')"
   ]
  },
  {
   "cell_type": "code",
   "execution_count": 58,
   "id": "64f49440",
   "metadata": {},
   "outputs": [
    {
     "name": "stdout",
     "output_type": "stream",
     "text": [
      "강아지 영상을 좋아하시면 고양이 영상도 추천합니다!\n",
      "댄스 영상을 좋아하시면 음악방송 영상도 추천합니다!\n"
     ]
    }
   ],
   "source": [
    "history = ['먹방','강아지','요리','댄스']\n",
    "if '강아지' in history:\n",
    "    print('강아지 영상을 좋아하시면 고양이 영상도 추천합니다!')\n",
    "if '댄스' in history:\n",
    "    print('댄스 영상을 좋아하시면 음악방송 영상도 추천합니다!')"
   ]
  },
  {
   "cell_type": "code",
   "execution_count": 59,
   "id": "38642871",
   "metadata": {},
   "outputs": [
    {
     "name": "stdout",
     "output_type": "stream",
     "text": [
      "시청한 영상은? 뉴스\n",
      "시청한 영상은? 가성비 맛집\n",
      "시청한 영상은? 다이어트\n",
      "시청한 영상은? 마스크 사용법\n",
      "시청한 영상은? 스마트폰 후기\n",
      "지금까지 시청한 영상은 ['뉴스', '가성비 맛집', '다이어트', '마스크 사용법', '스마트폰 후기']\n",
      "다이어트 영상을 좋아하시면 홈트레이닝 영상도 좋아하실 것 같아요!\n",
      "뉴스 영상을 좋아하시면 속보 영상도 추천합니다!\n"
     ]
    }
   ],
   "source": [
    "history = []\n",
    "for i in range(5):\n",
    "    history.append(input('시청한 영상은? '))\n",
    "print('지금까지 시청한 영상은 {}'.format(history))\n",
    "if '다이어트' in history:\n",
    "    print('다이어트 영상을 좋아하시면 홈트레이닝 영상도 좋아하실 것 같아요!')\n",
    "if '뉴스' in history:\n",
    "    print('뉴스 영상을 좋아하시면 속보 영상도 추천합니다!')"
   ]
  },
  {
   "cell_type": "code",
   "execution_count": 60,
   "id": "b9f09449",
   "metadata": {},
   "outputs": [
    {
     "name": "stdout",
     "output_type": "stream",
     "text": [
      "[56]\n",
      "[56, 87]\n",
      "[56, 87, 29]\n",
      "[56, 87, 29, 62]\n",
      "[56, 87, 29, 62, 19]\n",
      "[56, 87, 29, 62, 19, 97]\n",
      "[56, 87, 29, 62, 19, 97, 48]\n",
      "[56, 87, 29, 62, 19, 97, 48, 31]\n",
      "[56, 87, 29, 62, 19, 97, 48, 31, 43]\n",
      "[56, 87, 29, 62, 19, 97, 48, 31, 43, 50]\n",
      "[56, 87, 29, 62, 19, 97, 48, 31, 43, 50, 47]\n",
      "[56, 87, 29, 62, 19, 97, 48, 31, 43, 50, 47, 65]\n",
      "[56, 87, 29, 62, 19, 97, 48, 31, 43, 50, 47, 65, 77]\n",
      "[56, 87, 29, 62, 19, 97, 48, 31, 43, 50, 47, 65, 77, 76]\n",
      "[56, 87, 29, 62, 19, 97, 48, 31, 43, 50, 47, 65, 77, 76, 57]\n",
      "[56, 87, 29, 62, 19, 97, 48, 31, 43, 50, 47, 65, 77, 76, 57, 64]\n",
      "[56, 87, 29, 62, 19, 97, 48, 31, 43, 50, 47, 65, 77, 76, 57, 64, 27]\n",
      "[56, 87, 29, 62, 19, 97, 48, 31, 43, 50, 47, 65, 77, 76, 57, 64, 27, 5]\n",
      "[56, 87, 29, 62, 19, 97, 48, 31, 43, 50, 47, 65, 77, 76, 57, 64, 27, 5, 79]\n",
      "[56, 87, 29, 62, 19, 97, 48, 31, 43, 50, 47, 65, 77, 76, 57, 64, 27, 5, 79, 80]\n",
      "[56, 87, 29, 62, 19, 97, 48, 31, 43, 50, 47, 65, 77, 76, 57, 64, 27, 5, 79, 80, 31]\n",
      "[56, 87, 29, 62, 19, 97, 48, 31, 43, 50, 47, 65, 77, 76, 57, 64, 27, 5, 79, 80, 31, 75]\n",
      "[56, 87, 29, 62, 19, 97, 48, 31, 43, 50, 47, 65, 77, 76, 57, 64, 27, 5, 79, 80, 31, 75, 56]\n",
      "[56, 87, 29, 62, 19, 97, 48, 31, 43, 50, 47, 65, 77, 76, 57, 64, 27, 5, 79, 80, 31, 75, 56, 51]\n",
      "[56, 87, 29, 62, 19, 97, 48, 31, 43, 50, 47, 65, 77, 76, 57, 64, 27, 5, 79, 80, 31, 75, 56, 51, 99]\n"
     ]
    }
   ],
   "source": [
    "import random\n",
    "\n",
    "score = []\n",
    "for i in range(25):\n",
    "    score.append(random.randint(0,100))\n",
    "    print(score)"
   ]
  },
  {
   "cell_type": "code",
   "execution_count": 61,
   "id": "bc93caf6",
   "metadata": {},
   "outputs": [
    {
     "name": "stdout",
     "output_type": "stream",
     "text": [
      "[51, 44, 97, 66, 2, 100, 43, 80, 82, 2, 4, 34, 46, 45, 12, 89, 60, 41, 36, 97, 81, 66, 97, 94, 94]\n",
      "리스트를 사용해 70점 이상인 점수 출력하기\n",
      "3 번 97\n",
      "6 번 100\n",
      "8 번 80\n",
      "9 번 82\n",
      "16 번 89\n",
      "3 번 97\n",
      "21 번 81\n",
      "3 번 97\n",
      "24 번 94\n",
      "24 번 94\n",
      "인덱스를 사용해 70점 이상인 점수 출력하기\n",
      "3 번 97\n",
      "6 번 100\n",
      "8 번 80\n",
      "9 번 82\n",
      "16 번 89\n",
      "20 번 97\n",
      "21 번 81\n",
      "23 번 97\n",
      "24 번 94\n",
      "25 번 94\n"
     ]
    }
   ],
   "source": [
    "import random\n",
    "\n",
    "score = []\n",
    "for i in range(25):\n",
    "    score.append(random.randint(0,100))\n",
    "print(score)\n",
    "\n",
    "print('리스트를 사용해 70점 이상인 점수 출력하기')\n",
    "for s in score:\n",
    "    if s >= 70:\n",
    "        print(score.index(s)+1,'번',s)\n",
    "print('인덱스를 사용해 70점 이상인 점수 출력하기')\n",
    "for i in range(len(score)):\n",
    "    if score[i] >= 70:\n",
    "        print(i+1,'번',score[i])"
   ]
  },
  {
   "cell_type": "code",
   "execution_count": 70,
   "id": "20ddcdcb",
   "metadata": {},
   "outputs": [
    {
     "name": "stdout",
     "output_type": "stream",
     "text": [
      "지하철~지하철~지하철~지하철~\n",
      "홍대\n",
      "땡! 해당 역은 2호선이 아닙니다!\n"
     ]
    }
   ],
   "source": [
    "line2 = ['성수','한양대','왕십리','신당']\n",
    "print('지하철~'*4)\n",
    "\n",
    "for i in range(10):\n",
    "    station = input()\n",
    "    if station not in line2:\n",
    "        print('땡! 해당 역은 2호선이 아닙니다!')\n",
    "        break"
   ]
  },
  {
   "cell_type": "code",
   "execution_count": 81,
   "id": "3d71dd9b",
   "metadata": {},
   "outputs": [
    {
     "name": "stdout",
     "output_type": "stream",
     "text": [
      "A [96, 86, 91, 87]\n",
      "B [69, 57, 79, 64, 45, 41, 78, 68, 73, 45, 61, 63, 74, 73, 78, 77]\n",
      "C [1, 14, 12, 31, 40, 39, 10, 34, 9, 7]\n"
     ]
    }
   ],
   "source": [
    "import random\n",
    "\n",
    "score = []\n",
    "A = []\n",
    "B = []\n",
    "C = []\n",
    "\n",
    "for i in range(30):\n",
    "    score.append(random.randint(0,100))\n",
    "for s in score:\n",
    "    if s > 80:\n",
    "        A.append(s)\n",
    "    elif s > 40:\n",
    "        B.append(s)\n",
    "    else:\n",
    "        C.append(s)\n",
    "print('A',A)\n",
    "print('B',B)\n",
    "print('C',C)\n"
   ]
  },
  {
   "cell_type": "code",
   "execution_count": 83,
   "id": "ca61145d",
   "metadata": {},
   "outputs": [
    {
     "name": "stdout",
     "output_type": "stream",
     "text": [
      "[1, 2, 3]\n",
      "[4, 5, 6]\n",
      "[7, 8, 9]\n",
      "2\n",
      "6\n"
     ]
    }
   ],
   "source": [
    "#이차원 리스트\n",
    "abc = [[1,2,3],[4,5,6],[7,8,9]]\n",
    "print(abc[0])\n",
    "print(abc[1])\n",
    "print(abc[2])\n",
    "print(abc[0][1])\n",
    "print(abc[1][2])"
   ]
  },
  {
   "cell_type": "code",
   "execution_count": 84,
   "id": "806f2aee",
   "metadata": {},
   "outputs": [
    {
     "name": "stdout",
     "output_type": "stream",
     "text": [
      "[1, 2, 3]\n",
      "[4, 5, 6]\n",
      "[7, 8, 9]\n"
     ]
    }
   ],
   "source": [
    "#이차원 배열의 한 요소씩 변수에 들어간다\n",
    "for i in abc:\n",
    "    print(i)"
   ]
  },
  {
   "cell_type": "code",
   "execution_count": 87,
   "id": "34365a3d",
   "metadata": {},
   "outputs": [
    {
     "name": "stdout",
     "output_type": "stream",
     "text": [
      "1\n",
      "4\n",
      "7\n",
      "3\n",
      "6\n",
      "9\n"
     ]
    }
   ],
   "source": [
    "#0번째 열을 가리킨다\n",
    "for i in abc:\n",
    "    print(i[0])\n",
    "#맨 마지막 열을 가리킨다\n",
    "for s in abc:\n",
    "    print(s[-1])"
   ]
  },
  {
   "cell_type": "code",
   "execution_count": 90,
   "id": "e5047233",
   "metadata": {},
   "outputs": [
    {
     "name": "stdout",
     "output_type": "stream",
     "text": [
      "['2020/03/04', '주식회사 카카오페이', 1000]\n",
      "['2020/03/02', '스타벅스코리아', 10000]\n",
      "주식회사 카카오페이\n",
      "스타벅스코리아\n",
      "스타벅스코리아 10000\n"
     ]
    }
   ],
   "source": [
    "card = [['2020/03/04','주식회사 카카오페이',1000],\n",
    "       ['2020/03/03','네이버페이',51100],\n",
    "       ['2020/03/02','스타벅스코리아',10000]]\n",
    "print(card[0])\n",
    "print(card[2])\n",
    "print(card[0][1])\n",
    "print(card[2][1])\n",
    "print(card[-1][1],card[-1][-1])"
   ]
  },
  {
   "cell_type": "markdown",
   "id": "a7364a41",
   "metadata": {},
   "source": [
    "# 6장 실습"
   ]
  },
  {
   "cell_type": "markdown",
   "id": "c1639dc5",
   "metadata": {},
   "source": [
    "### 1번"
   ]
  },
  {
   "cell_type": "code",
   "execution_count": 95,
   "id": "02499c42",
   "metadata": {},
   "outputs": [
    {
     "name": "stdout",
     "output_type": "stream",
     "text": [
      "['역사탐험대', '파이썬', '학습법', '영단어', '여행에세이', '삼국지']\n",
      "[15014, 16666, 24575, 23879, 15063, 16459]\n",
      "학습법\n"
     ]
    }
   ],
   "source": [
    "import random\n",
    "book_name = ['역사탐험대','파이썬','학습법','영단어','여행에세이','삼국지']\n",
    "book_price = []\n",
    "\n",
    "for i in book_name:\n",
    "    book_price.append(random.randint(15000,25000))\n",
    "print(book_name)\n",
    "print(book_price)\n",
    "#가장 비싼 도서 제목\n",
    "max = book_price[0]\n",
    "for s in book_price:\n",
    "    if max<s:\n",
    "        max = s\n",
    "        max_index = book_price.index(s)\n",
    "print(book_name[max_index])"
   ]
  },
  {
   "cell_type": "markdown",
   "id": "a66f2491",
   "metadata": {},
   "source": [
    "### 2번"
   ]
  },
  {
   "cell_type": "code",
   "execution_count": 101,
   "id": "15fc89a9",
   "metadata": {},
   "outputs": [
    {
     "name": "stdout",
     "output_type": "stream",
     "text": [
      "[1, '라이언']\n",
      "[2, '니니즈']\n",
      "[3, '어피치']\n",
      "[4, '프로도']\n",
      "[5, '네오']\n",
      "['라이언']\n",
      "['니니즈']\n",
      "['어피치']\n",
      "['프로도']\n",
      "니니즈 65343\n",
      "프로도 329486\n",
      "네오 260471\n",
      "라이언\n",
      "니니즈\n",
      "프로도\n"
     ]
    }
   ],
   "source": [
    "ranking = [[1,'라이언',956412,564553],\n",
    "         [2,'니니즈',861832,927175],\n",
    "         [3,'어피치',796354,593175],\n",
    "         [4,'프로도',534840,864326],\n",
    "         [5,'네오',387896,648367]]\n",
    "\n",
    "for i in ranking:\n",
    "    print(i[:2])\n",
    "#이번주 득표수 50만표 넘는 참가자 이름과 이번주 득표수 출력\n",
    "for s in ranking:\n",
    "    if s[2]>500000:\n",
    "        print(s[1:2])\n",
    "#지난주보다 득표수가 떨어진 참가자가 누구인지 득표수가 얼마나 떨어졌는지를 출력\n",
    "for row in ranking:\n",
    "    if row[3]>row[2]:\n",
    "        print(row[1],row[3]-row[2])\n",
    "#지난주와 이번 주 득표수 중 한 번이라도 80만표를 넘은 참가자 출력\n",
    "for high in ranking:\n",
    "    if high[2]>800000 or high[3]>800000:\n",
    "        print(high[1])"
   ]
  },
  {
   "cell_type": "code",
   "execution_count": null,
   "id": "5bb2593b",
   "metadata": {},
   "outputs": [],
   "source": []
  }
 ],
 "metadata": {
  "kernelspec": {
   "display_name": "Python 3 (ipykernel)",
   "language": "python",
   "name": "python3"
  },
  "language_info": {
   "codemirror_mode": {
    "name": "ipython",
    "version": 3
   },
   "file_extension": ".py",
   "mimetype": "text/x-python",
   "name": "python",
   "nbconvert_exporter": "python",
   "pygments_lexer": "ipython3",
   "version": "3.9.12"
  }
 },
 "nbformat": 4,
 "nbformat_minor": 5
}
