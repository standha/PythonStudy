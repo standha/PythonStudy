{
 "cells": [
  {
   "cell_type": "code",
   "execution_count": 15,
   "id": "f1d112ee",
   "metadata": {},
   "outputs": [
    {
     "name": "stdout",
     "output_type": "stream",
     "text": [
      "성인은 주류를 구매할 수 있습니다.\n"
     ]
    }
   ],
   "source": [
    "age = 20\n",
    "#if문을 사용하고 다음 줄에 내용을 작성하는 경우 들여쓰기를 하지 않으면 에러발생(한 줄에 작성 시 필요x)\n",
    "if age>19:\n",
    "    print('성인은 주류를 구매할 수 있습니다.')"
   ]
  },
  {
   "cell_type": "code",
   "execution_count": 18,
   "id": "06b9f9be",
   "metadata": {},
   "outputs": [
    {
     "name": "stdout",
     "output_type": "stream",
     "text": [
      "나이가 어떻게 되세요?18\n",
      "미성년자는 주류를 구매할 수 없습니다.\n"
     ]
    }
   ],
   "source": [
    "age = int(input('나이가 어떻게 되세요?'))\n",
    "if age < 20:\n",
    "    print('미성년자는 주류를 구매할 수 없습니다.')"
   ]
  },
  {
   "cell_type": "code",
   "execution_count": 26,
   "id": "86c1203e",
   "metadata": {},
   "outputs": [
    {
     "name": "stdout",
     "output_type": "stream",
     "text": [
      "나이가 어떻게 되세요? 20\n",
      "감사합니다. 안녕히 가세요!\n"
     ]
    }
   ],
   "source": [
    "age = int(input('나이가 어떻게 되세요? '))\n",
    "if age < 20:\n",
    "    print('미성년자는 주류를 구매할 수 없습니다.')\n",
    "    print('{}년 후에 성인이 되면 오세요!'.format(20-age))\n",
    "print('감사합니다. 안녕히 가세요!')"
   ]
  },
  {
   "cell_type": "code",
   "execution_count": 29,
   "id": "98cf39de",
   "metadata": {},
   "outputs": [
    {
     "name": "stdout",
     "output_type": "stream",
     "text": [
      "20\n"
     ]
    }
   ],
   "source": [
    "age = 20\n",
    "# 파이썬도 c언어, java와 마찬가지로 같음을 의미하는 경우 ==으로 표기\n",
    "if age == 20:\n",
    "    print(age)"
   ]
  },
  {
   "cell_type": "code",
   "execution_count": 31,
   "id": "5aeb628c",
   "metadata": {},
   "outputs": [
    {
     "name": "stdout",
     "output_type": "stream",
     "text": [
      "10\n"
     ]
    }
   ],
   "source": [
    "age = 10\n",
    "# 비교 연산자는 c언어, java와 동일하다\n",
    "if age != 20:\n",
    "    print(age)"
   ]
  },
  {
   "cell_type": "code",
   "execution_count": 32,
   "id": "eabf4032",
   "metadata": {},
   "outputs": [
    {
     "name": "stdout",
     "output_type": "stream",
     "text": [
      "구매금액은? 35000\n",
      "배송비 2500원이 추가됩니다.\n"
     ]
    }
   ],
   "source": [
    "price = int(input('구매금액은? '))\n",
    "if price < 50000:\n",
    "    print('배송비 2500원이 추가됩니다.')"
   ]
  },
  {
   "cell_type": "code",
   "execution_count": 35,
   "id": "e39f4813",
   "metadata": {},
   "outputs": [
    {
     "name": "stdout",
     "output_type": "stream",
     "text": [
      "구매금액은? 70000\n",
      "결제금액은 70000원 입니다.\n"
     ]
    }
   ],
   "source": [
    "price = int(input('구매금액은? '))\n",
    "if price < 50000:\n",
    "    print('배송비 2500원이 추가됩니다.')\n",
    "    price += 2500\n",
    "print('결제금액은 {}원 입니다.'.format(price))"
   ]
  },
  {
   "cell_type": "code",
   "execution_count": 36,
   "id": "986d5934",
   "metadata": {},
   "outputs": [
    {
     "name": "stdout",
     "output_type": "stream",
     "text": [
      "오늘은 주중입니까? 주말입니까? 주말\n",
      "아침 10시입니다! 주인님 일어나세요!\n"
     ]
    }
   ],
   "source": [
    "day = input('오늘은 주중입니까? 주말입니까? ')\n",
    "if day == '주중':\n",
    "    print('아침 7시입니다! 주인님 일어나세요!')\n",
    "if day == '주말':\n",
    "    print('아침 10시입니다! 주인님 일어나세요!')"
   ]
  },
  {
   "cell_type": "code",
   "execution_count": 37,
   "id": "7db600e4",
   "metadata": {},
   "outputs": [
    {
     "name": "stdout",
     "output_type": "stream",
     "text": [
      "오늘은 주중입니까? 주말입니까? 주말\n",
      "아침 10시입니다. 주인님 일어나세요!\n"
     ]
    }
   ],
   "source": [
    "day = input('오늘은 주중입니까? 주말입니까? ')\n",
    "if day == '주중':\n",
    "    print('아침 7시입니다. 주인님 일어나세요!')\n",
    "else:\n",
    "    print('아침 10시입니다. 주인님 일어나세요!')"
   ]
  },
  {
   "cell_type": "code",
   "execution_count": 39,
   "id": "074c1709",
   "metadata": {},
   "outputs": [
    {
     "name": "stdout",
     "output_type": "stream",
     "text": [
      "미세먼지 저감 조치에 따른 차량 2부제를 시행합니다!\n",
      "오늘은 며칠입니까? 17\n",
      "홀수번호 차량만 통행 가능합니다.\n",
      "짝수번호 차주들은 오늘 대중교통을 이용하세요.\n"
     ]
    }
   ],
   "source": [
    "print('미세먼지 저감 조치에 따른 차량 2부제를 시행합니다!')\n",
    "date = int(input('오늘은 며칠입니까? '))\n",
    "if date%2 == 0:\n",
    "    print('짝수번호 차량만 통행 가능합니다.')\n",
    "    print('홀수번호 차주들은 오늘 대중교통을 이용하세요.')\n",
    "else:\n",
    "    print('홀수번호 차량만 통행 가능합니다.')\n",
    "    print('짝수번호 차주들은 오늘 대중교통을 이용하세요.')"
   ]
  },
  {
   "cell_type": "code",
   "execution_count": 44,
   "id": "6a736a8f",
   "metadata": {},
   "outputs": [
    {
     "name": "stdout",
     "output_type": "stream",
     "text": [
      "나이가 어떻게 되세요? 18\n",
      "미성년자는 6,000원입니다.\n",
      "입장료를 넣어주세요. --> 6000\n",
      "감사합니다. 즐거운 시간 되세요!\n"
     ]
    }
   ],
   "source": [
    "age = int(input('나이가 어떻게 되세요? '))\n",
    "if age >= 20:\n",
    "    print('성인은 15,000원입니다.')\n",
    "    price = 15000\n",
    "else:\n",
    "    print('미성년자는 6,000원입니다.')\n",
    "    price = 6000\n",
    "\n",
    "price_input = int(input('입장료를 넣어주세요. --> '))\n",
    "if price_input < price:\n",
    "    print('{}원을 더 내야 합니다.'.format(price-price_input))\n",
    "\n",
    "elif price_input == price:\n",
    "    print('감사합니다. 즐거운 시간 되세요!')\n",
    "else:\n",
    "    print('{}원을 거슬러 드리겠습니다.'.format(price_input-price))"
   ]
  },
  {
   "cell_type": "code",
   "execution_count": 49,
   "id": "5b6a454a",
   "metadata": {},
   "outputs": [
    {
     "name": "stdout",
     "output_type": "stream",
     "text": [
      "구매금액은? 10000\n",
      "주문금액이 부족합니다.\n",
      "최종 결제금액은 10000원 입니다.\n"
     ]
    }
   ],
   "source": [
    "price = int(input('구매금액은? '))\n",
    "if price < 20000:\n",
    "    print('주문금액이 부족합니다.')\n",
    "elif price < 50000:\n",
    "    print('배송비 2500원이 추가됩니다.')\n",
    "    price += 2500\n",
    "else:\n",
    "    print('무료배송됩니다.')\n",
    "print('최종 결제금액은 {}원 입니다.'.format(price))"
   ]
  },
  {
   "cell_type": "code",
   "execution_count": 56,
   "id": "67d2aacd",
   "metadata": {},
   "outputs": [
    {
     "name": "stdout",
     "output_type": "stream",
     "text": [
      "미세먼지 저감 조치에 따른 차량 2부제를 시행합니다!\n",
      "오늘은 며칠입니까? 45\n",
      "올바른 날짜를 입력하세요.\n"
     ]
    }
   ],
   "source": [
    "print('미세먼지 저감 조치에 따른 차량 2부제를 시행합니다!')\n",
    "\n",
    "date = int(input('오늘은 며칠입니까? '))\n",
    "if date>31:\n",
    "    print('올바른 날짜를 입력하세요.')\n",
    "elif date%2 == 1:\n",
    "    print('홀수번호 차량만 통행가능합니다.\\n짝수번호 차주는 오늘 대중교통을 이용하세요.')\n",
    "else:\n",
    "    print('짝수번호 차량만 통행가능합니다.\\n홀수번호 차주는 오늘 대중교통을 이용하세요.')"
   ]
  },
  {
   "cell_type": "code",
   "execution_count": 58,
   "id": "3833488f",
   "metadata": {},
   "outputs": [
    {
     "name": "stdout",
     "output_type": "stream",
     "text": [
      "미세먼지 저감 조치에 따른 차량 2부제를 시행합니다!\n",
      "오늘은 며칠입니까? 32\n",
      "올바른 날짜를 입력하세요.\n"
     ]
    }
   ],
   "source": [
    "print('미세먼지 저감 조치에 따른 차량 2부제를 시행합니다!')\n",
    "\n",
    "date = int(input('오늘은 며칠입니까? '))\n",
    "if date <=31:\n",
    "    if date%2 == 1:\n",
    "        print('홀수번호 차량만 통행가능합니다.\\n짝수번호 차주는 오늘 대중교통을 이용하세요.')\n",
    "    else:\n",
    "        print('짝수번호 차량만 통행가능합니다.\\n홀수번호 차주는 오늘 대중교통을 이용하세요.')\n",
    "else:\n",
    "    print('올바른 날짜를 입력하세요.')"
   ]
  },
  {
   "cell_type": "code",
   "execution_count": 60,
   "id": "abffe690",
   "metadata": {},
   "outputs": [
    {
     "name": "stdout",
     "output_type": "stream",
     "text": [
      "구매금액은? 12000\n",
      "마케팅 이용 약관에 동의하셨습니까? (Y/N) N\n",
      "사은품 지급 대상이 아닙니다.\n"
     ]
    }
   ],
   "source": [
    "consumption = int(input('구매금액은? '))\n",
    "marketing_yn = input('마케팅 이용 약관에 동의하셨습니까? (Y/N) ')\n",
    "\n",
    "if consumption >= 10000 and marketing_yn == 'Y':\n",
    "    print('사은품 지급 대상입니다.')\n",
    "else:\n",
    "    print('사은품 지급 대상이 아닙니다.')"
   ]
  },
  {
   "cell_type": "code",
   "execution_count": 61,
   "id": "0a9ab9ea",
   "metadata": {},
   "outputs": [
    {
     "name": "stdout",
     "output_type": "stream",
     "text": [
      "구매금액은? 5000\n",
      "마케팅 이용 약관에 동의하셨습니까? (Y/N) Y\n",
      "무료주차 대상입니다.\n"
     ]
    }
   ],
   "source": [
    "consumption = int(input('구매금액은? '))\n",
    "marketing_yn = input('마케팅 이용 약관에 동의하셨습니까? (Y/N) ')\n",
    "\n",
    "if consumption >= 10000 or marketing_yn == 'Y':\n",
    "    print('무료주차 대상입니다.')\n",
    "else:\n",
    "    print('무료주차 대상이 아닙니다.')"
   ]
  },
  {
   "cell_type": "markdown",
   "id": "deb87c19",
   "metadata": {},
   "source": [
    "# 4장 실습"
   ]
  },
  {
   "cell_type": "markdown",
   "id": "0a4f0e98",
   "metadata": {},
   "source": [
    "### 1번"
   ]
  },
  {
   "cell_type": "code",
   "execution_count": 63,
   "id": "07997dc9",
   "metadata": {},
   "outputs": [
    {
     "name": "stdout",
     "output_type": "stream",
     "text": [
      "독감 검사 프로그램입니다.\n",
      "기침이 있습니까? (Y/N) N\n",
      "체온을 입력해주세요. 40\n",
      "독감일 가능성이 낮습니다.\n"
     ]
    }
   ],
   "source": [
    "print('독감 검사 프로그램입니다.')\n",
    "\n",
    "coughing = input('기침이 있습니까? (Y/N) ')\n",
    "heating = float(input('체온을 입력해주세요. '))\n",
    "\n",
    "if coughing == 'Y' and heating >= 38.5:\n",
    "    print('독감일 수 있습니다.')\n",
    "else:\n",
    "    print('독감일 가능성이 낮습니다.')"
   ]
  },
  {
   "cell_type": "markdown",
   "id": "74ccf0bf",
   "metadata": {},
   "source": [
    "### 2번"
   ]
  },
  {
   "cell_type": "code",
   "execution_count": 68,
   "id": "dd0deabd",
   "metadata": {},
   "outputs": [
    {
     "name": "stdout",
     "output_type": "stream",
     "text": [
      "메뉴판\n",
      "메뉴를 입력해주세요. (라면, 김밥) 김밥\n",
      "야채김밥(2,500원)\n",
      "참치김밥(3,500원)\n"
     ]
    }
   ],
   "source": [
    "print('메뉴판')\n",
    "\n",
    "menu = input('메뉴를 입력해주세요. (라면, 김밥) ')\n",
    "\n",
    "if menu == '라면':\n",
    "    print('기본라면(3,500원)\\n떡라면(4,000원)\\n만두라면(4,000원)')\n",
    "elif menu == '김밥':\n",
    "    print('야채김밥(2,500원)\\n참치김밥(3,500원)')\n",
    "else:\n",
    "    print('올바른 메뉴를 입력헤주세요.')"
   ]
  },
  {
   "cell_type": "markdown",
   "id": "977b7ab1",
   "metadata": {},
   "source": [
    "### 3번"
   ]
  },
  {
   "cell_type": "code",
   "execution_count": 74,
   "id": "3fc7b8d5",
   "metadata": {},
   "outputs": [
    {
     "name": "stdout",
     "output_type": "stream",
     "text": [
      "등급 출력 프로그램\n",
      "점수를 입력해주세요. 10\n",
      "C등급\n"
     ]
    }
   ],
   "source": [
    "print('등급 출력 프로그램')\n",
    "\n",
    "score = int(input('점수를 입력해주세요. '))\n",
    "\n",
    "if score >= 80 and score <= 100:\n",
    "    print('A등급')\n",
    "elif score >= 40 and score < 80:\n",
    "    print('B등급')\n",
    "elif score >= 0 and score < 40:\n",
    "    print('C등급')\n",
    "else:\n",
    "    print('잘못된 숫자를 입력했습니다.')"
   ]
  },
  {
   "cell_type": "code",
   "execution_count": null,
   "id": "50260280",
   "metadata": {},
   "outputs": [],
   "source": []
  }
 ],
 "metadata": {
  "kernelspec": {
   "display_name": "Python 3 (ipykernel)",
   "language": "python",
   "name": "python3"
  },
  "language_info": {
   "codemirror_mode": {
    "name": "ipython",
    "version": 3
   },
   "file_extension": ".py",
   "mimetype": "text/x-python",
   "name": "python",
   "nbconvert_exporter": "python",
   "pygments_lexer": "ipython3",
   "version": "3.9.12"
  }
 },
 "nbformat": 4,
 "nbformat_minor": 5
}
