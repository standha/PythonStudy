{
 "cells": [
  {
   "cell_type": "markdown",
   "id": "d9009918",
   "metadata": {},
   "source": [
    "한글 변수명 선언 가능"
   ]
  },
  {
   "cell_type": "code",
   "execution_count": 2,
   "id": "c630a26f",
   "metadata": {},
   "outputs": [
    {
     "name": "stdout",
     "output_type": "stream",
     "text": [
      "학생\n"
     ]
    }
   ],
   "source": [
    "변수 = '학생'\n",
    "print(변수)"
   ]
  },
  {
   "cell_type": "code",
   "execution_count": 3,
   "id": "2f66b8c9",
   "metadata": {},
   "outputs": [
    {
     "name": "stdout",
     "output_type": "stream",
     "text": [
      "학생고등\n"
     ]
    }
   ],
   "source": [
    "a = '학생'\n",
    "b = '고등'\n",
    "print(a+b)"
   ]
  },
  {
   "cell_type": "code",
   "execution_count": 4,
   "id": "d395fe77",
   "metadata": {},
   "outputs": [
    {
     "name": "stdout",
     "output_type": "stream",
     "text": [
      "고등학생\n",
      "대학생\n"
     ]
    }
   ],
   "source": [
    "a = '학생'\n",
    "b = '고등'\n",
    "print(b+a)\n",
    "b = '대'\n",
    "print(b+a)"
   ]
  },
  {
   "cell_type": "markdown",
   "id": "ea73fc46",
   "metadata": {},
   "source": [
    "{}를 사용해 format함수를 사용하는게 가독성이나 편리함 부분에서 유용함"
   ]
  },
  {
   "cell_type": "code",
   "execution_count": 6,
   "id": "023f613b",
   "metadata": {},
   "outputs": [
    {
     "name": "stdout",
     "output_type": "stream",
     "text": [
      "james 키는 186 , 나이는 24 , 취미는 cooking 입니다!\n",
      "james 키는 186, 나이는 24, 취미는 cooking 입니다!\n"
     ]
    }
   ],
   "source": [
    "name = 'james'\n",
    "height = 186\n",
    "age = 24\n",
    "hobby = 'cooking'\n",
    "print(name, '키는',height,', 나이는',age,', 취미는',hobby,'입니다!')\n",
    "print('{} 키는 {}, 나이는 {}, 취미는 {} 입니다!'.format(name, height, age, hobby))"
   ]
  },
  {
   "cell_type": "code",
   "execution_count": 7,
   "id": "91e03c4b",
   "metadata": {},
   "outputs": [
    {
     "data": {
      "text/plain": [
       "'\\n이 안은 전부 주석처리된다 /* */와 같음 \\n'"
      ]
     },
     "execution_count": 7,
     "metadata": {},
     "output_type": "execute_result"
    }
   ],
   "source": [
    "#원의 둘레 이 줄은 주석처리된다 //와 같음\n",
    "\"\"\"\n",
    "이 안은 전부 주석처리된다 /* */와 같음 \n",
    "\"\"\""
   ]
  },
  {
   "cell_type": "code",
   "execution_count": 27,
   "id": "fbd49432",
   "metadata": {},
   "outputs": [
    {
     "name": "stdout",
     "output_type": "stream",
     "text": [
      "반지름은? 10\n",
      "원의 넓이 = 314.1592 원의 둘레 = 62.83184 구의 겉넓이 = 1256.6368\n"
     ]
    }
   ],
   "source": [
    "p = 3.141592\n",
    "#int로 input을 묶는 이유는 자료형을 알기 위해서임\n",
    "r = int(input('반지름은? '))\n",
    "\n",
    "c_area = p*r**2\n",
    "c_len = 2*p*r\n",
    "s_area = 4*p*r**2\n",
    "\n",
    "print('원의 넓이 =', c_area, '원의 둘레 =', c_len, '구의 겉넓이 =', s_area)"
   ]
  },
  {
   "cell_type": "code",
   "execution_count": 14,
   "id": "94a51274",
   "metadata": {},
   "outputs": [
    {
     "name": "stdout",
     "output_type": "stream",
     "text": [
      "이름 : 고라니\n",
      "나이 : 4\n",
      "특징 : 애교가 많은 편\n",
      "고라니(4) 애교가 많은 편\n",
      "애교가 많은 편인 고라니\n"
     ]
    }
   ],
   "source": [
    "name = input('이름 : ')\n",
    "age = input('나이 : ')\n",
    "feature = input('특징 : ')\n",
    "print(name + '(' + age + ') ' + feature)\n",
    "print(feature + '인 ' + name)"
   ]
  },
  {
   "cell_type": "code",
   "execution_count": 25,
   "id": "0c7636c0",
   "metadata": {},
   "outputs": [
    {
     "name": "stdout",
     "output_type": "stream",
     "text": [
      "2017 년 -  175.5  cm\n",
      "2018 년 -  185.5  cm\n",
      "2019 년 -  195.5  cm\n",
      "2020 년 -  205.5  cm\n"
     ]
    }
   ],
   "source": [
    "year = 2017\n",
    "height = 175.5\n",
    "#자료형이 다를 경우 +를 사용할 수 없다. ,를 사용하자\n",
    "print(year,'년 - ',height,' cm')\n",
    "year += 1\n",
    "height += 10\n",
    "print(year,'년 - ',height,' cm')\n",
    "year += 1\n",
    "height += 10\n",
    "print(year,'년 - ',height,' cm')\n",
    "year += 1\n",
    "height += 10\n",
    "print(year,'년 - ',height,' cm')\n"
   ]
  },
  {
   "cell_type": "code",
   "execution_count": 30,
   "id": "88852435",
   "metadata": {},
   "outputs": [
    {
     "name": "stdout",
     "output_type": "stream",
     "text": [
      "<class 'float'>\n",
      "<class 'str'>\n"
     ]
    }
   ],
   "source": [
    "height = 175.5\n",
    "print(type(height))\n",
    "name = '제임스'\n",
    "#string의 약자인 str을 사용\n",
    "print(type(name))"
   ]
  },
  {
   "cell_type": "code",
   "execution_count": 32,
   "id": "b1b25a22",
   "metadata": {},
   "outputs": [
    {
     "name": "stdout",
     "output_type": "stream",
     "text": [
      "999\n",
      "<class 'str'>\n"
     ]
    }
   ],
   "source": [
    "#input함수는 모두 str 타입으로 받기 때문에 자료형을 선언해줘야 함\n",
    "a = input()\n",
    "print(type(a))"
   ]
  },
  {
   "cell_type": "code",
   "execution_count": 35,
   "id": "3e464630",
   "metadata": {},
   "outputs": [
    {
     "name": "stdout",
     "output_type": "stream",
     "text": [
      "<class 'int'> 79\n",
      "<class 'float'> 79.0\n",
      "<class 'int'> 79\n",
      "<class 'str'> 79\n"
     ]
    }
   ],
   "source": [
    "score = 79\n",
    "print(type(score),score)\n",
    "\n",
    "#실수형으로 바꾸기\n",
    "score = float(score)\n",
    "print(type(score), score)\n",
    "\n",
    "#정수형으로 바꾸기\n",
    "score = int(score)\n",
    "print(type(score), score)\n",
    "\n",
    "#str형으로 바꾸기\n",
    "score = str(score)\n",
    "print(type(score),score)"
   ]
  },
  {
   "cell_type": "code",
   "execution_count": 38,
   "id": "015677e6",
   "metadata": {},
   "outputs": [
    {
     "name": "stdout",
     "output_type": "stream",
     "text": [
      "과자를 몇 개 구매하시겠습니까? 3\n",
      "라면을 몇 개 구매하시겠습니까? 5\n",
      "햄을 몇 개 구매하시겠습니까? 2\n",
      "할인 전 금액: 12400 , 할인 후 금액: 9300.0\n"
     ]
    }
   ],
   "source": [
    "snack = int(input('과자를 몇 개 구매하시겠습니까? '))\n",
    "lamen = int(input('라면을 몇 개 구매하시겠습니까? '))\n",
    "ham = int(input('햄을 몇 개 구매하시겠습니까? '))\n",
    "s_result = snack * 1200\n",
    "l_result = lamen * 800\n",
    "h_result = ham * 2400\n",
    "result = s_result + l_result + h_result\n",
    "print('할인 전 금액:',result,', 할인 후 금액:',result*0.75)"
   ]
  },
  {
   "cell_type": "code",
   "execution_count": 41,
   "id": "43c362a2",
   "metadata": {},
   "outputs": [
    {
     "name": "stdout",
     "output_type": "stream",
     "text": [
      "숫자1 입력: 12\n",
      "숫자2 입력: 4\n",
      "두 수를 더한 값: 16\n",
      "두 수를 뺀 값: 8\n",
      "두 수를 곱한 값: 48\n",
      "두 수를 나눈 값: 3.0\n"
     ]
    }
   ],
   "source": [
    "x = int(input('숫자1 입력: '))\n",
    "y = int(input('숫자2 입력: '))\n",
    "\n",
    "print('두 수를 더한 값:',x+y)\n",
    "print('두 수를 뺀 값:',x-y)\n",
    "print('두 수를 곱한 값:',x*y)\n",
    "print('두 수를 나눈 값:',x/y)"
   ]
  },
  {
   "cell_type": "markdown",
   "id": "8e73e6ec",
   "metadata": {},
   "source": [
    "# 3장 실습"
   ]
  },
  {
   "cell_type": "markdown",
   "id": "53fdb0a5",
   "metadata": {},
   "source": [
    "### 1번"
   ]
  },
  {
   "cell_type": "code",
   "execution_count": 44,
   "id": "e50a76b5",
   "metadata": {},
   "outputs": [
    {
     "name": "stdout",
     "output_type": "stream",
     "text": [
      "당신은 누구입니까? 전설\n",
      "나는 전설이다.\n"
     ]
    }
   ],
   "source": [
    "name = input('당신은 누구입니까? ')\n",
    "print('나는 '+name+'이다.')"
   ]
  },
  {
   "cell_type": "markdown",
   "id": "04a064e4",
   "metadata": {},
   "source": [
    "### 2번"
   ]
  },
  {
   "cell_type": "code",
   "execution_count": 45,
   "id": "c74f8353",
   "metadata": {},
   "outputs": [
    {
     "name": "stdout",
     "output_type": "stream",
     "text": [
      "아이디 입력: yoori\n",
      "이름 입력: 유리\n",
      "유리 님! 회원가입을 환영합니다!\n",
      "yoori 님에게 지금 즉시 사용 가능한 쿠폰 5개 발급!\n",
      "yoori 님에게만 적립금 2000원 추가 지급!\n"
     ]
    }
   ],
   "source": [
    "id = input('아이디 입력: ')\n",
    "name = input('이름 입력: ')\n",
    "print(name,'님! 회원가입을 환영합니다!')\n",
    "print(id,'님에게 지금 즉시 사용 가능한 쿠폰 5개 발급!')\n",
    "print(id,'님에게만 적립금 2000원 추가 지급!')"
   ]
  },
  {
   "cell_type": "markdown",
   "id": "7642f031",
   "metadata": {},
   "source": [
    "### 4번"
   ]
  },
  {
   "cell_type": "code",
   "execution_count": 47,
   "id": "3b5451f6",
   "metadata": {},
   "outputs": [
    {
     "name": "stdout",
     "output_type": "stream",
     "text": [
      "국어 점수는? 60\n",
      "수학 점수는? 80\n",
      "영어 점수는? 93\n",
      "최종 점수는 58.190000000000005 입니다!\n"
     ]
    }
   ],
   "source": [
    "korea = int(input('국어 점수는? '))\n",
    "math = int(input('수학 점수는? '))\n",
    "english = int(input('영어 점수는? '))\n",
    "\n",
    "korea *= 0.16\n",
    "math *= 0.34\n",
    "english *= 0.23\n",
    "\n",
    "result = korea + math + english\n",
    "print('최종 점수는',result,'입니다!')"
   ]
  },
  {
   "cell_type": "code",
   "execution_count": null,
   "id": "f548b34a",
   "metadata": {},
   "outputs": [],
   "source": []
  }
 ],
 "metadata": {
  "kernelspec": {
   "display_name": "Python 3 (ipykernel)",
   "language": "python",
   "name": "python3"
  },
  "language_info": {
   "codemirror_mode": {
    "name": "ipython",
    "version": 3
   },
   "file_extension": ".py",
   "mimetype": "text/x-python",
   "name": "python",
   "nbconvert_exporter": "python",
   "pygments_lexer": "ipython3",
   "version": "3.9.12"
  }
 },
 "nbformat": 4,
 "nbformat_minor": 5
}
