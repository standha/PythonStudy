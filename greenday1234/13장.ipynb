{
 "cells": [
  {
   "cell_type": "code",
   "execution_count": 2,
   "id": "4e797560",
   "metadata": {},
   "outputs": [
    {
     "name": "stdout",
     "output_type": "stream",
     "text": [
      "hi!\n",
      "My name is Python!\n",
      "hi!\n",
      "My name is Python!\n"
     ]
    }
   ],
   "source": [
    "def hi():\n",
    "    print('hi!')\n",
    "    print('My name is Python!')\n",
    "hi()\n",
    "hi()"
   ]
  },
  {
   "cell_type": "code",
   "execution_count": 7,
   "id": "0acddb1d",
   "metadata": {},
   "outputs": [
    {
     "name": "stdout",
     "output_type": "stream",
     "text": [
      "hi!\n",
      "My name is dragon!\n",
      "hi!\n",
      "My name is 2020!\n"
     ]
    }
   ],
   "source": [
    "def hi(name):\n",
    "    print('hi!')\n",
    "    print('My name is {}!'.format(name))\n",
    "\n",
    "hi('dragon') #굳이 name = 'dragon'을 사용하지 않고 바로 명칭을 사용해도 됨\n",
    "hi(2020)"
   ]
  },
  {
   "cell_type": "code",
   "execution_count": 13,
   "id": "72744365",
   "metadata": {},
   "outputs": [
    {
     "name": "stdout",
     "output_type": "stream",
     "text": [
      "hi!\n",
      "My name is 고라니 and My job is programmer\n"
     ]
    }
   ],
   "source": [
    "def hi_2(name, job):\n",
    "    print('hi!')\n",
    "    print('My name is {} and My job is {}'.format(name, job))\n",
    "\n",
    "hi_2('고라니', 'programmer')"
   ]
  },
  {
   "cell_type": "code",
   "execution_count": 15,
   "id": "3cdf91d3",
   "metadata": {},
   "outputs": [
    {
     "name": "stdout",
     "output_type": "stream",
     "text": [
      "hi!\n",
      "My name is None!\n",
      "hi!\n",
      "My name is B!\n",
      "hi!\n",
      "My name is C!\n"
     ]
    }
   ],
   "source": [
    "def hi(name = 'None'): #초기값 설정이 어려울 땐 None을 자주 사용 NULL과 비슷한 의미\n",
    "    print('hi!')\n",
    "    print('My name is {}!'.format(name))\n",
    "hi()\n",
    "hi('B')\n",
    "hi('C')"
   ]
  },
  {
   "cell_type": "code",
   "execution_count": 18,
   "id": "2f36e373",
   "metadata": {},
   "outputs": [
    {
     "name": "stdout",
     "output_type": "stream",
     "text": [
      "1335\n"
     ]
    }
   ],
   "source": [
    "def plus(num1, num2):\n",
    "    result = num1+num2\n",
    "    return result\n",
    "\n",
    "print(plus(486, 849))"
   ]
  },
  {
   "cell_type": "code",
   "execution_count": 19,
   "id": "b6d061e5",
   "metadata": {},
   "outputs": [
    {
     "name": "stdout",
     "output_type": "stream",
     "text": [
      "첫 번째 숫자 : 379\n",
      "두 번째 숫자 : 184\n",
      "두 수의 합 : 563\n"
     ]
    }
   ],
   "source": [
    "def plus(num1, num2):\n",
    "    result = num1+num2\n",
    "    return result\n",
    "\n",
    "a, b = int(input('첫 번째 숫자 : ')), int(input('두 번째 숫자 : '))\n",
    "sum_ab = plus(a,b)\n",
    "print('두 수의 합 : {}'.format(sum_ab))"
   ]
  },
  {
   "cell_type": "code",
   "execution_count": 20,
   "id": "2989e0ea",
   "metadata": {},
   "outputs": [
    {
     "name": "stdout",
     "output_type": "stream",
     "text": [
      "합격입니다! 점수는 82.5\n"
     ]
    }
   ],
   "source": [
    "def calculate_score(kor, eng, mat):\n",
    "    score = kor * 0.3 + eng * 0.3 + mat * 0.4\n",
    "    return score\n",
    "student1 = calculate_score(99, 80, 72)\n",
    "if student1 > 80:\n",
    "    print('합격입니다! 점수는 {}'.format(student1))\n",
    "else:\n",
    "    print('탈락입니다. 점수는 {}'.format(student1))"
   ]
  },
  {
   "cell_type": "code",
   "execution_count": 24,
   "id": "0e231578",
   "metadata": {},
   "outputs": [
    {
     "name": "stdout",
     "output_type": "stream",
     "text": [
      "환산 점수 : 82.5 합격 여부 : yes\n",
      "(82.5, 'yes')\n"
     ]
    }
   ],
   "source": [
    "def calculate_score_pass(kor, eng, mat):\n",
    "    score = kor * 0.3 + eng * 0.3 + mat * 0.4\n",
    "    if score > 80:\n",
    "        pass_yn = 'yes'\n",
    "    else:\n",
    "        pass_yn = 'no'\n",
    "    return score, pass_yn\n",
    "stu1_score, stu1_pass = calculate_score_pass(99, 80, 72)\n",
    "print('환산 점수 : {} 합격 여부 : {}'.format(stu1_score, stu1_pass))\n",
    "\n",
    "stu1 = calculate_score_pass(99, 80, 72) #여러개의 반환값을 하나의 변수에 담을 시 튜플로 나타남 () <--튜플\n",
    "print(stu1) #오류발생 x"
   ]
  },
  {
   "cell_type": "code",
   "execution_count": 25,
   "id": "13a1edb7",
   "metadata": {},
   "outputs": [
    {
     "name": "stdout",
     "output_type": "stream",
     "text": [
      "자기소개를 시작합니다.\n",
      "이름은? 제임스\n",
      "hi!\n",
      "My name is 제임스!\n",
      "제임스님 안녕하세요.\n"
     ]
    }
   ],
   "source": [
    "def hi():\n",
    "    name = input('이름은? ')\n",
    "    print('hi!')\n",
    "    print('My name is {}!'.format(name))\n",
    "    return name\n",
    "print('자기소개를 시작합니다.')\n",
    "person = hi()\n",
    "print('{}님 안녕하세요.'.format(person))"
   ]
  },
  {
   "cell_type": "code",
   "execution_count": 30,
   "id": "dccd961f",
   "metadata": {},
   "outputs": [
    {
     "name": "stdout",
     "output_type": "stream",
     "text": [
      "7 20\n",
      "9 40\n",
      "11 80\n",
      "13 160\n",
      "15 320\n"
     ]
    }
   ],
   "source": [
    "def func1():\n",
    "    global a, b #전역변수 사용 명령어 global\n",
    "    a += 2\n",
    "    b *= 2\n",
    "    print(a,b)\n",
    "    \n",
    "a, b = 5, 10\n",
    "for i in range(5):\n",
    "    func1()"
   ]
  },
  {
   "cell_type": "code",
   "execution_count": 33,
   "id": "f3997f0b",
   "metadata": {},
   "outputs": [
    {
     "name": "stdout",
     "output_type": "stream",
     "text": [
      "현재 점수 : 5\n",
      "최종 점수 : 10\n"
     ]
    }
   ],
   "source": [
    "def reward_penalty(kind, points):\n",
    "    global current_point\n",
    "    print('현재 점수 : {}'.format(current_point))\n",
    "    if kind == '상점':\n",
    "        current_point += points\n",
    "    elif kind == '벌점':\n",
    "        current_point -= points\n",
    "    return current_point\n",
    "\n",
    "current_point = 5\n",
    "reward_penalty('상점', 5)\n",
    "print('최종 점수 : {}'.format(current_point))"
   ]
  },
  {
   "cell_type": "code",
   "execution_count": 35,
   "id": "5f2331df",
   "metadata": {},
   "outputs": [
    {
     "name": "stdout",
     "output_type": "stream",
     "text": [
      "구구단을 외자!구구단을 외자!\n",
      "7 x 4 ? 28\n",
      "5 x 7 ? 35\n",
      "8 x 1 ? 8\n",
      "9 x 5 ? 1\n",
      "땡! 정답은 45\n"
     ]
    }
   ],
   "source": [
    "import random\n",
    "\n",
    "def gugudan(num1, num2):\n",
    "    answer = int(input('{} x {} ? '.format(num1, num2)))\n",
    "    if answer == num1 * num2:\n",
    "        return 0\n",
    "    else:\n",
    "        print('땡! 정답은 {}'.format(num1*num2))\n",
    "        return -1\n",
    "    \n",
    "print('구구단을 외자!'*2)\n",
    "for i in range(20):\n",
    "    a, b = random.randint(2,9), random.randint(1,9)\n",
    "    if gugudan(a, b) != 0:\n",
    "        break  "
   ]
  },
  {
   "cell_type": "code",
   "execution_count": 39,
   "id": "f4ebec26",
   "metadata": {},
   "outputs": [
    {
     "name": "stdout",
     "output_type": "stream",
     "text": [
      "팅 팅팅팅 탱 탱탱탱 팅팅 탱탱 프라이팬 놀이\n",
      "이름? 까치\n",
      "횟수? 3\n",
      "까치까치까치\n",
      "이름? 강아지\n",
      "횟수? 4\n",
      "강아지강아지강아지강아지\n",
      "이름? 냥이\n",
      "횟수? 2\n",
      "냥이은/는 없는 이름입니다!\n"
     ]
    }
   ],
   "source": [
    "def game_player(name, cnt):\n",
    "    print(name*cnt)\n",
    "    \n",
    "def wrong_play(name, cnt):\n",
    "    if name not in players:\n",
    "        print('{}은/는 없는 이름입니다!'.format(name))\n",
    "        return -1\n",
    "    if cnt <1 or cnt >4:\n",
    "        print('1~4의 숫자만 가능합니다! 입력한 숫자 {}'.format(cnt))\n",
    "        return -1\n",
    "    \n",
    "print('팅 팅팅팅 탱 탱탱탱 팅팅 탱탱 프라이팬 놀이')\n",
    "players = ['까치', '강아지', '토끼', '고양이', '참새']\n",
    "\n",
    "for i in range(5):\n",
    "    next_player, count = input('이름? '), int(input('횟수? '))\n",
    "    check = wrong_play(next_player, count)\n",
    "    if check == -1:\n",
    "        break\n",
    "    else:\n",
    "        game_player(next_player, count)"
   ]
  },
  {
   "cell_type": "code",
   "execution_count": 43,
   "id": "8ff6b411",
   "metadata": {},
   "outputs": [
    {
     "name": "stdout",
     "output_type": "stream",
     "text": [
      "핫 플레이스가 위치한 행정동을 입력하세요. --> 압구정동\n",
      "압구정동 - 11680545 을(를) 분석합니다!\n"
     ]
    },
    {
     "data": {
      "image/png": "[encoded data removed]",
      "text/plain": [
       "<Figure size 432x288 with 1 Axes>"
      ]
     },
     "metadata": {
      "needs_background": "light"
     },
     "output_type": "display_data"
    },
    {
     "data": {
      "image/png": "[encoded data removed]",
      "text/plain": [
       "<Figure size 432x288 with 1 Axes>"
      ]
     },
     "metadata": {
      "needs_background": "light"
     },
     "output_type": "display_data"
    },
    {
     "data": {
      "image/png": "[encoded data removed]",
      "text/plain": [
       "<Figure size 432x288 with 1 Axes>"
      ]
     },
     "metadata": {
      "needs_background": "light"
     },
     "output_type": "display_data"
    },
    {
     "name": "stdout",
     "output_type": "stream",
     "text": [
      "비교할 행정동을 입력하세요. -->역삼2동\n",
      "역삼2동 - 11680650 을(를) 분석합니다!\n"
     ]
    },
    {
     "data": {
      "image/png": "[encoded data removed]",
      "text/plain": [
       "<Figure size 432x288 with 1 Axes>"
      ]
     },
     "metadata": {
      "needs_background": "light"
     },
     "output_type": "display_data"
    }
   ],
   "source": [
    "import csv\n",
    "import matplotlib.pyplot as plt\n",
    "import datetime\n",
    "\n",
    "#파일 열기\n",
    "def file_open():\n",
    "    f = open('LOCAL_PEOPLE_DONG_201912.csv')\n",
    "    data = csv.reader(f)\n",
    "    next(data)\n",
    "    data = list(data)\n",
    "    \n",
    "    f2 = open('dong_code.csv')\n",
    "    code_data = csv.reader(f2)\n",
    "    next(code_data)\n",
    "    next(code_data)\n",
    "    code_data = list(code_data)\n",
    "    \n",
    "    for row in data:\n",
    "        for i in range(1, 32):\n",
    "            if i <= 2:\n",
    "                row[i] = int(row[i])\n",
    "            else:\n",
    "                row[i] = float(row[i])\n",
    "                \n",
    "    for row in code_data:\n",
    "        row[1] = int(row[1])\n",
    "    return data, code_data\n",
    "\n",
    "#행정동 이름으로 코드 찾기\n",
    "def dong_search(dong_name):\n",
    "    for row in code_data:\n",
    "        if row[-1] == dong_name:\n",
    "            code = row[1]\n",
    "    print('{} - {} 을(를) 분석합니다!'.format(dong_name, code))\n",
    "    return code\n",
    "\n",
    "#그래프\n",
    "def graph_plot(popu_list, label_list, graph_title):\n",
    "    plt.rc('font',family='AppleGothic')\n",
    "    plt.title(graph_title)\n",
    "    for i in range(len(popu_list)):\n",
    "        plt.plot(range(24), popu_list[i], label = label_list[i])\n",
    "    plt.legend()\n",
    "    plt.xlabel('시간대')\n",
    "    plt.ylabel('평군인구수')\n",
    "    plt.xticks(range(24))\n",
    "    plt.show()\n",
    "\n",
    "#시간대별 인구 분석\n",
    "def analysis1(dong_name, dong_code, graph_yn = 'y'):\n",
    "    population = [0 for i in range(24)]\n",
    "    for row in data:\n",
    "        if row[2] == dong_code:\n",
    "            time, p = row[1], row[3]\n",
    "            population[time] += p\n",
    "    population = [p/31 for p in population]\n",
    "    \n",
    "    if graph_yn == 'n':\n",
    "        return population\n",
    "    \n",
    "    population = [population]\n",
    "    labels = ['평균인구']\n",
    "    title = dong_name + '시간대별 평균인구'\n",
    "    graph_plot(population, labels, title)\n",
    "    \n",
    "#주중/주말 시간대별 인구 분석    \n",
    "def analysis2(dong_name, dong_code):\n",
    "    weekday = [0 for i in range(24)]\n",
    "    weekend = [0 for i in range(24)]\n",
    "    \n",
    "    for row in data:\n",
    "        if row[2] == dong_code:\n",
    "            time, p = row[1], row[3]\n",
    "            year, mon, day = int(row[0][:4]), int(row[0][4:6]), int(row[0][6:])\n",
    "            num = datetime.date(year, mon, day).weekday()\n",
    "            if num < 5:\n",
    "                weekday[time] += p\n",
    "            else:\n",
    "                weekend[time] += p\n",
    "    weekday_cnt, weekend_cnt = 0, 0\n",
    "    for i in range(1, 32):\n",
    "        if datetime.date(2019, 12, i).weekday() < 5:\n",
    "            weekday_cnt += 1\n",
    "        else:\n",
    "            weekend_cnt += 1\n",
    "    weekday = [w/weekday_cnt for w in weekday]\n",
    "    weekend = [w/weekend_cnt for w in weekend]\n",
    "    \n",
    "    data_set = [weekday, weekend]\n",
    "    labels = ['주중', '주말']\n",
    "    title = dong_name + '주중/주말 시간대별 평균인구'\n",
    "    graph_plot(data_set, labels, title)\n",
    "    \n",
    "#남녀 시간대별 인구 분석\n",
    "def analysis3(dong_name, dong_code):\n",
    "    male = [0 for i in range(24)]\n",
    "    female = [0 for i in range(24)]\n",
    "    \n",
    "    for row in data:\n",
    "        if row[2] == dong_code:\n",
    "            time = int(row[1])\n",
    "            male[time] += sum(row[4:18])\n",
    "            female[time] += sum(row[18:32])\n",
    "    male = [m/31 for m in male]\n",
    "    female = [f/31 for f in female]\n",
    "    \n",
    "    data_set = [male, female]\n",
    "    labels = ['남성', '여성']\n",
    "    title = dong_name + '남녀 시간대별 평균인구'\n",
    "    graph_plot(data_set, labels, title)\n",
    "    \n",
    "#다른 지역 인구 비교 분석\n",
    "def analysis4(dong_name1, dong_code1):\n",
    "    dong_name2 = input('비교할 행정동을 입력하세요. -->')\n",
    "    dong_code2 = dong_search(dong_name2)\n",
    "    \n",
    "    population1 = analysis1(dong_name1, dong_code1, 'n')\n",
    "    population2 = analysis1(dong_name2, dong_code2, 'n')\n",
    "    \n",
    "    data_set = [population1, population2]\n",
    "    labels = [dong_name1, dong_name2]\n",
    "    title = dong_name1 + '과 ' + dong_name2 + ' 시간대별 평균인구'\n",
    "    graph_plot(data_set, labels, title)\n",
    "\n",
    "data, code_data = file_open()\n",
    "input_name = input('핫 플레이스가 위치한 행정동을 입력하세요. --> ')\n",
    "input_code = dong_search(input_name)\n",
    "analysis1(input_name, input_code)\n",
    "analysis2(input_name, input_code)\n",
    "analysis3(input_name, input_code)\n",
    "analysis4(input_name, input_code)"
   ]
  },
  {
   "cell_type": "code",
   "execution_count": 45,
   "id": "26ccc9e1",
   "metadata": {},
   "outputs": [
    {
     "name": "stdout",
     "output_type": "stream",
     "text": [
      "핫플레이스는 언제 가야 가장 덜 붐빌까?\n",
      "핫플레이스가 위치한 행정동을 입력하세요. --> 여의동\n",
      "여의동 - 11560540 을(를) 분석합니다!\n",
      "1. 시간대별 평균 인구는 어떻게 될까?\n",
      "2. 주중에 가야 할까, 주말에 가야 할까?\n",
      "3. 남성이 많을까, 여성이 많을까?\n",
      "4. 나에게 익숙한 지역과 비교해 얼마나 붐빌까?\n",
      "분석하고 싶은 내용의 번호를 입력해 주세요, --> 3\n"
     ]
    },
    {
     "data": {
      "image/png": "[encoded data removed]",
      "text/plain": [
       "<Figure size 432x288 with 1 Axes>"
      ]
     },
     "metadata": {
      "needs_background": "light"
     },
     "output_type": "display_data"
    }
   ],
   "source": [
    "import csv\n",
    "import matplotlib.pyplot as plt\n",
    "import datetime\n",
    "\n",
    "#파일 열기\n",
    "def file_open():\n",
    "    f = open('LOCAL_PEOPLE_DONG_201912.csv')\n",
    "    data = csv.reader(f)\n",
    "    next(data)\n",
    "    data = list(data)\n",
    "    \n",
    "    f2 = open('dong_code.csv')\n",
    "    code_data = csv.reader(f2)\n",
    "    next(code_data)\n",
    "    next(code_data)\n",
    "    code_data = list(code_data)\n",
    "    \n",
    "    for row in data:\n",
    "        for i in range(1, 32):\n",
    "            if i <= 2:\n",
    "                row[i] = int(row[i])\n",
    "            else:\n",
    "                row[i] = float(row[i])\n",
    "                \n",
    "    for row in code_data:\n",
    "        row[1] = int(row[1])\n",
    "    return data, code_data\n",
    "\n",
    "#행정동 이름으로 코드 찾기\n",
    "def dong_search(dong_name):\n",
    "    for row in code_data:\n",
    "        if row[-1] == dong_name:\n",
    "            code = row[1]\n",
    "    print('{} - {} 을(를) 분석합니다!'.format(dong_name, code))\n",
    "    return code\n",
    "\n",
    "#그래프\n",
    "def graph_plot(popu_list, label_list, graph_title):\n",
    "    plt.rc('font',family='AppleGothic')\n",
    "    plt.title(graph_title)\n",
    "    for i in range(len(popu_list)):\n",
    "        plt.plot(range(24), popu_list[i], label = label_list[i])\n",
    "    plt.legend()\n",
    "    plt.xlabel('시간대')\n",
    "    plt.ylabel('평군인구수')\n",
    "    plt.xticks(range(24))\n",
    "    plt.show()\n",
    "\n",
    "#시간대별 인구 분석\n",
    "def analysis1(dong_name, dong_code, graph_yn = 'y'):\n",
    "    population = [0 for i in range(24)]\n",
    "    for row in data:\n",
    "        if row[2] == dong_code:\n",
    "            time, p = row[1], row[3]\n",
    "            population[time] += p\n",
    "    population = [p/31 for p in population]\n",
    "    \n",
    "    if graph_yn == 'n':\n",
    "        return population\n",
    "    \n",
    "    population = [population]\n",
    "    labels = ['평균인구']\n",
    "    title = dong_name + '시간대별 평균인구'\n",
    "    graph_plot(population, labels, title)\n",
    "    \n",
    "#주중/주말 시간대별 인구 분석    \n",
    "def analysis2(dong_name, dong_code):\n",
    "    weekday = [0 for i in range(24)]\n",
    "    weekend = [0 for i in range(24)]\n",
    "    \n",
    "    for row in data:\n",
    "        if row[2] == dong_code:\n",
    "            time, p = row[1], row[3]\n",
    "            year, mon, day = int(row[0][:4]), int(row[0][4:6]), int(row[0][6:])\n",
    "            num = datetime.date(year, mon, day).weekday()\n",
    "            if num < 5:\n",
    "                weekday[time] += p\n",
    "            else:\n",
    "                weekend[time] += p\n",
    "    weekday_cnt, weekend_cnt = 0, 0\n",
    "    for i in range(1, 32):\n",
    "        if datetime.date(2019, 12, i).weekday() < 5:\n",
    "            weekday_cnt += 1\n",
    "        else:\n",
    "            weekend_cnt += 1\n",
    "    weekday = [w/weekday_cnt for w in weekday]\n",
    "    weekend = [w/weekend_cnt for w in weekend]\n",
    "    \n",
    "    data_set = [weekday, weekend]\n",
    "    labels = ['주중', '주말']\n",
    "    title = dong_name + '주중/주말 시간대별 평균인구'\n",
    "    graph_plot(data_set, labels, title)\n",
    "    \n",
    "#남녀 시간대별 인구 분석\n",
    "def analysis3(dong_name, dong_code):\n",
    "    male = [0 for i in range(24)]\n",
    "    female = [0 for i in range(24)]\n",
    "    \n",
    "    for row in data:\n",
    "        if row[2] == dong_code:\n",
    "            time = int(row[1])\n",
    "            male[time] += sum(row[4:18])\n",
    "            female[time] += sum(row[18:32])\n",
    "    male = [m/31 for m in male]\n",
    "    female = [f/31 for f in female]\n",
    "    \n",
    "    data_set = [male, female]\n",
    "    labels = ['남성', '여성']\n",
    "    title = dong_name + '남녀 시간대별 평균인구'\n",
    "    graph_plot(data_set, labels, title)\n",
    "    \n",
    "#다른 지역 인구 비교 분석\n",
    "def analysis4(dong_name1, dong_code1):\n",
    "    dong_name2 = input('비교할 행정동을 입력하세요. -->')\n",
    "    dong_code2 = dong_search(dong_name2)\n",
    "    \n",
    "    population1 = analysis1(dong_name1, dong_code1, 'n')\n",
    "    population2 = analysis1(dong_name2, dong_code2, 'n')\n",
    "    \n",
    "    data_set = [population1, population2]\n",
    "    labels = [dong_name1, dong_name2]\n",
    "    title = dong_name1 + '과 ' + dong_name2 + ' 시간대별 평균인구'\n",
    "    graph_plot(data_set, labels, title)\n",
    "\n",
    "data, code_data = file_open()\n",
    "print('핫플레이스는 언제 가야 가장 덜 붐빌까?')\n",
    "\n",
    "input_name = input('핫플레이스가 위치한 행정동을 입력하세요. --> ')\n",
    "input_code = dong_search(input_name)\n",
    "print('1. 시간대별 평균 인구는 어떻게 될까?')\n",
    "print('2. 주중에 가야 할까, 주말에 가야 할까?')\n",
    "print('3. 남성이 많을까, 여성이 많을까?')\n",
    "print('4. 나에게 익숙한 지역과 비교해 얼마나 붐빌까?')\n",
    "\n",
    "selection = int(input('분석하고 싶은 내용의 번호를 입력해 주세요, --> '))\n",
    "if selection == 1:\n",
    "    analysis1(input_name, input_code)\n",
    "elif selection == 2:\n",
    "    analysis2(input_name, input_code)\n",
    "elif selection == 3:\n",
    "    analysis3(input_name, input_code)\n",
    "elif selection == 4:\n",
    "    analysis4(input_name, input_code)\n",
    "else:\n",
    "    print('잘못된 입력입니다.')"
   ]
  },
  {
   "cell_type": "markdown",
   "id": "7f857ae7",
   "metadata": {},
   "source": [
    "# 13장 실습"
   ]
  },
  {
   "cell_type": "markdown",
   "id": "99a0b544",
   "metadata": {},
   "source": [
    "### 1번"
   ]
  },
  {
   "cell_type": "code",
   "execution_count": 47,
   "id": "1a377d20",
   "metadata": {},
   "outputs": [
    {
     "name": "stdout",
     "output_type": "stream",
     "text": [
      "9 x 1 = 9\n",
      "9 x 2 = 18\n",
      "9 x 3 = 27\n",
      "9 x 4 = 36\n",
      "9 x 5 = 45\n",
      "9 x 6 = 54\n",
      "9 x 7 = 63\n",
      "9 x 8 = 72\n",
      "9 x 9 = 81\n"
     ]
    }
   ],
   "source": [
    "def gugudan(num):\n",
    "    for i in range(1,10):\n",
    "        print('{} x {} = {}'.format(num, i, num*i))\n",
    "gugudan(9)"
   ]
  },
  {
   "cell_type": "markdown",
   "id": "ce25441b",
   "metadata": {},
   "source": [
    "### 2번"
   ]
  },
  {
   "cell_type": "code",
   "execution_count": 48,
   "id": "8a48ce2a",
   "metadata": {},
   "outputs": [
    {
     "name": "stdout",
     "output_type": "stream",
     "text": [
      "2단----------\n",
      "2 x 1 = 2\n",
      "2 x 2 = 4\n",
      "2 x 3 = 6\n",
      "2 x 4 = 8\n",
      "2 x 5 = 10\n",
      "2 x 6 = 12\n",
      "2 x 7 = 14\n",
      "2 x 8 = 16\n",
      "2 x 9 = 18\n",
      "3단----------\n",
      "3 x 1 = 3\n",
      "3 x 2 = 6\n",
      "3 x 3 = 9\n",
      "3 x 4 = 12\n",
      "3 x 5 = 15\n",
      "3 x 6 = 18\n",
      "3 x 7 = 21\n",
      "3 x 8 = 24\n",
      "3 x 9 = 27\n",
      "4단----------\n",
      "4 x 1 = 4\n",
      "4 x 2 = 8\n",
      "4 x 3 = 12\n",
      "4 x 4 = 16\n",
      "4 x 5 = 20\n",
      "4 x 6 = 24\n",
      "4 x 7 = 28\n",
      "4 x 8 = 32\n",
      "4 x 9 = 36\n",
      "5단----------\n",
      "5 x 1 = 5\n",
      "5 x 2 = 10\n",
      "5 x 3 = 15\n",
      "5 x 4 = 20\n",
      "5 x 5 = 25\n",
      "5 x 6 = 30\n",
      "5 x 7 = 35\n",
      "5 x 8 = 40\n",
      "5 x 9 = 45\n",
      "6단----------\n",
      "6 x 1 = 6\n",
      "6 x 2 = 12\n",
      "6 x 3 = 18\n",
      "6 x 4 = 24\n",
      "6 x 5 = 30\n",
      "6 x 6 = 36\n",
      "6 x 7 = 42\n",
      "6 x 8 = 48\n",
      "6 x 9 = 54\n",
      "7단----------\n",
      "7 x 1 = 7\n",
      "7 x 2 = 14\n",
      "7 x 3 = 21\n",
      "7 x 4 = 28\n",
      "7 x 5 = 35\n",
      "7 x 6 = 42\n",
      "7 x 7 = 49\n",
      "7 x 8 = 56\n",
      "7 x 9 = 63\n",
      "8단----------\n",
      "8 x 1 = 8\n",
      "8 x 2 = 16\n",
      "8 x 3 = 24\n",
      "8 x 4 = 32\n",
      "8 x 5 = 40\n",
      "8 x 6 = 48\n",
      "8 x 7 = 56\n",
      "8 x 8 = 64\n",
      "8 x 9 = 72\n",
      "9단----------\n",
      "9 x 1 = 9\n",
      "9 x 2 = 18\n",
      "9 x 3 = 27\n",
      "9 x 4 = 36\n",
      "9 x 5 = 45\n",
      "9 x 6 = 54\n",
      "9 x 7 = 63\n",
      "9 x 8 = 72\n",
      "9 x 9 = 81\n"
     ]
    }
   ],
   "source": [
    "def gugudan():\n",
    "    for i in range(2,10):\n",
    "        print('{}단----------'.format(i))\n",
    "        for j in range(1,10):\n",
    "            print('{} x {} = {}'.format(i, j, i*j))\n",
    "gugudan()"
   ]
  },
  {
   "cell_type": "markdown",
   "id": "5a14797d",
   "metadata": {},
   "source": [
    "### 3번"
   ]
  },
  {
   "cell_type": "code",
   "execution_count": 49,
   "id": "ea0bf740",
   "metadata": {},
   "outputs": [
    {
     "name": "stdout",
     "output_type": "stream",
     "text": [
      "점수 : 85\n",
      "등급 : A\n"
     ]
    }
   ],
   "source": [
    "def cal_grade(num):\n",
    "    if num >= 80:\n",
    "        return 'A'\n",
    "    elif num < 80 and num >= 40:\n",
    "        return 'B'\n",
    "    elif num < 40:\n",
    "        return 'C'\n",
    "    \n",
    "s = int(input('점수 : '))\n",
    "print('등급 : {}'.format(cal_grade(s)))"
   ]
  },
  {
   "cell_type": "code",
   "execution_count": null,
   "id": "fe25a6b8",
   "metadata": {},
   "outputs": [],
   "source": []
  }
 ],
 "metadata": {
  "kernelspec": {
   "display_name": "Python 3 (ipykernel)",
   "language": "python",
   "name": "python3"
  },
  "language_info": {
   "codemirror_mode": {
    "name": "ipython",
    "version": 3
   },
   "file_extension": ".py",
   "mimetype": "text/x-python",
   "name": "python",
   "nbconvert_exporter": "python",
   "pygments_lexer": "ipython3",
   "version": "3.9.12"
  }
 },
 "nbformat": 4,
 "nbformat_minor": 5
}
