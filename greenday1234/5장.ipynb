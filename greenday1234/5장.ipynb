{
 "cells": [
  {
   "cell_type": "code",
   "execution_count": 1,
   "id": "a80484cc",
   "metadata": {},
   "outputs": [
    {
     "name": "stdout",
     "output_type": "stream",
     "text": [
      "안녕하세요.\n",
      "안녕하세요.\n",
      "안녕하세요.\n",
      "안녕하세요.\n",
      "안녕하세요.\n"
     ]
    }
   ],
   "source": [
    "for a in [1,2,3,4,5]:\n",
    "    print('안녕하세요.')"
   ]
  },
  {
   "cell_type": "code",
   "execution_count": 3,
   "id": "b5da0d8f",
   "metadata": {},
   "outputs": [
    {
     "name": "stdout",
     "output_type": "stream",
     "text": [
      "1을(를) 저장 중입니다.\n",
      "2을(를) 저장 중입니다.\n",
      "3을(를) 저장 중입니다.\n",
      "4을(를) 저장 중입니다.\n",
      "5을(를) 저장 중입니다.\n"
     ]
    }
   ],
   "source": [
    "for a in [1,2,3,4,5]:\n",
    "    print('{}을(를) 저장 중입니다.'.format(a))"
   ]
  },
  {
   "cell_type": "code",
   "execution_count": 6,
   "id": "2f2b262d",
   "metadata": {},
   "outputs": [
    {
     "name": "stdout",
     "output_type": "stream",
     "text": [
      "1 선생님, 다시는 청소를 빼먹지 않겠습니다.\n",
      "2 선생님, 다시는 청소를 빼먹지 않겠습니다.\n",
      "3 선생님, 다시는 청소를 빼먹지 않겠습니다.\n",
      "4 선생님, 다시는 청소를 빼먹지 않겠습니다.\n",
      "5 선생님, 다시는 청소를 빼먹지 않겠습니다.\n",
      "6 선생님, 다시는 청소를 빼먹지 않겠습니다.\n",
      "7 선생님, 다시는 청소를 빼먹지 않겠습니다.\n",
      "8 선생님, 다시는 청소를 빼먹지 않겠습니다.\n",
      "9 선생님, 다시는 청소를 빼먹지 않겠습니다.\n",
      "10 선생님, 다시는 청소를 빼먹지 않겠습니다.\n",
      "11 선생님, 다시는 청소를 빼먹지 않겠습니다.\n",
      "12 선생님, 다시는 청소를 빼먹지 않겠습니다.\n",
      "13 선생님, 다시는 청소를 빼먹지 않겠습니다.\n",
      "14 선생님, 다시는 청소를 빼먹지 않겠습니다.\n",
      "15 선생님, 다시는 청소를 빼먹지 않겠습니다.\n",
      "16 선생님, 다시는 청소를 빼먹지 않겠습니다.\n",
      "17 선생님, 다시는 청소를 빼먹지 않겠습니다.\n",
      "18 선생님, 다시는 청소를 빼먹지 않겠습니다.\n",
      "19 선생님, 다시는 청소를 빼먹지 않겠습니다.\n"
     ]
    }
   ],
   "source": [
    "#range를 사용하면 c언어의 for문과 유사하게 가능하다. 주의할 점은 마지막 숫자는 실행x\n",
    "for a in range(1,20):\n",
    "    print('{} 선생님, 다시는 청소를 빼먹지 않겠습니다.'.format(a))"
   ]
  },
  {
   "cell_type": "code",
   "execution_count": 7,
   "id": "fad60bf0",
   "metadata": {},
   "outputs": [
    {
     "name": "stdout",
     "output_type": "stream",
     "text": [
      "1\n",
      "3\n",
      "5\n",
      "7\n",
      "9\n",
      "11\n",
      "13\n",
      "15\n",
      "17\n",
      "19\n"
     ]
    }
   ],
   "source": [
    "#range에 간격 추가\n",
    "for a in range(1,20,2):\n",
    "    print(a)"
   ]
  },
  {
   "cell_type": "code",
   "execution_count": 11,
   "id": "fa9c7a25",
   "metadata": {},
   "outputs": [
    {
     "name": "stdout",
     "output_type": "stream",
     "text": [
      "0 선생님, 다시는 청소를 빼먹지 않겠습니다.\n",
      "1 선생님, 다시는 청소를 빼먹지 않겠습니다.\n",
      "2 선생님, 다시는 청소를 빼먹지 않겠습니다.\n",
      "3 선생님, 다시는 청소를 빼먹지 않겠습니다.\n",
      "4 선생님, 다시는 청소를 빼먹지 않겠습니다.\n",
      "5 선생님, 다시는 청소를 빼먹지 않겠습니다.\n",
      "6 선생님, 다시는 청소를 빼먹지 않겠습니다.\n",
      "7 선생님, 다시는 청소를 빼먹지 않겠습니다.\n",
      "8 선생님, 다시는 청소를 빼먹지 않겠습니다.\n",
      "9 선생님, 다시는 청소를 빼먹지 않겠습니다.\n",
      "10 선생님, 다시는 청소를 빼먹지 않겠습니다.\n",
      "11 선생님, 다시는 청소를 빼먹지 않겠습니다.\n",
      "12 선생님, 다시는 청소를 빼먹지 않겠습니다.\n",
      "13 선생님, 다시는 청소를 빼먹지 않겠습니다.\n",
      "14 선생님, 다시는 청소를 빼먹지 않겠습니다.\n",
      "15 선생님, 다시는 청소를 빼먹지 않겠습니다.\n",
      "16 선생님, 다시는 청소를 빼먹지 않겠습니다.\n",
      "17 선생님, 다시는 청소를 빼먹지 않겠습니다.\n",
      "18 선생님, 다시는 청소를 빼먹지 않겠습니다.\n",
      "19 선생님, 다시는 청소를 빼먹지 않겠습니다.\n"
     ]
    }
   ],
   "source": [
    "#range에 시작숫자를 정하지 않으면 0부터 시작\n",
    "for i in range(20):\n",
    "    print('{} 선생님, 다시는 청소를 빼먹지 않겠습니다.'.format(i))"
   ]
  },
  {
   "cell_type": "code",
   "execution_count": 12,
   "id": "67e42e1d",
   "metadata": {},
   "outputs": [
    {
     "name": "stdout",
     "output_type": "stream",
     "text": [
      "1275\n"
     ]
    }
   ],
   "source": [
    "result = 0\n",
    "for i in range(1,51):\n",
    "    result += i\n",
    "print(result)"
   ]
  },
  {
   "cell_type": "code",
   "execution_count": 13,
   "id": "1f1abae8",
   "metadata": {},
   "outputs": [
    {
     "name": "stdout",
     "output_type": "stream",
     "text": [
      "몇 단을 외울까요? 4\n",
      "4 x 1 = 4\n",
      "4 x 2 = 8\n",
      "4 x 3 = 12\n",
      "4 x 4 = 16\n",
      "4 x 5 = 20\n",
      "4 x 6 = 24\n",
      "4 x 7 = 28\n",
      "4 x 8 = 32\n",
      "4 x 9 = 36\n"
     ]
    }
   ],
   "source": [
    "num = int(input('몇 단을 외울까요? '))\n",
    "\n",
    "for i in range(1,10):\n",
    "    print('{} x {} = {}'.format(num,i,num*i))"
   ]
  },
  {
   "cell_type": "code",
   "execution_count": 27,
   "id": "d5c7c3a7",
   "metadata": {},
   "outputs": [
    {
     "name": "stdout",
     "output_type": "stream",
     "text": [
      "7\n"
     ]
    }
   ],
   "source": [
    "import random\n",
    "#무작위 숫자를 얻는 방법\n",
    "print(random.randrange(1,10,2))"
   ]
  },
  {
   "cell_type": "code",
   "execution_count": 31,
   "id": "f2326a0b",
   "metadata": {},
   "outputs": [
    {
     "name": "stdout",
     "output_type": "stream",
     "text": [
      "10\n"
     ]
    }
   ],
   "source": [
    "import random\n",
    "#무작위 정수를 얻는 방법 randrange와 비슷하지만 마지막 숫자도 포함한다.\n",
    "print(random.randint(1,10))"
   ]
  },
  {
   "cell_type": "code",
   "execution_count": 33,
   "id": "4b9d0eca",
   "metadata": {},
   "outputs": [
    {
     "name": "stdout",
     "output_type": "stream",
     "text": [
      "구구단을 외자! 구구단을 외자!\n",
      "7 x 2 ? 14\n",
      "9 x 2 ? 18\n",
      "3 x 3 ? 9\n",
      "5 x 7 ? 35\n",
      "2 x 1 ? 2\n",
      "9 x 2 ? 18\n",
      "4 x 1 ? 4\n",
      "7 x 3 ? 21\n",
      "7 x 1 ? 7\n",
      "7 x 3 ? 21\n"
     ]
    }
   ],
   "source": [
    "import random\n",
    "print('구구단을 외자! 구구단을 외자!')\n",
    "\n",
    "for i in range(10):\n",
    "    a = random.randint(2,9)\n",
    "    b = random.randint(1,9)\n",
    "    print('{} x {} ? {}'.format(a,b,a*b))"
   ]
  },
  {
   "cell_type": "code",
   "execution_count": 37,
   "id": "540696af",
   "metadata": {},
   "outputs": [
    {
     "name": "stdout",
     "output_type": "stream",
     "text": [
      "10 20\n"
     ]
    }
   ],
   "source": [
    "a,b = 10,20\n",
    "print(a,b)"
   ]
  },
  {
   "cell_type": "code",
   "execution_count": 38,
   "id": "4bba4880",
   "metadata": {},
   "outputs": [
    {
     "name": "stdout",
     "output_type": "stream",
     "text": [
      "8 x 7 ? 56\n",
      "8 x 3 ? 24\n",
      "3 x 7 ? 21\n",
      "5 x 8 ? 40\n",
      "8 x 7 ? 56\n",
      "4 x 6 ? 24\n",
      "9 x 3 ? 27\n",
      "7 x 9 ? 63\n",
      "7 x 9 ? 63\n",
      "4 x 2 ? 8\n"
     ]
    }
   ],
   "source": [
    "import random\n",
    "\n",
    "for i in range(10):\n",
    "    a,b = random.randint(2,9), random.randint(1,9)\n",
    "    print('{} x {} ? {}'.format(a,b,a*b))"
   ]
  },
  {
   "cell_type": "code",
   "execution_count": 42,
   "id": "f71840ac",
   "metadata": {},
   "outputs": [
    {
     "name": "stdout",
     "output_type": "stream",
     "text": [
      "7x5? 35\n",
      "2x1? 1\n",
      "4x1? 1\n",
      "4x4? 1\n",
      "3x9? 1\n",
      "8x9? 1\n",
      "2x7? 1\n",
      "6x4? 1\n",
      "4x4? 1\n",
      "3x7? 1\n"
     ]
    }
   ],
   "source": [
    "import random\n",
    "\n",
    "for i in range(10):\n",
    "    a,b = random.randint(2,9), random.randint(1,9)\n",
    "    question = str(a) + 'x' + str(b) + '? '\n",
    "    input(question)"
   ]
  },
  {
   "cell_type": "code",
   "execution_count": 43,
   "id": "738bbf3c",
   "metadata": {},
   "outputs": [
    {
     "name": "stdout",
     "output_type": "stream",
     "text": [
      "7 x 6 ? 42\n",
      "9 x 7 ? 1\n",
      "5 x 6 ? 1\n",
      "4 x 9 ? 1\n",
      "5 x 5 ? 1\n",
      "6 x 9 ? 1\n",
      "8 x 5 ? 1\n",
      "3 x 8 ? 1\n",
      "5 x 3 ? 1\n",
      "2 x 3 ? 1\n"
     ]
    }
   ],
   "source": [
    "import random\n",
    "\n",
    "for i in range(10):\n",
    "    a,b = random.randint(2,9), random.randint(1,9)\n",
    "    input('{} x {} ? '.format(a,b))"
   ]
  },
  {
   "cell_type": "code",
   "execution_count": 44,
   "id": "e39a83e4",
   "metadata": {},
   "outputs": [
    {
     "name": "stdout",
     "output_type": "stream",
     "text": [
      "숫자 입력: 1\n",
      "숫자 입력: 2\n",
      "숫자 입력: 10\n"
     ]
    }
   ],
   "source": [
    "num = 0\n",
    "\n",
    "while num < 10:\n",
    "    num = int(input('숫자 입력: '))"
   ]
  },
  {
   "cell_type": "code",
   "execution_count": 45,
   "id": "b0b5fcda",
   "metadata": {},
   "outputs": [
    {
     "name": "stdout",
     "output_type": "stream",
     "text": [
      "1 선생님, 다시는 청소를 빼먹지 않겠습니다.\n",
      "2 선생님, 다시는 청소를 빼먹지 않겠습니다.\n",
      "3 선생님, 다시는 청소를 빼먹지 않겠습니다.\n",
      "4 선생님, 다시는 청소를 빼먹지 않겠습니다.\n",
      "5 선생님, 다시는 청소를 빼먹지 않겠습니다.\n",
      "6 선생님, 다시는 청소를 빼먹지 않겠습니다.\n",
      "7 선생님, 다시는 청소를 빼먹지 않겠습니다.\n",
      "8 선생님, 다시는 청소를 빼먹지 않겠습니다.\n",
      "9 선생님, 다시는 청소를 빼먹지 않겠습니다.\n",
      "10 선생님, 다시는 청소를 빼먹지 않겠습니다.\n",
      "11 선생님, 다시는 청소를 빼먹지 않겠습니다.\n",
      "12 선생님, 다시는 청소를 빼먹지 않겠습니다.\n",
      "13 선생님, 다시는 청소를 빼먹지 않겠습니다.\n",
      "14 선생님, 다시는 청소를 빼먹지 않겠습니다.\n",
      "15 선생님, 다시는 청소를 빼먹지 않겠습니다.\n",
      "16 선생님, 다시는 청소를 빼먹지 않겠습니다.\n",
      "17 선생님, 다시는 청소를 빼먹지 않겠습니다.\n",
      "18 선생님, 다시는 청소를 빼먹지 않겠습니다.\n",
      "19 선생님, 다시는 청소를 빼먹지 않겠습니다.\n"
     ]
    }
   ],
   "source": [
    "i = 1\n",
    "\n",
    "while i < 20:\n",
    "    print('{} 선생님, 다시는 청소를 빼먹지 않겠습니다.'.format(i))\n",
    "    i+=1"
   ]
  },
  {
   "cell_type": "code",
   "execution_count": 51,
   "id": "7e01c42c",
   "metadata": {},
   "outputs": [
    {
     "name": "stdout",
     "output_type": "stream",
     "text": [
      "1275\n"
     ]
    }
   ],
   "source": [
    "result = 0\n",
    "i = 1\n",
    "while i <= 50:\n",
    "    result += i\n",
    "    i += 1\n",
    "print(result)"
   ]
  },
  {
   "cell_type": "code",
   "execution_count": 52,
   "id": "0632a416",
   "metadata": {},
   "outputs": [
    {
     "name": "stdout",
     "output_type": "stream",
     "text": [
      "구구단을 외자! 구구단을 외자!\n",
      "4 x 4 ? 16\n",
      "6 x 6 ? 1\n",
      "틀렸습니다!\n",
      "5 x 3 ? 15\n",
      "5 x 4 ? 20\n",
      "5 x 7 ? 35\n",
      "5 x 9 ? 45\n",
      "5 x 7 ? 35\n",
      "2 x 9 ? 18\n",
      "2 x 2 ? 4\n",
      "2 x 7 ? 1\n",
      "틀렸습니다!\n"
     ]
    }
   ],
   "source": [
    "import random\n",
    "\n",
    "print('구구단을 외자! 구구단을 외자!')\n",
    "for i in range(10):\n",
    "    a, b = random.randint(2,9), random.randint(1,9)\n",
    "    answer = int(input('{} x {} ? '.format(a,b)))\n",
    "    if answer != a*b:\n",
    "        print('틀렸습니다!')"
   ]
  },
  {
   "cell_type": "code",
   "execution_count": 61,
   "id": "195d5baa",
   "metadata": {},
   "outputs": [
    {
     "name": "stdout",
     "output_type": "stream",
     "text": [
      "1 홀수, 2 짝수, 3 홀수, 4 짝수, 5 홀수, 6 짝수, 7 홀수, 8 짝수, 9 홀수, 10 짝수, 11 홀수, 12 짝수, 13 홀수, 14 짝수, 15 홀수, 16 짝수, 17 홀수, 18 짝수, 19 홀수, 20 짝수, 21 홀수, 22 짝수, 23 홀수, 24 짝수, 25 홀수, 26 짝수, 27 홀수, 28 짝수, 29 홀수, 30 짝수, "
     ]
    }
   ],
   "source": [
    "for i in range(1,31):\n",
    "    if i%2 == 1:\n",
    "        print('{} 홀수'.format(i),end=', ')\n",
    "    else:\n",
    "        print('{} 짝수'.format(i),end=', ')"
   ]
  },
  {
   "cell_type": "code",
   "execution_count": 62,
   "id": "4ba07721",
   "metadata": {},
   "outputs": [
    {
     "name": "stdout",
     "output_type": "stream",
     "text": [
      "yes\n"
     ]
    }
   ],
   "source": [
    "if '아버지' in '아버지가방에들어가신다.':\n",
    "    print('yes')"
   ]
  },
  {
   "cell_type": "code",
   "execution_count": 64,
   "id": "f820caab",
   "metadata": {},
   "outputs": [
    {
     "name": "stdout",
     "output_type": "stream",
     "text": [
      "no\n"
     ]
    }
   ],
   "source": [
    "if '어머니' in '아버지가방에들어가신다.':\n",
    "    print('yes')\n",
    "else:\n",
    "    print('no')"
   ]
  },
  {
   "cell_type": "code",
   "execution_count": 66,
   "id": "fea98813",
   "metadata": {},
   "outputs": [
    {
     "name": "stdout",
     "output_type": "stream",
     "text": [
      "yes\n"
     ]
    }
   ],
   "source": [
    "#in과 not in은 문자열에서만 사용 가능!!\n",
    "if '어머니' not in '아버지가방에들어가신다.':\n",
    "    print('yes')\n",
    "else:\n",
    "    print('no')"
   ]
  },
  {
   "cell_type": "code",
   "execution_count": 67,
   "id": "47be82c9",
   "metadata": {},
   "outputs": [
    {
     "name": "stdout",
     "output_type": "stream",
     "text": [
      "369 369 369 369\n",
      "1 2 짝! 4 5 짝! 7 8 짝! 10 11 12 짝! 14 15 짝! 17 18 짝! 20 21 22 짝! 24 25 짝! 27 28 짝! 짝! 짝! 짝! 짝! 짝! 짝! 짝! 짝! 짝! 짝! 40 41 42 짝! 44 45 짝! 47 48 짝! 50 51 52 짝! 54 55 짝! 57 58 짝! 짝! 짝! 짝! 짝! 짝! 짝! 짝! 짝! 짝! 짝! 70 71 72 짝! 74 75 짝! 77 78 짝! 80 81 82 짝! 84 85 짝! 87 88 짝! 짝! 짝! 짝! 짝! 짝! 짝! 짝! 짝! 짝! 짝! 100 "
     ]
    }
   ],
   "source": [
    "print('369 369 369 369')\n",
    "\n",
    "for i in range(1,101):\n",
    "    if '3' in str(i) or '6' in str(i) or '9' in str(i):\n",
    "        print('짝!', end=' ')\n",
    "    else:\n",
    "        print(i, end=' ')"
   ]
  },
  {
   "cell_type": "code",
   "execution_count": 68,
   "id": "d56a51e7",
   "metadata": {},
   "outputs": [
    {
     "name": "stdout",
     "output_type": "stream",
     "text": [
      "구구단을 외자! 구구단을 외자!\n",
      "7 x 2 ? 1\n",
      "틀렸습니다! 5번 반복해서 읽어 봅시다. \n",
      "7 x 2 ? 14\n",
      "7 x 2 ? 14\n",
      "7 x 2 ? 14\n",
      "7 x 2 ? 14\n",
      "7 x 2 ? 14\n",
      "5 x 3 ? 15\n",
      "4 x 6 ? 24\n",
      "5 x 5 ? 25\n",
      "8 x 4 ? 32\n",
      "4 x 4 ? 16\n",
      "5 x 3 ? 15\n",
      "8 x 7 ? 56\n",
      "8 x 2 ? 16\n",
      "2 x 3 ? 2\n",
      "틀렸습니다! 5번 반복해서 읽어 봅시다. \n",
      "2 x 3 ? 6\n",
      "2 x 3 ? 6\n",
      "2 x 3 ? 6\n",
      "2 x 3 ? 6\n",
      "2 x 3 ? 6\n"
     ]
    }
   ],
   "source": [
    "import random\n",
    "\n",
    "print('구구단을 외자! 구구단을 외자!')\n",
    "for i in range(10):\n",
    "    a, b = random.randint(2,9), random.randint(1,9)\n",
    "    if int(input('{} x {} ? '.format(a,b))) != a*b:\n",
    "        print('틀렸습니다! 5번 반복해서 읽어 봅시다. ')\n",
    "        for j in range(5):\n",
    "            print('{} x {} ? {}'.format(a,b,a*b))"
   ]
  },
  {
   "cell_type": "code",
   "execution_count": 69,
   "id": "ab9af267",
   "metadata": {},
   "outputs": [
    {
     "name": "stdout",
     "output_type": "stream",
     "text": [
      "0\n"
     ]
    }
   ],
   "source": [
    "for i in range(20):\n",
    "    print(i)\n",
    "    break"
   ]
  },
  {
   "cell_type": "code",
   "execution_count": 70,
   "id": "83a45a39",
   "metadata": {},
   "outputs": [
    {
     "name": "stdout",
     "output_type": "stream",
     "text": [
      "0\n",
      "1\n",
      "2\n"
     ]
    }
   ],
   "source": [
    "for i in range(20):\n",
    "    print(i)\n",
    "    if i == 2:\n",
    "        break"
   ]
  },
  {
   "cell_type": "code",
   "execution_count": 76,
   "id": "470dbde5",
   "metadata": {},
   "outputs": [
    {
     "name": "stdout",
     "output_type": "stream",
     "text": [
      "숫자 입력: 3\n",
      "0 1 2 3 "
     ]
    }
   ],
   "source": [
    "answer = int(input('숫자 입력: '))\n",
    "for i in range(20):\n",
    "    print(i, end=' ')\n",
    "    if i == answer:\n",
    "        break"
   ]
  },
  {
   "cell_type": "code",
   "execution_count": 82,
   "id": "d5f19f8e",
   "metadata": {},
   "outputs": [
    {
     "name": "stdout",
     "output_type": "stream",
     "text": [
      "구구단을 외자! 구구단을 외자!\n",
      "7 x 6 ? 1\n",
      "땡! 정답은 42\n"
     ]
    }
   ],
   "source": [
    "import random\n",
    "\n",
    "print('구구단을 외자! 구구단을 외자!')\n",
    "\n",
    "for i in range(10):\n",
    "    a,b = random.randint(2,9), random.randint(1,9)\n",
    "    if int(input('{} x {} ? '.format(a,b))) != a*b:\n",
    "        print('땡! 정답은 {}'.format(a*b))\n",
    "        break"
   ]
  },
  {
   "cell_type": "code",
   "execution_count": 84,
   "id": "1f1c82e1",
   "metadata": {},
   "outputs": [
    {
     "name": "stdout",
     "output_type": "stream",
     "text": [
      "구구단을 외자! 구구단을 외자!\n",
      "9 x 2 ? 1\n",
      "땡! 정답은 18\n"
     ]
    }
   ],
   "source": [
    "import random\n",
    "\n",
    "print('구구단을 외자! 구구단을 외자!')\n",
    "answer, a, b = 0, 0, 0\n",
    "while answer == a*b:\n",
    "    a,b = random.randint(2,9), random.randint(1,9)\n",
    "    answer = int(input('{} x {} ? '.format(a,b)))\n",
    "print('땡! 정답은 {}'.format(a*b))"
   ]
  },
  {
   "cell_type": "code",
   "execution_count": 86,
   "id": "90709eb2",
   "metadata": {},
   "outputs": [
    {
     "name": "stdout",
     "output_type": "stream",
     "text": [
      "369 369 369 369\n",
      "1\n",
      "2\n",
      "짝\n",
      "4\n",
      "5\n",
      "짝\n",
      "6\n",
      "6\n",
      "6\n",
      "틀렸습니다!\n"
     ]
    }
   ],
   "source": [
    "print('369 369 369 369')\n",
    "\n",
    "for i in range(1,101):\n",
    "    say = input()\n",
    "    if '3' in str(i) or '6' in str(i) or '9' in str(i):\n",
    "        if say != '짝':\n",
    "            print('틀렸습니다!')\n",
    "            break"
   ]
  },
  {
   "cell_type": "code",
   "execution_count": 90,
   "id": "21f91fce",
   "metadata": {},
   "outputs": [
    {
     "name": "stdout",
     "output_type": "stream",
     "text": [
      "369 369 369 369\n",
      "1\n",
      "2\n",
      "짝\n",
      "4\n",
      "5\n",
      "짝\n",
      "1\n",
      "틀렸습니다!\n"
     ]
    }
   ],
   "source": [
    " print('369 369 369 369')\n",
    "\n",
    "for i in range(1,101):\n",
    "    say = input()\n",
    "    if '3' in str(i) or '6' in str(i) or '9' in str(i):\n",
    "        if say != '짝':\n",
    "            print('틀렸습니다!')\n",
    "            break\n",
    "    else:\n",
    "        #say변수를 int(say)로 캐스팅 하지 않는 이유는 '짝'이 나올 수 있기 때문\n",
    "        if say != str(i):\n",
    "            print('틀렸습니다!')\n",
    "            break"
   ]
  },
  {
   "cell_type": "markdown",
   "id": "261ec518",
   "metadata": {},
   "source": [
    "# 5장 실습"
   ]
  },
  {
   "cell_type": "markdown",
   "id": "311e4970",
   "metadata": {},
   "source": [
    "### 1번"
   ]
  },
  {
   "cell_type": "code",
   "execution_count": 91,
   "id": "1a7f5b80",
   "metadata": {},
   "outputs": [
    {
     "name": "stdout",
     "output_type": "stream",
     "text": [
      "10\n",
      "20\n",
      "30\n",
      "40\n",
      "50\n",
      "60\n",
      "70\n",
      "80\n",
      "90\n",
      "100\n"
     ]
    }
   ],
   "source": [
    "for i in range(1,11):\n",
    "    print(i*10)"
   ]
  },
  {
   "cell_type": "markdown",
   "id": "fd296fdc",
   "metadata": {},
   "source": [
    "### 2번"
   ]
  },
  {
   "cell_type": "code",
   "execution_count": 92,
   "id": "0e732eef",
   "metadata": {},
   "outputs": [
    {
     "name": "stdout",
     "output_type": "stream",
     "text": [
      "홈트레이닝 2주 계획입니다.\n",
      "1일: 스쿼트 - 윗몸 일으키기 - 유산소 운동\n",
      "2일: 스쿼트 - 윗몸 일으키기 - 유산소 운동\n",
      "3일: 스쿼트 - 윗몸 일으키기 - 유산소 운동\n",
      "4일: 스쿼트 - 윗몸 일으키기 - 유산소 운동\n",
      "5일: 휴식일입니다.\n",
      "6일: 스쿼트 - 윗몸 일으키기 - 유산소 운동\n",
      "7일: 스쿼트 - 윗몸 일으키기 - 유산소 운동\n",
      "8일: 스쿼트 - 윗몸 일으키기 - 유산소 운동\n",
      "9일: 스쿼트 - 윗몸 일으키기 - 유산소 운동\n",
      "10일: 휴식일입니다.\n",
      "11일: 스쿼트 - 윗몸 일으키기 - 유산소 운동\n",
      "12일: 스쿼트 - 윗몸 일으키기 - 유산소 운동\n",
      "13일: 스쿼트 - 윗몸 일으키기 - 유산소 운동\n",
      "14일: 스쿼트 - 윗몸 일으키기 - 유산소 운동\n"
     ]
    }
   ],
   "source": [
    "print('홈트레이닝 2주 계획입니다.')\n",
    "for i in range(1,15):\n",
    "    if i%5 == 0:\n",
    "        print('{}일: 휴식일입니다.'.format(i))\n",
    "    else:\n",
    "        print('{}일: 스쿼트 - 윗몸 일으키기 - 유산소 운동'.format(i))"
   ]
  },
  {
   "cell_type": "markdown",
   "id": "4716f2af",
   "metadata": {},
   "source": [
    "### 3번"
   ]
  },
  {
   "cell_type": "code",
   "execution_count": 94,
   "id": "6d8072f1",
   "metadata": {},
   "outputs": [
    {
     "name": "stdout",
     "output_type": "stream",
     "text": [
      "팅 팅팅팅 탱 탱탱탱 팅팅 탱탱 후라이팬 놀이!\n",
      "이름? 지연\n",
      "횟수? 3\n",
      "지연지연지연이름? 동식\n",
      "횟수? 1\n",
      "동식이름? 찬희\n",
      "횟수? 2\n",
      "찬희찬희이름? 인호\n",
      "횟수? 3\n",
      "인호인호인호이름? 유승\n",
      "횟수? 1\n",
      "유승"
     ]
    }
   ],
   "source": [
    "print('팅 팅팅팅 탱 탱탱탱 팅팅 탱탱 후라이팬 놀이!')\n",
    "for i in range(5):\n",
    "    name = input('이름? ')\n",
    "    count = int(input('횟수? '))\n",
    "    for j in range(count):\n",
    "        print(name,end='')"
   ]
  },
  {
   "cell_type": "code",
   "execution_count": 96,
   "id": "558f0025",
   "metadata": {},
   "outputs": [
    {
     "name": "stdout",
     "output_type": "stream",
     "text": [
      "팅 팅팅팅 탱 탱탱탱 팅팅 탱탱 후라이팬 놀이!\n",
      "이름? 찬희\n",
      "횟수? 4\n",
      "찬희찬희찬희찬희\n",
      "이름? 인호\n",
      "횟수? 2\n",
      "인호인호\n",
      "이름? 유승\n",
      "횟수? 1\n",
      "유승\n",
      "이름? 민욱\n",
      "횟수? 2\n",
      "민욱민욱\n",
      "이름? 지우\n",
      "횟수? 1\n",
      "지우\n"
     ]
    }
   ],
   "source": [
    "print('팅 팅팅팅 탱 탱탱탱 팅팅 탱탱 후라이팬 놀이!')\n",
    "for i in range(5):\n",
    "    name = input('이름? ')\n",
    "    count = int(input('횟수? '))\n",
    "    #for문을 사용하지 않고도 가능\n",
    "    print(name*count)"
   ]
  },
  {
   "cell_type": "code",
   "execution_count": null,
   "id": "c1bf100d",
   "metadata": {},
   "outputs": [],
   "source": []
  }
 ],
 "metadata": {
  "kernelspec": {
   "display_name": "Python 3 (ipykernel)",
   "language": "python",
   "name": "python3"
  },
  "language_info": {
   "codemirror_mode": {
    "name": "ipython",
    "version": 3
   },
   "file_extension": ".py",
   "mimetype": "text/x-python",
   "name": "python",
   "nbconvert_exporter": "python",
   "pygments_lexer": "ipython3",
   "version": "3.9.12"
  }
 },
 "nbformat": 4,
 "nbformat_minor": 5
}
