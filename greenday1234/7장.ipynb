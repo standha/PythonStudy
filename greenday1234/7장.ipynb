{
 "cells": [
  {
   "cell_type": "code",
   "execution_count": 6,
   "id": "45dca7b4",
   "metadata": {},
   "outputs": [
    {
     "name": "stdout",
     "output_type": "stream",
     "text": [
      "{'break': '깨어지다', 'bring': '가져오다', 'brush': '붓', 'brave': '용감한'}\n",
      "깨어지다\n",
      "붓\n",
      "{'break': '깨어지다', 'bring': '가져오다', 'brush': '빗', 'brave': '용감한'}\n"
     ]
    }
   ],
   "source": [
    "#hashmap처럼 묶기\n",
    "eng = {'break':'깨어지다','bring':'가져오다','brush':'붓','brave':'용감한'}\n",
    "print(eng)\n",
    "#키로 값을 찾는 방법\n",
    "print(eng['break'])\n",
    "print(eng['brush'])\n",
    "#중복된 키가 있을 경우 마지막 값만 저장된다\n",
    "eng1 = {'break':'깨어지다','bring':'가져오다','brush':'붓','brush':'빗','brave':'용감한'}\n",
    "print(eng1)"
   ]
  },
  {
   "cell_type": "code",
   "execution_count": 7,
   "id": "5892cb3c",
   "metadata": {},
   "outputs": [
    {
     "name": "stdout",
     "output_type": "stream",
     "text": [
      "['깨어지다', '부서지다']\n"
     ]
    }
   ],
   "source": [
    "#하나의 키에 여러개의 값이 들어올 수 있음(리스트의 형태)\n",
    "eng = {'break':['깨어지다','부서지다'],'bring':'가져오다','brush':['붓','빗'],'brave':'용감한'}\n",
    "print(eng['break'])"
   ]
  },
  {
   "cell_type": "code",
   "execution_count": 8,
   "id": "0c053837",
   "metadata": {},
   "outputs": [
    {
     "name": "stdout",
     "output_type": "stream",
     "text": [
      "어떤 메뉴를 드시겠습니까?김밥\n",
      "2500 원입니다.\n"
     ]
    }
   ],
   "source": [
    "menu = {'김밥':2500,'참치김밥':3500,'라면':3000,'치즈라면':4000}\n",
    "eat = input('어떤 메뉴를 드시겠습니까?')\n",
    "print(menu[eat],'원입니다.')"
   ]
  },
  {
   "cell_type": "code",
   "execution_count": 11,
   "id": "4fbaa2db",
   "metadata": {},
   "outputs": [
    {
     "name": "stdout",
     "output_type": "stream",
     "text": [
      "{'김밥': 2500, '참치김밥': 3000, '라면': 3000, '치즈라면': 4000}\n",
      "{'김밥': 2500, '참치김밥': 3000, '라면': 2500, '치즈라면': 3500}\n",
      "{'김밥': 3000, '참치김밥': 2200, '라면': 2500, '치즈라면': 3500}\n"
     ]
    }
   ],
   "source": [
    "#데이터 변경\n",
    "menu = {'김밥':2500,'참치김밥':3500,'라면':3000,'치즈라면':4000}\n",
    "menu['참치김밥'] = 3000\n",
    "print(menu)\n",
    "menu['라면'] = 2500\n",
    "menu['치즈라면'] = 3500\n",
    "print(menu)\n",
    "menu['김밥']+=500\n",
    "menu['참치김밥']-=800\n",
    "print(menu)"
   ]
  },
  {
   "cell_type": "code",
   "execution_count": 13,
   "id": "680e1b7f",
   "metadata": {},
   "outputs": [
    {
     "name": "stdout",
     "output_type": "stream",
     "text": [
      "{'김밥': 2500, '참치김밥': 3500, '라면': 3000, '치즈라면': 4000, '돈가스': 6000}\n",
      "{'김밥': 2500, '참치김밥': 3500, '라면': 3000, '치즈라면': 4000, '돈가스': 6500}\n"
     ]
    }
   ],
   "source": [
    "#데이터 추가(기존 값을 변경하는 방법과 같음)\n",
    "menu = {'김밥':2500,'참치김밥':3500,'라면':3000,'치즈라면':4000}\n",
    "menu['돈가스'] = 6000\n",
    "print(menu)\n",
    "menu['돈가스'] = 6500\n",
    "print(menu)"
   ]
  },
  {
   "cell_type": "code",
   "execution_count": 14,
   "id": "faaeb4f7",
   "metadata": {},
   "outputs": [
    {
     "name": "stdout",
     "output_type": "stream",
     "text": [
      "{}\n",
      "{'강아지': 'dog'}\n",
      "{'강아지': 'dog', '고양이': 'cat'}\n"
     ]
    }
   ],
   "source": [
    "eng = {}\n",
    "print(eng)\n",
    "eng['강아지'] = 'dog'\n",
    "print(eng)\n",
    "eng['고양이'] = 'cat'\n",
    "print(eng)"
   ]
  },
  {
   "cell_type": "code",
   "execution_count": 15,
   "id": "b01a84de",
   "metadata": {},
   "outputs": [
    {
     "name": "stdout",
     "output_type": "stream",
     "text": [
      "추가할 메뉴는?쫄면\n",
      "메뉴의 가격은?4000\n",
      "{'김밥': 2500, '참치김밥': 3000, '라면': 3000, '치즈라면': 4000, '쫄면': 4000}\n"
     ]
    }
   ],
   "source": [
    "menu = {'김밥':2500,'참치김밥':3000,'라면':3000,'치즈라면':4000}\n",
    "name = input('추가할 메뉴는?')\n",
    "price = int(input('메뉴의 가격은?'))\n",
    "menu[name] = price\n",
    "print(menu)"
   ]
  },
  {
   "cell_type": "code",
   "execution_count": 17,
   "id": "deda8589",
   "metadata": {},
   "outputs": [
    {
     "name": "stdout",
     "output_type": "stream",
     "text": [
      "{'김밥': 2500, '참치김밥': 3000, '라면': 3000}\n"
     ]
    }
   ],
   "source": [
    "#키값 삭제하기\n",
    "menu = {'김밥':2500,'참치김밥':3000,'라면':3000,'치즈라면':4000}\n",
    "del menu['치즈라면']\n",
    "print(menu)"
   ]
  },
  {
   "cell_type": "code",
   "execution_count": 22,
   "id": "161807ba",
   "metadata": {},
   "outputs": [
    {
     "name": "stdout",
     "output_type": "stream",
     "text": [
      "dict_keys(['과자', '아이스크림', '휴지', '고기', '우유'])\n",
      "dict_values([1500, 1700, 4800, 10500, 2600])\n"
     ]
    }
   ],
   "source": [
    "#키값 추출하기, 값 추출하기\n",
    "mart = {'과자':1500,'아이스크림':1700,'휴지':4800,'고기':10500,'우유':2600}\n",
    "print(mart.keys())\n",
    "print(mart.values())"
   ]
  },
  {
   "cell_type": "code",
   "execution_count": 24,
   "id": "1cf3316f",
   "metadata": {},
   "outputs": [
    {
     "name": "stdout",
     "output_type": "stream",
     "text": [
      "['과자', '아이스크림', '휴지', '고기', '우유']\n",
      "[1500, 1700, 4800, 10500, 2600]\n"
     ]
    }
   ],
   "source": [
    "#추출한 결과 값을 리스트로 바꾸기\n",
    "mart = {'과자':1500,'아이스크림':1700,'휴지':4800,'고기':10500,'우유':2600}\n",
    "print(list(mart.keys()))\n",
    "print(list(mart.values()))"
   ]
  },
  {
   "cell_type": "code",
   "execution_count": 25,
   "id": "9d33b267",
   "metadata": {},
   "outputs": [
    {
     "name": "stdout",
     "output_type": "stream",
     "text": [
      "dict_items([('과자', 1500), ('아이스크림', 1700), ('휴지', 4800), ('고기', 10500), ('우유', 2600)])\n"
     ]
    }
   ],
   "source": [
    "#키-값 꺼내기\n",
    "mart = {'과자':1500,'아이스크림':1700,'휴지':4800,'고기':10500,'우유':2600}\n",
    "print(mart.items())"
   ]
  },
  {
   "cell_type": "code",
   "execution_count": 34,
   "id": "293b8f58",
   "metadata": {},
   "outputs": [
    {
     "name": "stdout",
     "output_type": "stream",
     "text": [
      "['고기', '과자', '아이스크림', '우유', '휴지']\n",
      "['휴지', '우유', '아이스크림', '과자', '고기']\n",
      "['고기', '과자']\n",
      "[1500, 1700, 2600, 4800, 10500]\n",
      "[10500, 4800, 2600, 1700, 1500]\n",
      "[1500, 1700]\n",
      "[10500, 4800, 2600]\n"
     ]
    }
   ],
   "source": [
    "#딕셔너리 정렬(sorted를 사용하면 리스트로 정렬)\n",
    "mart = {'과자':1500,'아이스크림':1700,'휴지':4800,'고기':10500,'우유':2600}\n",
    "print(sorted(mart.keys()))\n",
    "print(sorted(mart.keys(),reverse=True))\n",
    "print(sorted(mart.keys())[:2])\n",
    "print(sorted(mart.values()))\n",
    "print(sorted(mart.values(),reverse=True))\n",
    "print(sorted(mart.values())[:2])\n",
    "print(sorted(mart.values(),reverse=True)[:3])"
   ]
  },
  {
   "cell_type": "code",
   "execution_count": 35,
   "id": "b743a729",
   "metadata": {},
   "outputs": [
    {
     "name": "stdout",
     "output_type": "stream",
     "text": [
      "['고기', '과자', '아이스크림', '우유', '휴지']\n"
     ]
    }
   ],
   "source": [
    "#sorted정렬의 기본 값은 키\n",
    "mart = {'과자':1500,'아이스크림':1700,'휴지':4800,'고기':10500,'우유':2600}\n",
    "print(sorted(mart))"
   ]
  },
  {
   "cell_type": "code",
   "execution_count": 37,
   "id": "30f4c94c",
   "metadata": {},
   "outputs": [
    {
     "name": "stdout",
     "output_type": "stream",
     "text": [
      "[('고기', 10500), ('과자', 1500), ('아이스크림', 1700), ('우유', 2600), ('휴지', 4800)]\n",
      "[('휴지', 4800), ('우유', 2600), ('아이스크림', 1700), ('과자', 1500), ('고기', 10500)]\n"
     ]
    }
   ],
   "source": [
    "#item을 사용해도 키로 정렬\n",
    "mart = {'과자':1500,'아이스크림':1700,'휴지':4800,'고기':10500,'우유':2600}\n",
    "print(sorted(mart.items()))\n",
    "print(sorted(mart.items(),reverse=True))"
   ]
  },
  {
   "cell_type": "code",
   "execution_count": 42,
   "id": "a2d4e450",
   "metadata": {},
   "outputs": [
    {
     "name": "stdout",
     "output_type": "stream",
     "text": [
      "[('고기', 10500), ('과자', 1500), ('아이스크림', 1700), ('우유', 2600), ('휴지', 4800)]\n",
      "[('과자', 1500), ('아이스크림', 1700), ('우유', 2600), ('휴지', 4800), ('고기', 10500)]\n",
      "[('고기', 10500), ('휴지', 4800), ('우유', 2600), ('아이스크림', 1700), ('과자', 1500)]\n",
      "[('과자', 1500), ('아이스크림', 1700)]\n"
     ]
    }
   ],
   "source": [
    "#item 사용시 값 정렬 방법 itemgetter이 0이면 키 1이면 값 내림차순 정렬\n",
    "import operator\n",
    "\n",
    "mart = {'과자':1500,'아이스크림':1700,'휴지':4800,'고기':10500,'우유':2600}\n",
    "print(sorted(mart.items(),key=operator.itemgetter(0)))\n",
    "print(sorted(mart.items(),key=operator.itemgetter(1)))\n",
    "print(sorted(mart.items(),key=operator.itemgetter(1),reverse=True))\n",
    "print(sorted(mart.items(),key=operator.itemgetter(1))[:2])"
   ]
  },
  {
   "cell_type": "code",
   "execution_count": 43,
   "id": "ce2263f5",
   "metadata": {},
   "outputs": [
    {
     "name": "stdout",
     "output_type": "stream",
     "text": [
      "{'고기': 10500, '과자': 1500, '아이스크림': 1700, '우유': 2600, '휴지': 4800}\n"
     ]
    }
   ],
   "source": [
    "#딕셔너리 타입 저장 dict\n",
    "mart = {'과자':1500,'아이스크림':1700,'휴지':4800,'고기':10500,'우유':2600}\n",
    "mart = dict(sorted(mart.items()))\n",
    "print(mart)"
   ]
  },
  {
   "cell_type": "code",
   "execution_count": 46,
   "id": "dd48acf6",
   "metadata": {},
   "outputs": [
    {
     "name": "stdout",
     "output_type": "stream",
     "text": [
      "어떤 학생의 점수가 궁금한가요?도윤\n",
      "43 점입니다.\n"
     ]
    }
   ],
   "source": [
    "midterm = {'도윤':43,'하윤':82,'시우':76,'지유':61,'주원':94}\n",
    "student = input('어떤 학생의 점수가 궁금한가요?')\n",
    "if student in midterm.keys():\n",
    "    print(midterm[student],'점입니다.')\n",
    "else:\n",
    "    print('해당 학생이 없습니다.')"
   ]
  },
  {
   "cell_type": "code",
   "execution_count": 51,
   "id": "f0bd69df",
   "metadata": {},
   "outputs": [
    {
     "name": "stdout",
     "output_type": "stream",
     "text": [
      "도윤 하윤 시우 지유 주원 \n",
      "\n",
      "43 82 76 61 94 "
     ]
    }
   ],
   "source": [
    "midterm = {'도윤':43,'하윤':82,'시우':76,'지유':61,'주원':94}\n",
    "for k in midterm.keys():\n",
    "    print(k,end=' ')\n",
    "print('\\n')\n",
    "for v in midterm.values():\n",
    "    print(v,end=' ')"
   ]
  },
  {
   "cell_type": "code",
   "execution_count": 53,
   "id": "502c9f20",
   "metadata": {},
   "outputs": [
    {
     "name": "stdout",
     "output_type": "stream",
     "text": [
      "도윤 43, 하윤 82, 시우 76, 지유 61, 주원 94, "
     ]
    }
   ],
   "source": [
    "midterm = {'도윤':43,'하윤':82,'시우':76,'지유':61,'주원':94}\n",
    "for k in midterm.keys():\n",
    "    print(k,midterm[k],end=', ')"
   ]
  },
  {
   "cell_type": "code",
   "execution_count": 56,
   "id": "113dd099",
   "metadata": {},
   "outputs": [
    {
     "name": "stdout",
     "output_type": "stream",
     "text": [
      "('도윤', 43) ('하윤', 82) ('시우', 76) ('지유', 61) ('주원', 94) \n",
      "\n",
      "도윤 43 하윤 82 시우 76 지유 61 주원 94 "
     ]
    }
   ],
   "source": [
    "midterm = {'도윤':43,'하윤':82,'시우':76,'지유':61,'주원':94}\n",
    "for i in midterm.items():\n",
    "    print(i,end=' ')\n",
    "print('\\n')\n",
    "for k,v in midterm.items():\n",
    "    print(k,v,end=' ')"
   ]
  },
  {
   "cell_type": "code",
   "execution_count": 58,
   "id": "b661587e",
   "metadata": {},
   "outputs": [
    {
     "name": "stdout",
     "output_type": "stream",
     "text": [
      "점수가 70점 이상인 학생의 이름과 점수를 모두 출력합니다.\n",
      "하윤 82 시우 76 주원 94 "
     ]
    }
   ],
   "source": [
    "midterm = {'도윤':43,'하윤':82,'시우':76,'지유':61,'주원':94}\n",
    "print('점수가 70점 이상인 학생의 이름과 점수를 모두 출력합니다.')\n",
    "for k,v in midterm.items():\n",
    "    if v >= 70:\n",
    "        print(k,v,end=' ')"
   ]
  },
  {
   "cell_type": "code",
   "execution_count": 60,
   "id": "8896c01e",
   "metadata": {},
   "outputs": [
    {
     "name": "stdout",
     "output_type": "stream",
     "text": [
      "도윤 하윤 시우 지유 주원 "
     ]
    }
   ],
   "source": [
    "#딕셔너리명만 넣을 경우 키만 반환\n",
    "midterm = {'도윤':43,'하윤':82,'시우':76,'지유':61,'주원':94}\n",
    "for m in midterm:\n",
    "    print(m,end=' ')"
   ]
  },
  {
   "cell_type": "code",
   "execution_count": 70,
   "id": "614367fc",
   "metadata": {},
   "outputs": [
    {
     "name": "stdout",
     "output_type": "stream",
     "text": [
      "{'in': 1, 'a': 2, 'town': 1, 'of': 2, 'persia': 1, 'lived': 1, 'two': 1, 'brothers,': 1, 'sons': 1, 'poor': 1, 'man:one': 1, 'named': 1, 'cassim,': 2, 'the': 2, 'other': 1, 'alibaba': 1, '.': 1, 'elder...': 1}\n",
      "\n",
      "\n",
      "[('a', 2), ('of', 2), ('cassim,', 2), ('the', 2), ('in', 1), ('town', 1), ('persia', 1), ('lived', 1), ('two', 1), ('brothers,', 1), ('sons', 1), ('poor', 1), ('man:one', 1), ('named', 1), ('other', 1), ('alibaba', 1), ('.', 1), ('elder...', 1)]\n",
      "\n",
      "\n",
      "[('cassim,', 2), ('town', 1), ('persia', 1), ('lived', 1), ('two', 1), ('brothers,', 1), ('sons', 1), ('poor', 1), ('man:one', 1), ('named', 1), ('other', 1), ('alibaba', 1), ('.', 1), ('elder...', 1)]\n",
      "\n",
      "\n",
      "['.', 'alibaba', 'brothers,', 'cassim,', 'elder...', 'lived', 'man:one', 'named', 'other', 'persia', 'poor', 'sons', 'town', 'two']\n"
     ]
    }
   ],
   "source": [
    "#단어 빈도수\n",
    "import operator\n",
    "\n",
    "alibaba = \" in a town of persia lived two brothers, sons of a poor man:one named cassim, the other alibaba . cassim, the elder...\"\n",
    "vocab = {}\n",
    "word_list = alibaba.split()\n",
    "\n",
    "for w in word_list:\n",
    "    if w not in vocab:\n",
    "        vocab[w] = 1\n",
    "    else:\n",
    "        vocab[w] += 1\n",
    "print(vocab)\n",
    "print('\\n')\n",
    "#내림차순 정렬\n",
    "print(sorted(vocab.items(),key=operator.itemgetter(1),reverse=True))\n",
    "#의미 없는 단어 제거\n",
    "meaningless = ['a','of','the','in']\n",
    "for word in meaningless:\n",
    "    del vocab[word]\n",
    "vocab_final = sorted(vocab.items(),key=operator.itemgetter(1),reverse=True)\n",
    "print('\\n')\n",
    "print(vocab_final)\n",
    "print('\\n')\n",
    "#1분 퀴즈(단어만 알파벳 순으로 정렬)\n",
    "print(sorted(vocab))"
   ]
  },
  {
   "cell_type": "markdown",
   "id": "6be81822",
   "metadata": {},
   "source": [
    "# 7장 실습"
   ]
  },
  {
   "cell_type": "markdown",
   "id": "b39d44ca",
   "metadata": {},
   "source": [
    "### 1번"
   ]
  },
  {
   "cell_type": "code",
   "execution_count": 71,
   "id": "73ea312a",
   "metadata": {},
   "outputs": [
    {
     "name": "stdout",
     "output_type": "stream",
     "text": [
      "{'월요일': 'Mon', '화요일': 'Tue', '목요일': 'Thu', '금요일': 'Fri', '토요일': 'Sat', '일요일': 'SUN'}\n"
     ]
    }
   ],
   "source": [
    "day = {'월요일':'Mon','화요일':'Tue','수요일':'Wed','목요일':'Thu','금요일':'Fri'}\n",
    "day['토요일'] = 'Sat'\n",
    "day['일요일'] = 'Sun'\n",
    "day['일요일'] = 'SUN'\n",
    "del day['수요일']\n",
    "print(day)"
   ]
  },
  {
   "cell_type": "markdown",
   "id": "ec41ea9a",
   "metadata": {},
   "source": [
    "### 2번"
   ]
  },
  {
   "cell_type": "code",
   "execution_count": 85,
   "id": "fd0f8648",
   "metadata": {},
   "outputs": [
    {
     "name": "stdout",
     "output_type": "stream",
     "text": [
      "{'역사대모험': 21000.0, '영단어': 9900.0, '파이썬': 17850.0, '여행에세이': 23100.0, '삼국지': 34650.0}\n"
     ]
    }
   ],
   "source": [
    "book = {'역사대모험':20000,\n",
    "        '영단어':9000,\n",
    "        '파이썬':17000,\n",
    "        '여행에세이':22000,\n",
    "        '삼국지':33000}\n",
    "for k,v in book.items():\n",
    "    if v <= 15000:\n",
    "        book[k] *= 1.1\n",
    "    else:\n",
    "        book[k] *= 1.05\n",
    "print(book)\n"
   ]
  },
  {
   "cell_type": "markdown",
   "id": "6d035e1a",
   "metadata": {},
   "source": [
    "### 3번"
   ]
  },
  {
   "cell_type": "code",
   "execution_count": 90,
   "id": "ce62b489",
   "metadata": {},
   "outputs": [
    {
     "name": "stdout",
     "output_type": "stream",
     "text": [
      "{'라이언': 956412, '니니즈': 861832, '어피치': 796354, '프로도': 534840, '네오': 387896}\n"
     ]
    }
   ],
   "source": [
    "import operator\n",
    "\n",
    "ranking = {'라이언':956412,\n",
    "           '어피치':796354,\n",
    "           '니니즈':861832,\n",
    "           '네오':387896,\n",
    "           '프로도':534840}\n",
    "ranking = dict(sorted(ranking.items(),key=operator.itemgetter(1),reverse=True))\n",
    "print(ranking)"
   ]
  },
  {
   "cell_type": "code",
   "execution_count": null,
   "id": "77383976",
   "metadata": {},
   "outputs": [],
   "source": []
  }
 ],
 "metadata": {
  "kernelspec": {
   "display_name": "Python 3 (ipykernel)",
   "language": "python",
   "name": "python3"
  },
  "language_info": {
   "codemirror_mode": {
    "name": "ipython",
    "version": 3
   },
   "file_extension": ".py",
   "mimetype": "text/x-python",
   "name": "python",
   "nbconvert_exporter": "python",
   "pygments_lexer": "ipython3",
   "version": "3.9.12"
  }
 },
 "nbformat": 4,
 "nbformat_minor": 5
}
