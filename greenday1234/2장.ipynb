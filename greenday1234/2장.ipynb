{
 "cells": [
  {
   "cell_type": "code",
   "execution_count": 1,
   "id": "d7aa5b3c",
   "metadata": {},
   "outputs": [
    {
     "name": "stdout",
     "output_type": "stream",
     "text": [
      "lets get it pythin\n"
     ]
    }
   ],
   "source": [
    "print('lets get it pythin')"
   ]
  },
  {
   "cell_type": "markdown",
   "id": "95abf039",
   "metadata": {},
   "source": [
    "Markdown을 사용하면 주석처리가 가능하다."
   ]
  },
  {
   "cell_type": "code",
   "execution_count": 10,
   "id": "1ea261de",
   "metadata": {},
   "outputs": [
    {
     "name": "stdout",
     "output_type": "stream",
     "text": [
      "lets get it\n"
     ]
    }
   ],
   "source": [
    "print(\"lets get it\")"
   ]
  },
  {
   "cell_type": "code",
   "execution_count": 11,
   "id": "33bd60ff",
   "metadata": {},
   "outputs": [
    {
     "name": "stdout",
     "output_type": "stream",
     "text": [
      "120\n"
     ]
    }
   ],
   "source": [
    "print(123-3)"
   ]
  },
  {
   "cell_type": "code",
   "execution_count": 13,
   "id": "5597ddf4",
   "metadata": {},
   "outputs": [
    {
     "name": "stdout",
     "output_type": "stream",
     "text": [
      "123 3\n"
     ]
    }
   ],
   "source": [
    "print(\"123\" + \"3\")"
   ]
  },
  {
   "cell_type": "markdown",
   "id": "54b41a9f",
   "metadata": {},
   "source": [
    "제곱 하는 방법"
   ]
  },
  {
   "cell_type": "code",
   "execution_count": 16,
   "id": "e6832c4a",
   "metadata": {},
   "outputs": [
    {
     "name": "stdout",
     "output_type": "stream",
     "text": [
      "25\n"
     ]
    }
   ],
   "source": [
    "print(5 ** 2)"
   ]
  },
  {
   "cell_type": "markdown",
   "id": "337996f1",
   "metadata": {},
   "source": [
    "몫 구하는 방법"
   ]
  },
  {
   "cell_type": "code",
   "execution_count": 17,
   "id": "c0a2541d",
   "metadata": {},
   "outputs": [
    {
     "name": "stdout",
     "output_type": "stream",
     "text": [
      "2\n"
     ]
    }
   ],
   "source": [
    "print(5 // 2)"
   ]
  },
  {
   "cell_type": "markdown",
   "id": "fea93333",
   "metadata": {},
   "source": [
    "*는 해당 문자를 3번 반복해라를 의미"
   ]
  },
  {
   "cell_type": "code",
   "execution_count": 18,
   "id": "568f77d5",
   "metadata": {},
   "outputs": [
    {
     "name": "stdout",
     "output_type": "stream",
     "text": [
      "파이썬파이썬파이썬\n"
     ]
    }
   ],
   "source": [
    "print(\"파이썬\" * 3)"
   ]
  },
  {
   "cell_type": "markdown",
   "id": "460b9494",
   "metadata": {},
   "source": [
    "+대신 ,를 사용해도 됨 (단, 공백 한 칸이 생김)"
   ]
  },
  {
   "cell_type": "code",
   "execution_count": 19,
   "id": "e7cf0c10",
   "metadata": {},
   "outputs": [
    {
     "name": "stdout",
     "output_type": "stream",
     "text": [
      "파이썬 굳\n"
     ]
    }
   ],
   "source": [
    "print(\"파이썬\",\"굳\")"
   ]
  },
  {
   "cell_type": "code",
   "execution_count": 20,
   "id": "ab3c8470",
   "metadata": {},
   "outputs": [
    {
     "name": "stdout",
     "output_type": "stream",
     "text": [
      "안녕\n"
     ]
    },
    {
     "data": {
      "text/plain": [
       "'안녕'"
      ]
     },
     "execution_count": 20,
     "metadata": {},
     "output_type": "execute_result"
    }
   ],
   "source": [
    "input()"
   ]
  },
  {
   "cell_type": "code",
   "execution_count": 21,
   "id": "51073dfe",
   "metadata": {},
   "outputs": [
    {
     "name": "stdout",
     "output_type": "stream",
     "text": [
      "3이건가?\n"
     ]
    },
    {
     "data": {
      "text/plain": [
       "'이건가?'"
      ]
     },
     "execution_count": 21,
     "metadata": {},
     "output_type": "execute_result"
    }
   ],
   "source": [
    "input(3)"
   ]
  },
  {
   "cell_type": "markdown",
   "id": "82454d8e",
   "metadata": {},
   "source": [
    "input 내부 텍스트는 안내문과 같은 역할\n"
   ]
  },
  {
   "cell_type": "code",
   "execution_count": 23,
   "id": "03d699d7",
   "metadata": {},
   "outputs": [
    {
     "name": "stdout",
     "output_type": "stream",
     "text": [
      "아이디 :아이디\n",
      "비밀번호 :비밀번호\n"
     ]
    },
    {
     "data": {
      "text/plain": [
       "'비밀번호'"
      ]
     },
     "execution_count": 23,
     "metadata": {},
     "output_type": "execute_result"
    }
   ],
   "source": [
    "input(\"아이디 :\" )\n",
    "input(\"비밀번호 :\" )"
   ]
  },
  {
   "cell_type": "code",
   "execution_count": 25,
   "id": "d0197b87",
   "metadata": {},
   "outputs": [
    {
     "name": "stdout",
     "output_type": "stream",
     "text": [
      "아이디: test\n",
      "비밀번호: 1234\n",
      "gilbut님 환영합니다! \n"
     ]
    }
   ],
   "source": [
    "input(\"아이디: \")\n",
    "input(\"비밀번호: \")\n",
    "print(\"gilbut님 환영합니다! \")"
   ]
  },
  {
   "cell_type": "markdown",
   "id": "b2e8b74f",
   "metadata": {},
   "source": [
    "파이썬은 내부에 함수를 쓰는 형식(괄호 연산자를 계산하는 것과 같이 괄호 안에 있는 함수 먼저 사용)"
   ]
  },
  {
   "cell_type": "code",
   "execution_count": 27,
   "id": "db82c292",
   "metadata": {},
   "outputs": [
    {
     "name": "stdout",
     "output_type": "stream",
     "text": [
      "아이디: 파이썬\n",
      "파이썬 님, 가입을 환영합니다!\n"
     ]
    }
   ],
   "source": [
    "print(input(\"아이디: \"),\"님, 가입을 환영합니다!\")"
   ]
  },
  {
   "cell_type": "markdown",
   "id": "285ef268",
   "metadata": {},
   "source": [
    "# 2장 실습"
   ]
  },
  {
   "cell_type": "markdown",
   "id": "56b999ff",
   "metadata": {},
   "source": [
    "### 1번"
   ]
  },
  {
   "cell_type": "code",
   "execution_count": 28,
   "id": "f77ce08e",
   "metadata": {},
   "outputs": [
    {
     "name": "stdout",
     "output_type": "stream",
     "text": [
      "무궁화 꽃이 피었습니다! 무궁화 꽃이 피었습니다! 무궁화 꽃이 피었습니다! \n"
     ]
    }
   ],
   "source": [
    "print(\"무궁화 꽃이 피었습니다! \" * 3)"
   ]
  },
  {
   "cell_type": "markdown",
   "id": "200230b2",
   "metadata": {},
   "source": [
    "### 3번"
   ]
  },
  {
   "cell_type": "code",
   "execution_count": 29,
   "id": "0e49f825",
   "metadata": {},
   "outputs": [
    {
     "name": "stdout",
     "output_type": "stream",
     "text": [
      "닉네임을 입력해 주세요. --> 라이언\n",
      "라이언님 안녕하세요.\n"
     ]
    }
   ],
   "source": [
    "print(input(\"닉네임을 입력해 주세요. --> \") + \"님 안녕하세요.\")"
   ]
  },
  {
   "cell_type": "code",
   "execution_count": null,
   "id": "7501d8b3",
   "metadata": {},
   "outputs": [],
   "source": []
  }
 ],
 "metadata": {
  "kernelspec": {
   "display_name": "Python 3 (ipykernel)",
   "language": "python",
   "name": "python3"
  },
  "language_info": {
   "codemirror_mode": {
    "name": "ipython",
    "version": 3
   },
   "file_extension": ".py",
   "mimetype": "text/x-python",
   "name": "python",
   "nbconvert_exporter": "python",
   "pygments_lexer": "ipython3",
   "version": "3.9.12"
  }
 },
 "nbformat": 4,
 "nbformat_minor": 5
}
